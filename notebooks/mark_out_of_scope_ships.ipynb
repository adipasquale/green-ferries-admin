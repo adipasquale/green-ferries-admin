{
  "metadata": {
    "language_info": {
      "codemirror_mode": {
        "name": "ipython",
        "version": 3
      },
      "file_extension": ".py",
      "mimetype": "text/x-python",
      "name": "python",
      "nbconvert_exporter": "python",
      "pygments_lexer": "ipython3",
      "version": "3.8.5-final"
    },
    "orig_nbformat": 2,
    "kernelspec": {
      "name": "python3",
      "display_name": "Python 3"
    }
  },
  "nbformat": 4,
  "nbformat_minor": 2,
  "cells": [
    {
      "cell_type": "code",
      "execution_count": 1,
      "metadata": {},
      "outputs": [],
      "source": [
        "import os\n",
        "import json\n",
        "import re\n",
        "import pandas as pd\n",
        "import numpy as np\n",
        "from slugify import slugify\n",
        "import frontmatter\n",
        "\n",
        "DIRNAME = os.path.abspath('')\n",
        "THETIS_CSV_PATH = os.path.join(DIRNAME, \"../files_computed/thetis_all_with_computed.csv\")\n",
        "WIKIDATA_SHIPS_CSV_PATH = os.path.join(DIRNAME, \"../files_original/original.wikidata.ships.csv\")\n",
        "WIKIDATA_URLS_CSV_PATH = os.path.join(DIRNAME, \"../files_original/original.wikidata.urls.csv\")\n",
        "WWW_SHIPS_DATA_PATH = os.path.join(DIRNAME, \"../../www/11ty_input/ships\")"
      ]
    },
    {
      "cell_type": "code",
      "execution_count": 19,
      "metadata": {},
      "outputs": [
        {
          "output_type": "execute_result",
          "data": {
            "text/plain": [
              "                                              mdPath         company      imo  \\\n",
              "0  /Users/adipasquale/dev/greenferries/data/noteb...   stena-line-se  9332559   \n",
              "1  /Users/adipasquale/dev/greenferries/data/noteb...  tui-cruises-de  9783576   \n",
              "2  /Users/adipasquale/dev/greenferries/data/noteb...   anek-lines-gr  7814046   \n",
              "3  /Users/adipasquale/dev/greenferries/data/noteb...      tallink-ee  9364722   \n",
              "4  /Users/adipasquale/dev/greenferries/data/noteb...   unity-line-pl  9108350   \n",
              "\n",
              "  layout              name outOfScope                      routes  \\\n",
              "0   ship  MS Stena Horizon      False  [cherbourg-fr-rosslare-ie]   \n",
              "1   ship     Mein Schiff 2        NaN                          []   \n",
              "2   ship          Q3817075      False                          []   \n",
              "3   ship           MS Star        NaN    [helsinki-fi-tallinn-ee]   \n",
              "4   ship         Q11764893      False   [ystad-se-swinoujscie-pl]   \n",
              "\n",
              "                       slug    tags  \\\n",
              "0  ms-stena-horizon-9332559  [ship]   \n",
              "1     mein-schiff-2-9783576  [ship]   \n",
              "2          q3817075-7814046  [ship]   \n",
              "3           ms-star-9364722  [ship]   \n",
              "4         q11764893-9108350  [ship]   \n",
              "\n",
              "                                               photo unknownRoutes  \\\n",
              "0  /img/300px-Stena_Horizon_approaching_Rosslare_...         False   \n",
              "1                     /img/mein-schiff-2-9783576.jpg           NaN   \n",
              "2             /img/300px-20080814-Piraeus-Kriti1.jpg          True   \n",
              "3                /img/300px-190407_Star_Helsinki.jpg           NaN   \n",
              "4          /img/300px-Polonia_3_by_jakub_bogucki.jpg         False   \n",
              "\n",
              "                                     wikipediaUrl  capacityPax  \n",
              "0  https://en.wikipedia.org/wiki/MS_Stena_Horizon          NaN  \n",
              "1                                             NaN          NaN  \n",
              "2           https://fr.wikipedia.org/wiki/Kriti_I       1600.0  \n",
              "3           https://en.wikipedia.org/wiki/MS_Star       1900.0  \n",
              "4        https://pl.wikipedia.org/wiki/MF_Polonia          NaN  "
            ],
            "text/html": "<div>\n<style scoped>\n    .dataframe tbody tr th:only-of-type {\n        vertical-align: middle;\n    }\n\n    .dataframe tbody tr th {\n        vertical-align: top;\n    }\n\n    .dataframe thead th {\n        text-align: right;\n    }\n</style>\n<table border=\"1\" class=\"dataframe\">\n  <thead>\n    <tr style=\"text-align: right;\">\n      <th></th>\n      <th>mdPath</th>\n      <th>company</th>\n      <th>imo</th>\n      <th>layout</th>\n      <th>name</th>\n      <th>outOfScope</th>\n      <th>routes</th>\n      <th>slug</th>\n      <th>tags</th>\n      <th>photo</th>\n      <th>unknownRoutes</th>\n      <th>wikipediaUrl</th>\n      <th>capacityPax</th>\n    </tr>\n  </thead>\n  <tbody>\n    <tr>\n      <th>0</th>\n      <td>/Users/adipasquale/dev/greenferries/data/noteb...</td>\n      <td>stena-line-se</td>\n      <td>9332559</td>\n      <td>ship</td>\n      <td>MS Stena Horizon</td>\n      <td>False</td>\n      <td>[cherbourg-fr-rosslare-ie]</td>\n      <td>ms-stena-horizon-9332559</td>\n      <td>[ship]</td>\n      <td>/img/300px-Stena_Horizon_approaching_Rosslare_...</td>\n      <td>False</td>\n      <td>https://en.wikipedia.org/wiki/MS_Stena_Horizon</td>\n      <td>NaN</td>\n    </tr>\n    <tr>\n      <th>1</th>\n      <td>/Users/adipasquale/dev/greenferries/data/noteb...</td>\n      <td>tui-cruises-de</td>\n      <td>9783576</td>\n      <td>ship</td>\n      <td>Mein Schiff 2</td>\n      <td>NaN</td>\n      <td>[]</td>\n      <td>mein-schiff-2-9783576</td>\n      <td>[ship]</td>\n      <td>/img/mein-schiff-2-9783576.jpg</td>\n      <td>NaN</td>\n      <td>NaN</td>\n      <td>NaN</td>\n    </tr>\n    <tr>\n      <th>2</th>\n      <td>/Users/adipasquale/dev/greenferries/data/noteb...</td>\n      <td>anek-lines-gr</td>\n      <td>7814046</td>\n      <td>ship</td>\n      <td>Q3817075</td>\n      <td>False</td>\n      <td>[]</td>\n      <td>q3817075-7814046</td>\n      <td>[ship]</td>\n      <td>/img/300px-20080814-Piraeus-Kriti1.jpg</td>\n      <td>True</td>\n      <td>https://fr.wikipedia.org/wiki/Kriti_I</td>\n      <td>1600.0</td>\n    </tr>\n    <tr>\n      <th>3</th>\n      <td>/Users/adipasquale/dev/greenferries/data/noteb...</td>\n      <td>tallink-ee</td>\n      <td>9364722</td>\n      <td>ship</td>\n      <td>MS Star</td>\n      <td>NaN</td>\n      <td>[helsinki-fi-tallinn-ee]</td>\n      <td>ms-star-9364722</td>\n      <td>[ship]</td>\n      <td>/img/300px-190407_Star_Helsinki.jpg</td>\n      <td>NaN</td>\n      <td>https://en.wikipedia.org/wiki/MS_Star</td>\n      <td>1900.0</td>\n    </tr>\n    <tr>\n      <th>4</th>\n      <td>/Users/adipasquale/dev/greenferries/data/noteb...</td>\n      <td>unity-line-pl</td>\n      <td>9108350</td>\n      <td>ship</td>\n      <td>Q11764893</td>\n      <td>False</td>\n      <td>[ystad-se-swinoujscie-pl]</td>\n      <td>q11764893-9108350</td>\n      <td>[ship]</td>\n      <td>/img/300px-Polonia_3_by_jakub_bogucki.jpg</td>\n      <td>False</td>\n      <td>https://pl.wikipedia.org/wiki/MF_Polonia</td>\n      <td>NaN</td>\n    </tr>\n  </tbody>\n</table>\n</div>"
          },
          "metadata": {},
          "execution_count": 19
        }
      ],
      "source": [
        "all_ships = []\n",
        "for filename in os.listdir(WWW_SHIPS_DATA_PATH):\n",
        "    if not re.match(r\".*-(\\d+)\\.md\", filename):\n",
        "        continue\n",
        "    path = os.path.join(WWW_SHIPS_DATA_PATH, filename)\n",
        "    ship_frontmatter = frontmatter.load(path)\n",
        "    all_ships.append({ \"mdPath\": path, **ship_frontmatter.metadata })\n",
        "df = pd.DataFrame(all_ships)\n",
        "df.head()"
      ]
    },
    {
      "cell_type": "code",
      "execution_count": 14,
      "metadata": {},
      "outputs": [
        {
          "output_type": "execute_result",
          "data": {
            "text/plain": [
              "royal-caribbean-international-us    12\n",
              "aida-cruises-de                      9\n",
              "costa-cruises-it                     7\n",
              "msc-cruises-it                       5\n",
              "celebrity-cruises-us                 4\n",
              "regent-seven-seas-cruises-us         3\n",
              "princess-cruises-us                  3\n",
              "hapag-lloyd-de                       3\n",
              "fred-olsen-cruise-lines-no           3\n",
              "azamara-club-cruises-us              2\n",
              "seatrans-norway-no                   2\n",
              "phoenix-reisen-de                    2\n",
              "saga-cruises-gb                      2\n",
              "cunard-line-gb                       2\n",
              "holland-america-line-us              2\n",
              "birka-line-se                        1\n",
              "far-east-shipping-company-ru         1\n",
              "disney-cruise-line-us                1\n",
              "salamis-cruises-cy                   1\n",
              "tui-cruises-de                       1\n",
              "color-line-no                        1\n",
              "carnival-cruise-line-us              1\n",
              "trasmediterranea-es                  1\n",
              "road-scholar-us                      1\n",
              "cruise-maritime-voyages-gb           1\n",
              "unity-line-pl                        1\n",
              "crystal-cruises-us                   1\n",
              "transocean-tours-de                  1\n",
              "g-adventures-ca                      1\n",
              "nippon-yusen-jp                      1\n",
              "kristina-cruises-fi                  1\n",
              "p-o-ferries-gb                       1\n",
              "Name: company, dtype: int64"
            ]
          },
          "metadata": {},
          "execution_count": 14
        }
      ],
      "source": [
        "df[df.outOfScope == True]['company'].value_counts()"
      ]
    },
    {
      "cell_type": "code",
      "execution_count": 27,
      "metadata": {},
      "outputs": [
        {
          "output_type": "execute_result",
          "data": {
            "text/plain": [
              "['saga-cruises-gb',\n",
              " 'tui-cruises-de',\n",
              " 'crystal-cruises-us',\n",
              " 'aida-cruises-de',\n",
              " 'azamara-club-cruises-us',\n",
              " 'cruise-maritime-voyages-gb',\n",
              " 'celebrity-cruises-us',\n",
              " 'salamis-cruises-cy',\n",
              " 'fred-olsen-cruise-lines-no',\n",
              " 'disney-cruise-line-us',\n",
              " 'kristina-cruises-fi',\n",
              " 'costa-cruises-it',\n",
              " 'carnival-cruise-line-us',\n",
              " 'regent-seven-seas-cruises-us',\n",
              " 'princess-cruises-us',\n",
              " 'msc-cruises-it']"
            ]
          },
          "metadata": {},
          "execution_count": 27
        }
      ],
      "source": [
        "cruiseCompanies = [c for c in set(df[df.outOfScope == True]['company']) if \"cruise\" in c]\n",
        "cruiseCompanies"
      ]
    },
    {
      "cell_type": "code",
      "execution_count": 37,
      "metadata": {},
      "outputs": [],
      "source": [
        "for _idx, row in df[df.company.isin(cruiseCompanies)][df.outOfScope != True].iterrows():\n",
        "    row_dict = row.to_dict()\n",
        "    ship_frontmatter = frontmatter.load(row_dict[\"mdPath\"])\n",
        "    ship_frontmatter.metadata[\"outOfScope\"] = True\n",
        "    with open(row_dict[\"mdPath\"], \"w\") as f:\n",
        "        f.write(frontmatter.dumps(ship_frontmatter))\n"
      ]
    },
    {
      "cell_type": "code",
      "execution_count": null,
      "metadata": {},
      "outputs": [],
      "source": []
    }
  ]
}
