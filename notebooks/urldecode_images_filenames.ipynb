{
 "cells": [
  {
   "cell_type": "code",
   "execution_count": 16,
   "metadata": {},
   "outputs": [],
   "source": [
    "import os\n",
    "import urllib.parse\n",
    "IMG_PATH = \"../../www/assets/img\""
   ]
  },
  {
   "cell_type": "code",
   "execution_count": 17,
   "metadata": {},
   "outputs": [],
   "source": [
    "filenames = os.listdir(IMG_PATH)"
   ]
  },
  {
   "cell_type": "code",
   "execution_count": 18,
   "metadata": {},
   "outputs": [
    {
     "name": "stdout",
     "output_type": "stream",
     "text": [
      "300px-Excelsior_%28ship%2C_1999%29%2C_S%C3%A8te_01.jpg\n"
     ]
    }
   ],
   "source": [
    "filename = filenames[3]\n",
    "print(filename)"
   ]
  },
  {
   "cell_type": "code",
   "execution_count": 19,
   "metadata": {},
   "outputs": [
    {
     "data": {
      "text/plain": [
       "'300px-Excelsior_(ship,_1999),_Sète_01.jpg'"
      ]
     },
     "execution_count": 19,
     "metadata": {},
     "output_type": "execute_result"
    }
   ],
   "source": [
    "urllib.parse.unquote(filename)"
   ]
  },
  {
   "cell_type": "code",
   "execution_count": 27,
   "metadata": {},
   "outputs": [
    {
     "name": "stdout",
     "output_type": "stream",
     "text": [
      "mv \"../../www/assets/img/300px-Excelsior_%28ship%2C_1999%29%2C_S%C3%A8te_01.jpg\" \"../../www/assets/img/300px-Excelsior_(ship,_1999),_Sète_01.jpg\"\n",
      "mv \"../../www/assets/img/300px-Pullmantur_Cruises_Sovereign_04_IMO_8512281_%40chesi.JPG\" \"../../www/assets/img/300px-Pullmantur_Cruises_Sovereign_04_IMO_8512281_@chesi.JPG\"\n",
      "mv \"../../www/assets/img/300px-MARIA_GRAZIA_ON_15-05-2007_%282%29.jpg\" \"../../www/assets/img/300px-MARIA_GRAZIA_ON_15-05-2007_(2).jpg\"\n",
      "mv \"../../www/assets/img/300px-Princess_Seaways%2C_River_Tyne%2C_17_September_2014_%281%29.JPG\" \"../../www/assets/img/300px-Princess_Seaways,_River_Tyne,_17_September_2014_(1).JPG\"\n",
      "mv \"../../www/assets/img/300px-Kristina_Katarina_Etel%C3%A4satama_4.JPG\" \"../../www/assets/img/300px-Kristina_Katarina_Eteläsatama_4.JPG\"\n",
      "mv \"../../www/assets/img/300px-Scandlines_F%C3%A4hrschiff_Deutschland_%28IMO_9151541%29_einlaufend_Puttgarden_%2801-2%29.JPG\" \"../../www/assets/img/300px-Scandlines_Fährschiff_Deutschland_(IMO_9151541)_einlaufend_Puttgarden_(01-2).JPG\"\n",
      "mv \"../../www/assets/img/300px-Zenith_%28ship%2C_1992%29.jpg\" \"../../www/assets/img/300px-Zenith_(ship,_1992).jpg\"\n",
      "mv \"../../www/assets/img/300px-Amadea_%28ship%2C_1991%29_IMO_8913162%3B_in_Split%2C_2011-11-14_%282%29.jpg\" \"../../www/assets/img/300px-Amadea_(ship,_1991)_IMO_8913162;_in_Split,_2011-11-14_(2).jpg\"\n",
      "mv \"../../www/assets/img/300px-%22Mein_Schiff_4%22_Kiel.JPG\" \"../../www/assets/img/300px-\"Mein_Schiff_4\"_Kiel.JPG\"\n",
      "mv \"../../www/assets/img/300px-AIDAstella%2C_6.jpg\" \"../../www/assets/img/300px-AIDAstella,_6.jpg\"\n",
      "mv \"../../www/assets/img/300px-Viking_Sky_%28ship%2C_2017%29_-_S%C3%A8te_-_December_2018.jpg\" \"../../www/assets/img/300px-Viking_Sky_(ship,_2017)_-_Sète_-_December_2018.jpg\"\n",
      "mv \"../../www/assets/img/300px-Scandlines_F%C3%A4hrschiff_Prins_Joachim_%28IMO_7803190%29_einlaufend_Rostock_%2801-2%29.jpg\" \"../../www/assets/img/300px-Scandlines_Fährschiff_Prins_Joachim_(IMO_7803190)_einlaufend_Rostock_(01-2).jpg\"\n",
      "mv \"../../www/assets/img/300px-Celebrity_Silhouette%2C_Le_Havre_%282016%29.jpg\" \"../../www/assets/img/300px-Celebrity_Silhouette,_Le_Havre_(2016).jpg\"\n",
      "mv \"../../www/assets/img/300px-MSC_Musica_in_Dubrovnik%2C_2008_%28cropped%29.JPG\" \"../../www/assets/img/300px-MSC_Musica_in_Dubrovnik,_2008_(cropped).JPG\"\n",
      "mv \"../../www/assets/img/300px-Nuraghes%2C_18-08-2012_%282%29.JPG\" \"../../www/assets/img/300px-Nuraghes,_18-08-2012_(2).JPG\"\n",
      "mv \"../../www/assets/img/300px-RMS_Queen_Mary_2_%286973549904%29.jpg\" \"../../www/assets/img/300px-RMS_Queen_Mary_2_(6973549904).jpg\"\n",
      "mv \"../../www/assets/img/300px-Mein_Schiff_5_leaving_Kiel_I_%28cropped%29.jpg\" \"../../www/assets/img/300px-Mein_Schiff_5_leaving_Kiel_I_(cropped).jpg\"\n",
      "mv \"../../www/assets/img/300px-Azamara_Quest_%28ship%2C_2000%29_IMO_9210218%3B_Split%2C_2013-09-29_%281%29.jpg\" \"../../www/assets/img/300px-Azamara_Quest_(ship,_2000)_IMO_9210218;_Split,_2013-09-29_(1).jpg\"\n",
      "mv \"../../www/assets/img/300px-Stena_Nautica_p%C3%A5_v%C3%A4g_in_i_Varbergs_hamn.jpg\" \"../../www/assets/img/300px-Stena_Nautica_på_väg_in_i_Varbergs_hamn.jpg\"\n",
      "mv \"../../www/assets/img/300px-Scandlines_FS_Kronprins_Frederik_Warnem%C3%BCnde_%2807%29.JPG\" \"../../www/assets/img/300px-Scandlines_FS_Kronprins_Frederik_Warnemünde_(07).JPG\"\n",
      "mv \"../../www/assets/img/300px-Riviera_%28ship%2C_2012%29%2C_S%C3%A8te_cf01.jpg\" \"../../www/assets/img/300px-Riviera_(ship,_2012),_Sète_cf01.jpg\"\n",
      "mv \"../../www/assets/img/300px-PLota19%282%29.jpg\" \"../../www/assets/img/300px-PLota19(2).jpg\"\n",
      "mv \"../../www/assets/img/300px-Ferry_Carthage_%28CTN%29_entrant_au_Port_La_Goulette_%28Tunisie%29.jpg\" \"../../www/assets/img/300px-Ferry_Carthage_(CTN)_entrant_au_Port_La_Goulette_(Tunisie).jpg\"\n",
      "mv \"../../www/assets/img/300px-AF_Michela_in_Durres_%28April_2019%29.jpg\" \"../../www/assets/img/300px-AF_Michela_in_Durres_(April_2019).jpg\"\n",
      "mv \"../../www/assets/img/300px-MS_Vester%C3%A5len_i_styrbord_profil.jpg\" \"../../www/assets/img/300px-MS_Vesterålen_i_styrbord_profil.jpg\"\n",
      "mv \"../../www/assets/img/300px-Mykonos_EM1B8684_%2824779148068%29.jpg\" \"../../www/assets/img/300px-Mykonos_EM1B8684_(24779148068).jpg\"\n",
      "mv \"../../www/assets/img/300px-SymphonyOfTheSeas_%28cropped%29_02.jpg\" \"../../www/assets/img/300px-SymphonyOfTheSeas_(cropped)_02.jpg\"\n",
      "mv \"../../www/assets/img/300px-Vision_of_the_Seas_departing_Tallinn_19_August_2013_%28cropped%29.JPG\" \"../../www/assets/img/300px-Vision_of_the_Seas_departing_Tallinn_19_August_2013_(cropped).JPG\"\n",
      "mv \"../../www/assets/img/300px-Cap_Finist%C3%A8re.jpg\" \"../../www/assets/img/300px-Cap_Finistère.jpg\"\n",
      "mv \"../../www/assets/img/300px-SuperSpeed_1_%281%29.jpg\" \"../../www/assets/img/300px-SuperSpeed_1_(1).jpg\"\n",
      "mv \"../../www/assets/img/300px-SeaFrance_Moli%C3%A8re_light_cropped.jpg\" \"../../www/assets/img/300px-SeaFrance_Molière_light_cropped.jpg\"\n",
      "mv \"../../www/assets/img/300px-Kalliste_La_M%C3%A9ridionale_pict3.JPG\" \"../../www/assets/img/300px-Kalliste_La_Méridionale_pict3.JPG\"\n",
      "mv \"../../www/assets/img/300px-Seabourn_Encore_%28ship%2C_2016%29%2C_S%C3%A8te_cf01.jpg\" \"../../www/assets/img/300px-Seabourn_Encore_(ship,_2016),_Sète_cf01.jpg\"\n",
      "mv \"../../www/assets/img/300px-Rhapsody_%28ship%2C_1996%29%2C_S%C3%A8te_cf01.jpg\" \"../../www/assets/img/300px-Rhapsody_(ship,_1996),_Sète_cf01.jpg\"\n",
      "mv \"../../www/assets/img/300px-MSC_SPLENDIDA_%2820037774212%29.jpg\" \"../../www/assets/img/300px-MSC_SPLENDIDA_(20037774212).jpg\"\n",
      "mv \"../../www/assets/img/300px-Seabourn_Odyssey_%28ship%2C_2009%29_IMO_9417086_in_Split%2C_2011-11-16_%282%29.jpg\" \"../../www/assets/img/300px-Seabourn_Odyssey_(ship,_2009)_IMO_9417086_in_Split,_2011-11-16_(2).jpg\"\n",
      "mv \"../../www/assets/img/300px-Finnhansa_Travem%C3%BCnde_%282008%29.JPG\" \"../../www/assets/img/300px-Finnhansa_Travemünde_(2008).JPG\"\n",
      "mv \"../../www/assets/img/300px-NorthLink_ferry_Hrossey_leaving_Aberdeen_Harbour_%28geograph_4347282%29.jpg\" \"../../www/assets/img/300px-NorthLink_ferry_Hrossey_leaving_Aberdeen_Harbour_(geograph_4347282).jpg\"\n",
      "mv \"../../www/assets/img/300px-Amsicora_%2828-01-2013%29_%282%29.JPG\" \"../../www/assets/img/300px-Amsicora_(28-01-2013)_(2).JPG\"\n",
      "mv \"../../www/assets/img/300px-Grimaldi_Ferries%2C_nave_Cruise_Olbia_%2801%29.jpg\" \"../../www/assets/img/300px-Grimaldi_Ferries,_nave_Cruise_Olbia_(01).jpg\"\n",
      "mv \"../../www/assets/img/300px-%D8%A8%D8%A7%D8%AE%D8%B1%D8%A9_%D8%AC%D8%B2%D8%A7%D8%A6%D8%B1%D9%8A%D8%A9_%D9%81%D9%8A_%D9%85%D9%8A%D9%86%D8%A7%D8%A1_%D8%B9%D9%86%D8%A7%D8%A8%D8%A9_%D8%A7%D9%84%D8%B9%D8%A7%D9%84%D9%85%D9%8A.jpeg\" \"../../www/assets/img/300px-باخرة_جزائرية_في_ميناء_عنابة_العالمي.jpeg\"\n",
      "mv \"../../www/assets/img/300px-Seabourn_Quest_%28ship%29%2C_S%C3%A8te%2C_H%C3%A9rault_01.jpg\" \"../../www/assets/img/300px-Seabourn_Quest_(ship),_Sète,_Hérault_01.jpg\"\n",
      "mv \"../../www/assets/img/300px-Viking_Line_%28Mariella%29_Katajanokka_Harbour_Helsinki_3.jpg\" \"../../www/assets/img/300px-Viking_Line_(Mariella)_Katajanokka_Harbour_Helsinki_3.jpg\"\n",
      "mv \"../../www/assets/img/300px-INDEPENDENCE_OF_THE_SEAS_%2843623180144%29.jpg\" \"../../www/assets/img/300px-INDEPENDENCE_OF_THE_SEAS_(43623180144).jpg\"\n",
      "mv \"../../www/assets/img/300px-Maga_Express_Five_IMO_9035101_01_%40chesi.JPG\" \"../../www/assets/img/300px-Maga_Express_Five_IMO_9035101_01_@chesi.JPG\"\n",
      "mv \"../../www/assets/img/300px-The_%22European_Causeway%22_at_Larne_-_geograph.org.uk_-_1196641.jpg\" \"../../www/assets/img/300px-The_\"European_Causeway\"_at_Larne_-_geograph.org.uk_-_1196641.jpg\"\n",
      "mv \"../../www/assets/img/300px-MV_Nissos_Rodos-_Hellenic_Seaways_Cargo_%2810578108653%29.jpg\" \"../../www/assets/img/300px-MV_Nissos_Rodos-_Hellenic_Seaways_Cargo_(10578108653).jpg\"\n",
      "mv \"../../www/assets/img/300px-MS_Finntrader_Travem%C3%BCnde.JPG\" \"../../www/assets/img/300px-MS_Finntrader_Travemünde.JPG\"\n",
      "mv \"../../www/assets/img/300px-Norman_Asturias_being_turned_by_the_tugs_at_Poole_Quay_%2811133167735%29.jpg\" \"../../www/assets/img/300px-Norman_Asturias_being_turned_by_the_tugs_at_Poole_Quay_(11133167735).jpg\"\n",
      "mv \"../../www/assets/img/300px-MV_Hjaltland_%28geograph_4326361%29.jpg\" \"../../www/assets/img/300px-MV_Hjaltland_(geograph_4326361).jpg\"\n",
      "mv \"../../www/assets/img/300px-Navigator_of_the_Seas_2014_Galveston_1_%28cropped%29.JPG\" \"../../www/assets/img/300px-Navigator_of_the_Seas_2014_Galveston_1_(cropped).JPG\"\n",
      "mv \"../../www/assets/img/300px-MS_Astor%2C_Fremantle%2C_2016_%2804%29.JPG\" \"../../www/assets/img/300px-MS_Astor,_Fremantle,_2016_(04).JPG\"\n",
      "mv \"../../www/assets/img/300px-Marina_%28ship%2C_2011%29%2C_S%C3%A8te_01.jpg\" \"../../www/assets/img/300px-Marina_(ship,_2011),_Sète_01.jpg\"\n",
      "mv \"../../www/assets/img/300px-TT-Line_FS_Tom_Sawyer_Warnem%C3%BCnde_%2804%29.JPG\" \"../../www/assets/img/300px-TT-Line_FS_Tom_Sawyer_Warnemünde_(04).JPG\"\n",
      "mv \"../../www/assets/img/300px-MS_Viking_XPRS%2C_Jun2016.jpg\" \"../../www/assets/img/300px-MS_Viking_XPRS,_Jun2016.jpg\"\n",
      "mv \"../../www/assets/img/300px-Azamara_Journey%2C_Fremantle%2C_2018_%2804%29.jpg\" \"../../www/assets/img/300px-Azamara_Journey,_Fremantle,_2018_(04).jpg\"\n",
      "mv \"../../www/assets/img/300px-Nils_Holgersson_Travem%C3%BCnde.JPG\" \"../../www/assets/img/300px-Nils_Holgersson_Travemünde.JPG\"\n",
      "mv \"../../www/assets/img/300px-%22Majestic%22_-_S%C3%A8te%2C_2015.JPG\" \"../../www/assets/img/300px-\"Majestic\"_-_Sète,_2015.JPG\"\n",
      "mv \"../../www/assets/img/300px-Oslofjord_%283%29.JPG\" \"../../www/assets/img/300px-Oslofjord_(3).JPG\"\n",
      "mv \"../../www/assets/img/300px-Moby_Drea%2C_Livorno.jpg\" \"../../www/assets/img/300px-Moby_Drea,_Livorno.jpg\"\n"
     ]
    },
    {
     "name": "stdout",
     "output_type": "stream",
     "text": [
      "mv \"../../www/assets/img/300px-Aida_perla%2C_Le_Havre%2C_mars_2018_%28cropped%29.jpg\" \"../../www/assets/img/300px-Aida_perla,_Le_Havre,_mars_2018_(cropped).jpg\"\n",
      "mv \"../../www/assets/img/300px-Delft_Seaways_Dover_09_December_2012_%281%29.JPG\" \"../../www/assets/img/300px-Delft_Seaways_Dover_09_December_2012_(1).JPG\"\n",
      "mv \"../../www/assets/img/300px-Corsica_Ferries_Sardinia_Regina_04_IMO_7205910_%40chesi.JPG\" \"../../www/assets/img/300px-Corsica_Ferries_Sardinia_Regina_04_IMO_7205910_@chesi.JPG\"\n",
      "mv \"../../www/assets/img/300px-Crown_of_Scandinavia_DFDS_Oslo_Vippetangen_%28143603%29.jpg\" \"../../www/assets/img/300px-Crown_of_Scandinavia_DFDS_Oslo_Vippetangen_(143603).jpg\"\n",
      "mv \"../../www/assets/img/300px-Seven_Seas_Navigator%2C_Fremantle%2C_2018_%2806%29.jpg\" \"../../www/assets/img/300px-Seven_Seas_Navigator,_Fremantle,_2018_(06).jpg\"\n",
      "mv \"../../www/assets/img/300px-Seven_Seas_Voyager_%28ship%2C_2003%29%2C_S%C3%A8te_01.jpg\" \"../../www/assets/img/300px-Seven_Seas_Voyager_(ship,_2003),_Sète_01.jpg\"\n",
      "mv \"../../www/assets/img/300px-Hellenic_Spirit_%28ANEK-Lines%29_2011.jpg\" \"../../www/assets/img/300px-Hellenic_Spirit_(ANEK-Lines)_2011.jpg\"\n",
      "mv \"../../www/assets/img/300px-Stena_Britannica_at_Nieuwe_Waterweg%2C_16.11.2016.jpg\" \"../../www/assets/img/300px-Stena_Britannica_at_Nieuwe_Waterweg,_16.11.2016.jpg\"\n",
      "mv \"../../www/assets/img/300px-Nieuw_Statendam_2019_%282%29.jpg\" \"../../www/assets/img/300px-Nieuw_Statendam_2019_(2).jpg\"\n",
      "mv \"../../www/assets/img/300px-Black_Watch_in_Funchal_July_2nd_2016_%28cropped%29.jpg\" \"../../www/assets/img/300px-Black_Watch_in_Funchal_July_2nd_2016_(cropped).jpg\"\n",
      "mv \"../../www/assets/img/300px-MS_Ecker%C3%B62.JPG\" \"../../www/assets/img/300px-MS_Eckerö2.JPG\"\n",
      "mv \"../../www/assets/img/300px-CMV_Magellan_Anchored_in_Fl%C3%A5m_20150617_1.jpg\" \"../../www/assets/img/300px-CMV_Magellan_Anchored_in_Flåm_20150617_1.jpg\"\n",
      "mv \"../../www/assets/img/300px-Balmoral_turning_%28cropped%29.jpg\" \"../../www/assets/img/300px-Balmoral_turning_(cropped).jpg\"\n",
      "mv \"../../www/assets/img/300px-King_Seaways_%28ship%2C_1987%29_001.jpg\" \"../../www/assets/img/300px-King_Seaways_(ship,_1987)_001.jpg\"\n",
      "mv \"../../www/assets/img/300px-MSC_Armonia_%28ship%2C_2001%29_IMO_9210141%3B_in_Split%2C_2011-10-25_%282%29.jpg\" \"../../www/assets/img/300px-MSC_Armonia_(ship,_2001)_IMO_9210141;_in_Split,_2011-10-25_(2).jpg\"\n",
      "mv \"../../www/assets/img/300px-Piana_%C3%A0_quai.jpg\" \"../../www/assets/img/300px-Piana_à_quai.jpg\"\n",
      "mv \"../../www/assets/img/300px-Scandlines_F%C3%A4hrschiff_Urd_%28IMO_7826855%29_in_Rostock_%2801-2%29.jpg\" \"../../www/assets/img/300px-Scandlines_Fährschiff_Urd_(IMO_7826855)_in_Rostock_(01-2).jpg\"\n",
      "mv \"../../www/assets/img/300px-Boudicca_at_Funchal_2016_%28bigger%29.jpg\" \"../../www/assets/img/300px-Boudicca_at_Funchal_2016_(bigger).jpg\"\n",
      "mv \"../../www/assets/img/300px-MSC_Meraviglia_Grand_Harbour_Malta_20180307_03_%28cropped%29.jpg\" \"../../www/assets/img/300px-MSC_Meraviglia_Grand_Harbour_Malta_20180307_03_(cropped).jpg\"\n",
      "mv \"../../www/assets/img/300px-Puerto_de_barcelona_-_panoramio_%289%29_%28cropped%29.jpg\" \"../../www/assets/img/300px-Puerto_de_barcelona_-_panoramio_(9)_(cropped).jpg\"\n",
      "mv \"../../www/assets/img/300px-Le_Calais_Seaways%2C_ex_Norman_Spirit%2C_quittant_le_Poste_8_du_Port_de_Calais.jpg\" \"../../www/assets/img/300px-Le_Calais_Seaways,_ex_Norman_Spirit,_quittant_le_Poste_8_du_Port_de_Calais.jpg\"\n",
      "mv \"../../www/assets/img/300px-Monte_d%27Oro_Corsica_Linea.jpg\" \"../../www/assets/img/300px-Monte_d'Oro_Corsica_Linea.jpg\"\n",
      "mv \"../../www/assets/img/300px-C%C3%B4te_d%27Alb%C3%A2tre_ferry_le_havre.JPG\" \"../../www/assets/img/300px-Côte_d'Albâtre_ferry_le_havre.JPG\"\n",
      "mv \"../../www/assets/img/300px-Artania_in_Port_of_Tallinn_18_May_2012_%28cropped%29.JPG\" \"../../www/assets/img/300px-Artania_in_Port_of_Tallinn_18_May_2012_(cropped).JPG\"\n",
      "mv \"../../www/assets/img/300px-BREAMAR_%2836487157951%29.jpg\" \"../../www/assets/img/300px-BREAMAR_(36487157951).jpg\"\n",
      "mv \"../../www/assets/img/300px-MN_Aurelia%2C_18-04-2011%2C_Genova.JPG\" \"../../www/assets/img/300px-MN_Aurelia,_18-04-2011,_Genova.JPG\"\n",
      "mv \"../../www/assets/img/300px-Marella_Explorer%2C_Stockholm%2C_2019_%2801%29.jpg\" \"../../www/assets/img/300px-Marella_Explorer,_Stockholm,_2019_(01).jpg\"\n",
      "mv \"../../www/assets/img/300px-Stena_Mersey%2C_River_Mersey_%28geograph_4593080%29.jpg\" \"../../www/assets/img/300px-Stena_Mersey,_River_Mersey_(geograph_4593080).jpg\"\n",
      "mv \"../../www/assets/img/300px-Port_of_Istanbul%2C_Turkey_001.jpg\" \"../../www/assets/img/300px-Port_of_Istanbul,_Turkey_001.jpg\"\n",
      "mv \"../../www/assets/img/300px-MV_%C3%89tretat_%28Le_Havre%2C_2015%29.jpg\" \"../../www/assets/img/300px-MV_Étretat_(Le_Havre,_2015).jpg\"\n",
      "mv \"../../www/assets/img/300px-2018-07-05_Regal_Princess_%281%29.jpg\" \"../../www/assets/img/300px-2018-07-05_Regal_Princess_(1).jpg\"\n",
      "mv \"../../www/assets/img/300px-FS_Mecklenburg-Vorpommern_Warnem%C3%BCnde_040913.jpg\" \"../../www/assets/img/300px-FS_Mecklenburg-Vorpommern_Warnemünde_040913.jpg\"\n",
      "mv \"../../www/assets/img/300px-Corsica_Serena_Seconda_%28actuel_%27European_Voyager%27%29.jpg\" \"../../www/assets/img/300px-Corsica_Serena_Seconda_(actuel_'European_Voyager').jpg\"\n",
      "mv \"../../www/assets/img/300px-%22Express_Pegasus%22_-_Piraeus.jpg\" \"../../www/assets/img/300px-\"Express_Pegasus\"_-_Piraeus.jpg\"\n",
      "mv \"../../www/assets/img/300px-M%C3%A9diterran%C3%A9e_-_Corsica_Linea.png\" \"../../www/assets/img/300px-Méditerranée_-_Corsica_Linea.png\"\n",
      "mv \"../../www/assets/img/300px-Lazio_02-06-2006_cagliari_%284%29.jpg\" \"../../www/assets/img/300px-Lazio_02-06-2006_cagliari_(4).jpg\"\n",
      "mv \"../../www/assets/img/300px-Celebrity_Reflection_cruise_ship_in_Santorini%2C_Greece_001.jpg\" \"../../www/assets/img/300px-Celebrity_Reflection_cruise_ship_in_Santorini,_Greece_001.jpg\"\n",
      "mv \"../../www/assets/img/300px-Bahamas_Cruise_-_ship_exterior_-_June_2018_%283303%29.jpg\" \"../../www/assets/img/300px-Bahamas_Cruise_-_ship_exterior_-_June_2018_(3303).jpg\"\n",
      "mv \"../../www/assets/img/300px-Moby_Wonder_07_IMO_9214367_%40chesi.JPG\" \"../../www/assets/img/300px-Moby_Wonder_07_IMO_9214367_@chesi.JPG\"\n",
      "mv \"../../www/assets/img/300px-%22GNV_Cristal%22_%28vue_avant%29_-_S%C3%A8te%2C_2018.jpg\" \"../../www/assets/img/300px-\"GNV_Cristal\"_(vue_avant)_-_Sète,_2018.jpg\"\n",
      "mv \"../../www/assets/img/300px-Valencia_Port_-_panoramio_%282%29.jpg\" \"../../www/assets/img/300px-Valencia_Port_-_panoramio_(2).jpg\"\n",
      "mv \"../../www/assets/img/300px-Dubrovnik_%28ship%2C_1979%29_IMO_7615048%2C_in_Split%2C_2012-01-03_%281%29.jpg\" \"../../www/assets/img/300px-Dubrovnik_(ship,_1979)_IMO_7615048,_in_Split,_2012-01-03_(1).jpg\"\n"
     ]
    }
   ],
   "source": [
    "for filename in filenames:\n",
    "    decoded = urllib.parse.unquote(filename)\n",
    "    if str(decoded) != str(filename):\n",
    "        mv_cmd = f\"mv \\\"{IMG_PATH}/{filename}\\\" \\\"{IMG_PATH}/{decoded}\\\"\"\n",
    "        print(mv_cmd)\n",
    "        os.system(mv_cmd)"
   ]
  },
  {
   "cell_type": "code",
   "execution_count": null,
   "metadata": {},
   "outputs": [],
   "source": []
  }
 ],
 "metadata": {
  "kernelspec": {
   "display_name": "Python 3",
   "language": "python",
   "name": "python3"
  },
  "language_info": {
   "codemirror_mode": {
    "name": "ipython",
    "version": 3
   },
   "file_extension": ".py",
   "mimetype": "text/x-python",
   "name": "python",
   "nbconvert_exporter": "python",
   "pygments_lexer": "ipython3",
   "version": "3.8.5"
  }
 },
 "nbformat": 4,
 "nbformat_minor": 4
}
