{
  "metadata": {
    "language_info": {
      "codemirror_mode": {
        "name": "ipython",
        "version": 3
      },
      "file_extension": ".py",
      "mimetype": "text/x-python",
      "name": "python",
      "nbconvert_exporter": "python",
      "pygments_lexer": "ipython3",
      "version": "3.8.5-final"
    },
    "orig_nbformat": 2,
    "kernelspec": {
      "name": "python3",
      "display_name": "Python 3"
    }
  },
  "nbformat": 4,
  "nbformat_minor": 2,
  "cells": [
    {
      "cell_type": "code",
      "execution_count": 1,
      "metadata": {},
      "outputs": [],
      "source": [
        "import os\n",
        "import re\n",
        "import pandas as pd\n",
        "import frontmatter\n",
        "\n",
        "DIRNAME = os.path.abspath('')\n",
        "WWW_SHIPS_PATH = os.path.join(DIRNAME, \"../../www/11ty_input/ships\")"
      ]
    },
    {
      "cell_type": "code",
      "execution_count": 2,
      "metadata": {},
      "outputs": [
        {
          "output_type": "execute_result",
          "data": {
            "text/plain": [
              "                  company      imo layout                   name outOfScope  \\\n",
              "0           stena-line-se  9332559   ship       MS Stena Horizon      False   \n",
              "2              tallink-ee  9364722   ship                MS Star        NaN   \n",
              "3    hurtigruten-group-no  9813072   ship         ROALD AMUNDSEN        NaN   \n",
              "4    hurtigruten-group-no  9231951   ship   MS Finnmarken (2002)      False   \n",
              "6    hurtigruten-group-no  9370018   ship                MS Fram        NaN   \n",
              "..                    ...      ...    ...                    ...        ...   \n",
              "505                  None  9351476   ship            CRUISE ROMA        NaN   \n",
              "506   frs-iberia-maroc-dz  8512152   ship  MS Al Andalus Express        NaN   \n",
              "507         moby-lines-it  7361324   ship           MS Moby Otta      False   \n",
              "510      naviera-armas-es  9221346   ship     HSC Volcan de Teno      False   \n",
              "511                  None  9501590   ship              EXPRESS 1        NaN   \n",
              "\n",
              "                         routes                           slug    tags  \\\n",
              "0    [cherbourg-fr-rosslare-ie]       ms-stena-horizon-9332559  [ship]   \n",
              "2      [helsinki-fi-tallinn-ee]                ms-star-9364722  [ship]   \n",
              "3                           NaN         roald-amundsen-9813072  [ship]   \n",
              "4       [bergen-no-kirkenes-no]     ms-finnmarken-2002-9231951  [ship]   \n",
              "6                            []                ms-fram-9370018  [ship]   \n",
              "..                          ...                            ...     ...   \n",
              "505                         NaN            cruise-roma-9351476  [ship]   \n",
              "506  [algiers-dz-tanger-med-ma]  ms-al-andalus-express-8512152  [ship]   \n",
              "507       [genes-it-livorno-it]           ms-moby-otta-7361324  [ship]   \n",
              "510        [motril-es-nador-ma]     hsc-volcan-de-teno-9221346  [ship]   \n",
              "511                         NaN              express-1-9501590  [ship]   \n",
              "\n",
              "                                                 photo unknownRoutes  \\\n",
              "0    /img/300px-Stena_Horizon_approaching_Rosslare_...         False   \n",
              "2                  /img/300px-190407_Star_Helsinki.jpg           NaN   \n",
              "3                      /img/roald-amundsen-9813072.jpg           NaN   \n",
              "4             /img/300px-MS_Finnmarken_in_Kirkenes.jpg         False   \n",
              "6    /img/300px-Fram_approaching_in_front_of_iceber...           NaN   \n",
              "..                                                 ...           ...   \n",
              "505                       /img/cruise-roma-9351476.jpg           NaN   \n",
              "506        /img/300px-Seafrance_nord_pas_de_calais.jpg           NaN   \n",
              "507  /img/300px-Princess_of_Scandinavia_Gothenburg.jpg         False   \n",
              "510  /img/300px-Highspeed_6_-_HSW_-_Heraklion_-_Por...         False   \n",
              "511                         /img/express-1-9501590.jpg           NaN   \n",
              "\n",
              "                                          wikipediaUrl  capacityPax  \n",
              "0       https://en.wikipedia.org/wiki/MS_Stena_Horizon          NaN  \n",
              "2                https://en.wikipedia.org/wiki/MS_Star       1900.0  \n",
              "3      https://en.wikipedia.org/wiki/MS_Roald_Amundsen          NaN  \n",
              "4    https://en.wikipedia.org/wiki/MS_Finnmarken_(2...          NaN  \n",
              "6                https://en.wikipedia.org/wiki/MS_Fram          NaN  \n",
              "..                                                 ...          ...  \n",
              "505          https://fr.wikipedia.org/wiki/Cruise_Roma          NaN  \n",
              "506  https://en.wikipedia.org/wiki/MS_Al_Andalus_Ex...          NaN  \n",
              "507         https://en.wikipedia.org/wiki/MS_Moby_Otta          NaN  \n",
              "510   https://en.wikipedia.org/wiki/HSC_Volcan_de_Teno          NaN  \n",
              "511        https://en.wikipedia.org/wiki/HSC_Express_1          NaN  \n",
              "\n",
              "[397 rows x 12 columns]"
            ],
            "text/html": "<div>\n<style scoped>\n    .dataframe tbody tr th:only-of-type {\n        vertical-align: middle;\n    }\n\n    .dataframe tbody tr th {\n        vertical-align: top;\n    }\n\n    .dataframe thead th {\n        text-align: right;\n    }\n</style>\n<table border=\"1\" class=\"dataframe\">\n  <thead>\n    <tr style=\"text-align: right;\">\n      <th></th>\n      <th>company</th>\n      <th>imo</th>\n      <th>layout</th>\n      <th>name</th>\n      <th>outOfScope</th>\n      <th>routes</th>\n      <th>slug</th>\n      <th>tags</th>\n      <th>photo</th>\n      <th>unknownRoutes</th>\n      <th>wikipediaUrl</th>\n      <th>capacityPax</th>\n    </tr>\n  </thead>\n  <tbody>\n    <tr>\n      <th>0</th>\n      <td>stena-line-se</td>\n      <td>9332559</td>\n      <td>ship</td>\n      <td>MS Stena Horizon</td>\n      <td>False</td>\n      <td>[cherbourg-fr-rosslare-ie]</td>\n      <td>ms-stena-horizon-9332559</td>\n      <td>[ship]</td>\n      <td>/img/300px-Stena_Horizon_approaching_Rosslare_...</td>\n      <td>False</td>\n      <td>https://en.wikipedia.org/wiki/MS_Stena_Horizon</td>\n      <td>NaN</td>\n    </tr>\n    <tr>\n      <th>2</th>\n      <td>tallink-ee</td>\n      <td>9364722</td>\n      <td>ship</td>\n      <td>MS Star</td>\n      <td>NaN</td>\n      <td>[helsinki-fi-tallinn-ee]</td>\n      <td>ms-star-9364722</td>\n      <td>[ship]</td>\n      <td>/img/300px-190407_Star_Helsinki.jpg</td>\n      <td>NaN</td>\n      <td>https://en.wikipedia.org/wiki/MS_Star</td>\n      <td>1900.0</td>\n    </tr>\n    <tr>\n      <th>3</th>\n      <td>hurtigruten-group-no</td>\n      <td>9813072</td>\n      <td>ship</td>\n      <td>ROALD AMUNDSEN</td>\n      <td>NaN</td>\n      <td>NaN</td>\n      <td>roald-amundsen-9813072</td>\n      <td>[ship]</td>\n      <td>/img/roald-amundsen-9813072.jpg</td>\n      <td>NaN</td>\n      <td>https://en.wikipedia.org/wiki/MS_Roald_Amundsen</td>\n      <td>NaN</td>\n    </tr>\n    <tr>\n      <th>4</th>\n      <td>hurtigruten-group-no</td>\n      <td>9231951</td>\n      <td>ship</td>\n      <td>MS Finnmarken (2002)</td>\n      <td>False</td>\n      <td>[bergen-no-kirkenes-no]</td>\n      <td>ms-finnmarken-2002-9231951</td>\n      <td>[ship]</td>\n      <td>/img/300px-MS_Finnmarken_in_Kirkenes.jpg</td>\n      <td>False</td>\n      <td>https://en.wikipedia.org/wiki/MS_Finnmarken_(2...</td>\n      <td>NaN</td>\n    </tr>\n    <tr>\n      <th>6</th>\n      <td>hurtigruten-group-no</td>\n      <td>9370018</td>\n      <td>ship</td>\n      <td>MS Fram</td>\n      <td>NaN</td>\n      <td>[]</td>\n      <td>ms-fram-9370018</td>\n      <td>[ship]</td>\n      <td>/img/300px-Fram_approaching_in_front_of_iceber...</td>\n      <td>NaN</td>\n      <td>https://en.wikipedia.org/wiki/MS_Fram</td>\n      <td>NaN</td>\n    </tr>\n    <tr>\n      <th>...</th>\n      <td>...</td>\n      <td>...</td>\n      <td>...</td>\n      <td>...</td>\n      <td>...</td>\n      <td>...</td>\n      <td>...</td>\n      <td>...</td>\n      <td>...</td>\n      <td>...</td>\n      <td>...</td>\n      <td>...</td>\n    </tr>\n    <tr>\n      <th>505</th>\n      <td>None</td>\n      <td>9351476</td>\n      <td>ship</td>\n      <td>CRUISE ROMA</td>\n      <td>NaN</td>\n      <td>NaN</td>\n      <td>cruise-roma-9351476</td>\n      <td>[ship]</td>\n      <td>/img/cruise-roma-9351476.jpg</td>\n      <td>NaN</td>\n      <td>https://fr.wikipedia.org/wiki/Cruise_Roma</td>\n      <td>NaN</td>\n    </tr>\n    <tr>\n      <th>506</th>\n      <td>frs-iberia-maroc-dz</td>\n      <td>8512152</td>\n      <td>ship</td>\n      <td>MS Al Andalus Express</td>\n      <td>NaN</td>\n      <td>[algiers-dz-tanger-med-ma]</td>\n      <td>ms-al-andalus-express-8512152</td>\n      <td>[ship]</td>\n      <td>/img/300px-Seafrance_nord_pas_de_calais.jpg</td>\n      <td>NaN</td>\n      <td>https://en.wikipedia.org/wiki/MS_Al_Andalus_Ex...</td>\n      <td>NaN</td>\n    </tr>\n    <tr>\n      <th>507</th>\n      <td>moby-lines-it</td>\n      <td>7361324</td>\n      <td>ship</td>\n      <td>MS Moby Otta</td>\n      <td>False</td>\n      <td>[genes-it-livorno-it]</td>\n      <td>ms-moby-otta-7361324</td>\n      <td>[ship]</td>\n      <td>/img/300px-Princess_of_Scandinavia_Gothenburg.jpg</td>\n      <td>False</td>\n      <td>https://en.wikipedia.org/wiki/MS_Moby_Otta</td>\n      <td>NaN</td>\n    </tr>\n    <tr>\n      <th>510</th>\n      <td>naviera-armas-es</td>\n      <td>9221346</td>\n      <td>ship</td>\n      <td>HSC Volcan de Teno</td>\n      <td>False</td>\n      <td>[motril-es-nador-ma]</td>\n      <td>hsc-volcan-de-teno-9221346</td>\n      <td>[ship]</td>\n      <td>/img/300px-Highspeed_6_-_HSW_-_Heraklion_-_Por...</td>\n      <td>False</td>\n      <td>https://en.wikipedia.org/wiki/HSC_Volcan_de_Teno</td>\n      <td>NaN</td>\n    </tr>\n    <tr>\n      <th>511</th>\n      <td>None</td>\n      <td>9501590</td>\n      <td>ship</td>\n      <td>EXPRESS 1</td>\n      <td>NaN</td>\n      <td>NaN</td>\n      <td>express-1-9501590</td>\n      <td>[ship]</td>\n      <td>/img/express-1-9501590.jpg</td>\n      <td>NaN</td>\n      <td>https://en.wikipedia.org/wiki/HSC_Express_1</td>\n      <td>NaN</td>\n    </tr>\n  </tbody>\n</table>\n<p>397 rows × 12 columns</p>\n</div>"
          },
          "metadata": {},
          "execution_count": 2
        }
      ],
      "source": [
        "all_ships = []\n",
        "for filename in os.listdir(WWW_SHIPS_PATH):\n",
        "    if not re.match(r\".*-(\\d+)\\.md\", filename):\n",
        "        continue\n",
        "    ship_frontmatter = frontmatter.load(os.path.join(WWW_SHIPS_PATH, filename))\n",
        "    all_ships.append({ **ship_frontmatter.metadata })\n",
        "df = pd.DataFrame(all_ships)\n",
        "df = df[df.outOfScope != True]\n",
        "df"
      ]
    },
    {
      "cell_type": "code",
      "execution_count": 3,
      "metadata": {},
      "outputs": [
        {
          "output_type": "stream",
          "name": "stdout",
          "text": [
            "AF FRANCESCA\nAF MARINA\nAIDANOVA\nAMERA\nARCADIA\nAZURA\nAbel Matutes\nAriadne\nArmorique\nAsterion II\nAurelia\nBALTIC PRINCESS\nBALTIVIA\nBERGENSFJORD\nBERLIN\nBLUE STAR NAXOS\nBRILLIANCE OF THE SEAS\nBRITANNIA\nBaie de Seine\nBaltic Kristina\nBaltic Queen\nBarfleur\nBlue Galaxy\nBlue Horizon\nBlue Star 1\nBlue Star Patmos\nBretagne\nCELEBRITY FLORA\nCELESTYAL CRYSTAL\nCELESTYAL OLYMPIA\nCHAMPION JET 2\nCLUB MED 2\nCOLOR HYBRID\nCOLUMBUS\nCOSTA FAVOLOSA\nCOSTA FORTUNA\nCROWN IRIS\nCRUISE ROMA\nCRYSTAL SERENITY\nCRYSTAL SYMPHONY\nCalais Seaways\nCaledonian Isles\nCap Finistère\nCarthage\nCiudad de Palma\nColor Carrier\nColor Magic\nCommodore Clipper\nConnemara\nCopenhagen\nCorsica Express Three\nCorsica Marina Seconda\nCorsica Victoria\nCruise Bonaria\nCruise Europa\nCruise Olympia\nCruise Smeralda\nCôte d'Albâtre\nDEUTSCHLAND\nDIAGORAS\nDanielle Casanova\nDenia Ciutat Creativa\nEPSILON\nEXPLORER OF THE SEAS\nEXPRESS 1\nEXPRESS 2\nEXPRESS 3\nEXPRESS 4\nEckerö\nEl Djazair II\nEl. Venizelos\nElyros (ship)\nEuroferry Egnazia\nEuroferry Olympia\nExcelsior\nExpress Pegasus\nFAST FERRIES ANDROS\nFINLAGGAN\nFantastic\nFinntrader\nFlorencia\nGALAXY\nGALAXY\nGEMINI\nGOLDEN BRIDGE\nGOTLANDIA II\nGabriella\nGirolata\nGotland\nGrande Anversa\nHAMBURG\nHAMLET\nHAMMERSHUS\nHANSEATIC INSPIRATION\nHANSEATIC NATURE\nHSC Benchijigua Express\nHSC Condor Liberation\nHSC Condor Rapide\nHSC Condor Vitesse\nHSC Dublin Swift\nHSC Fjord Cat\nHSC Highspeed 4\nHSC Jonathan Swift\nHSC Leonora Christina\nHSC Manannan\nHSC Volcan de Teno\nHellenic Spirit\nHonfleur\nHuckleberry Finn (ship, 1988)\nINSIGNIA\nJean Nicoli\nKEFALONIA\nKOPERNIK\nKORCULA\nKalliste\nKerry\nKong Harald\nKriti I\nL AUSTRAL\nLE BOREAL\nLE CHAMPLAIN\nLE LAPEROUSE\nLE LYRIAL\nLE SOLEAL\nLOBO MARINHO\nLOCH SEAFORTH\nLaurana\nLe Bougainville\nLevante\nM/S Ahtela\nM/S Aurora\nM/S Aurora\nM/S Berlin\nM/S Birka Express\nM/S Deutschland\nM/S Ekaterini P\nM/S Europalink\nM/S Finnfellow\nM/S Finnlady\nM/S Finnpartner\nM/S Finnstar\nM/S Finnswan\nM/S Galileusz\nM/S Gute\nM/S Ionian Spirit\nM/S Merchant\nM/S Prins Richard\nM/S Prinsesse Benedikte\nM/S Robin Hood\nM/S Sea Wind\nM/S Tom Sawyer\nM/S Visby\nMAX\nMAZOVIA\nMED STAR\nMESSINA\nMF Dubrovnik\nMF Gryf\nMF Polonia\nMF Prevelis\nMF Skania\nMF Tycho Brahe\nMOROCCO SUN\nMS Al Andalus Express\nMS Almariya\nMS Amorella\nMS Arrow\nMS Bari\nMS Ben-my-Chree\nMS Color Fantasy\nMS Color Viking\nMS Crown Seaways\nMS Cruise Ausonia\nMS Cruise Barcelona\nMS Cruise Olbia\nMS Côte des Dunes\nMS Côte des Flandres\nMS Daniya\nMS Delft Seaways\nMS Dieppe Seaways\nMS Dover Seaways\nMS Dunkerque Seaways\nMS Europa 2\nMS Finlandia\nMS Finnmarken (2002)\nMS Fram\nMS GNV Atlas\nMS GNV Azzurra\nMS GNV Cristal\nMS Isabelle\nMS Isle of Inishmore\nMS King Seaways\nMS Koningsdam\nMS Kronprins Frederik\nMS La Superba\nMS La Suprema\nMS Liverpool Seaways\nMS Mariella\nMS Megastar\nMS Moby Otta\nMS Moby Tommy\nMS Nieuw Statendam\nMS Nordkapp\nMS Nuraghes\nMS Oceana\nMS Oslofjord\nMS Pearl Seaways\nMS Polarlys\nMS Princess Seaways\nMS Queen Elizabeth\nMS Regal Star\nMS Regina Baltica\nMS Regina della Pace\nMS Rigel II\nMS Riviera\nMS Rosella\nMS SNAV Adriatico\nMS Schleswig-Holstein\nMS Sharden\nMS Silja Europa\nMS Silja Symphony\nMS Skåne\nMS Star\nMS Stavangerfjord\nMS Stena Adventurer\nMS Stena Baltica\nMS Stena Danica\nMS Stena Europe\nMS Stena Germanica\nMS Stena Horizon\nMS Stena Jutlandica\nMS Stena Lagan\nMS Stena Mersey\nMS Stena Nordica\nMS Stena Saga\nMS Stena Scandinavica\nMS Stena Spirit\nMS Stena Superfast VII\nMS Stena Superfast VIII\nMS Stena Vision\nMS Superfast XI\nMS Symphony of the Seas\nMS Trollfjord\nMS Ulysses\nMS Vesterålen\nMS Victoria I\nMS Viking Cinderella\nMS Viking Grace\nMS Viking XPRS\nMS Wawel\nMS Wind Perfection\nMS Wisteria\nMS Wolin\nMSC GRANDIOSA\nMV Ark Futura\nMV Clansman\nMV European Causeway\nMV Festos Palace\nMV Hamnavoe\nMV Hebrides\nMV Hjaltland\nMV Hrossey\nMV Isle of Lewis\nMV Knossos Palace\nMV Scottish Viking\nMV Seabourn Ovation\nMV Seabourn Quest\nMV Sorolla\nMV St Clare\nMV Stena Britannica\nMV Viking Sky\nMV Viking Sun\nMV Étretat\nMajestic\nMarina\nMarko Polo\nMecklenburg-Vorpommern\nMega Andrea\nMega Express\nMega Express Five\nMega Express Four\nMega Express Three\nMega Express Two\nMega Smeralda\nMidnatsol\nMoby Aki\nMoby Baby Two\nMoby Corse\nMoby Dada\nMoby Drea\nMoby Kiss\nMoby Niki\nMoby Vincent\nMoby Wonder\nMont St Michel\nMonte d'Oro\nMykonos Palace\nMéditerranée\nNAUTICA\nNORRONA\nNORWEGIAN BLISS\nNORWEGIAN BREAKAWAY\nNORWEGIAN ENCORE\nNORWEGIAN EPIC\nNORWEGIAN GETAWAY\nNORWEGIAN JADE\nNORWEGIAN PEARL\nNORWEGIAN SPIRIT\nNORWEGIAN STAR\nNils Holgersson\nNissos Chios\nNissos Mykonos\nNissos Rodos\nNissos Samos\nNordlys\nNordnorge\nNormandie\nNormandie Express\nNorway Explorer\nOASIS OF THE SEAS\nOCEAN DIAMOND\nOOSTERDAM\nORIANA\nOlympic Champion\nOptima Seaways\nPOVL ANKER\nPaglia Orba\nPascal Lota\nPascal Paoli\nPatria Seaways\nPetar Hektorović\nPeter Pan\nPiana\nPont-Aven\nPrins Joachim\nRED STAR 1\nROALD AMUNDSEN\nROMANTIKA\nROYAL PRINCESS\nRegina Seaways\nRhapsody\nRichard With\nRosalind Franklin\nSAINT JOHN PAUL II\nSAPPHIRE PRINCESS\nSEA PRINCESS\nSEVEN SEAS EXPLORER\nSILVER CLOUD\nSILVER EXPLORER\nSILVER MUSE\nSILVER SHADOW\nSILVER SPIRIT\nSILVER WHISPER\nSILVER WIND\nSPECTRUM OF THE SEAS\nSPL Princess Anastasia\nSTENA FLAVIA\nSTENA HOLLANDICA\nSUPERFERRY\nSardinia Regina\nSardinia Vera\nSassnitz\nScilla\nSea Cargo Express\nSeabourn Encore\nSeabourn Odyssey\nSilja Serenade\nSplendid\nStena Gothica\nStena Nautica\nStena Vinga\nSuperspeed 1\nSuperspeed 2\nTANIT\nTARIQ IBN ZIYAD\nTHE WORLD\nTHEOLOGOS P.\nTassili II\nTenacia\nTera Jet\nUrd\nVASCO DA GAMA\nVENTURA\nVICTORIA OF WIGHT\nVICTORIA SEAWAYS\nVILLA DE TEROR (MAR-19)\nVenezia\nViking Sea\nViking Star\nVilla\nVizzavona\nVolcan De Tamasite\nVolcán de Taburiente\nW. B. YEATS\nWASA EXPRESS\nWind Ambition\nZadar\n"
          ]
        }
      ],
      "source": [
        "for name in sorted(list(df.name)): \n",
        "    print(name)"
      ]
    },
    {
      "cell_type": "code",
      "execution_count": null,
      "metadata": {},
      "outputs": [],
      "source": []
    }
  ]
}
