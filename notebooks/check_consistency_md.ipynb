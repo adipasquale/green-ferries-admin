{
  "cells": [
    {
      "cell_type": "code",
      "execution_count": 3,
      "metadata": {},
      "outputs": [],
      "source": [
        "import os\n",
        "import json\n",
        "import re\n",
        "import pandas as pd\n",
        "import numpy as np\n",
        "from slugify import slugify\n",
        "import frontmatter\n",
        "\n",
        "DIRNAME = os.path.abspath('')\n",
        "THETIS_CSV_PATH = os.path.join(DIRNAME, \"../files_computed/thetis_all_with_computed.csv\")\n",
        "WIKIDATA_SHIPS_CSV_PATH = os.path.join(DIRNAME, \"../files_original/original.wikidata.ships.csv\")\n",
        "WIKIDATA_URLS_CSV_PATH = os.path.join(DIRNAME, \"../files_original/original.wikidata.urls.csv\")\n",
        "WWW_SHIPS_DATA_PATH = os.path.join(DIRNAME, \"../../www/11ty_input/ships\")"
      ]
    },
    {
      "cell_type": "code",
      "execution_count": 6,
      "metadata": {
        "tags": []
      },
      "outputs": [
        {
          "name": "stdout",
          "output_type": "stream",
          "text": [
            "missing company: golden-bridge-8902345.md - https://ja.wikipedia.org/wiki/%E3%82%B5%E3%83%96%E3%83%AA%E3%83%8A_(%E3%83%95%E3%82%A7%E3%83%AA%E3%83%BC)\n",
            "missing company: med-star-8604345.md - https://ja.wikipedia.org/wiki/%E3%82%AF%E3%82%A4%E3%83%BC%E3%83%B3%E3%83%80%E3%82%A4%E3%83%A4%E3%83%A2%E3%83%B3%E3%83%89\n",
            "missing company: the-world-9219331.md - https://en.wikipedia.org/wiki/MS_The_World\n"
          ]
        }
      ],
      "source": [
        "for filename in os.listdir(WWW_SHIPS_DATA_PATH):\n",
        "    if not re.match(r\".*-(\\d+)\\.md\", filename):\n",
        "        continue\n",
        "    path = os.path.join(WWW_SHIPS_DATA_PATH, filename)\n",
        "    ship_frontmatter = frontmatter.load(path)\n",
        "    if ship_frontmatter.metadata.get('company', '') not in [\"\", None]:\n",
        "        continue\n",
        "    print(f\"missing company: {filename} - {ship_frontmatter.metadata.get('wikipediaUrl', '')}\")"
      ]
    },
    {
      "cell_type": "code",
      "execution_count": null,
      "metadata": {},
      "outputs": [],
      "source": []
    }
  ],
  "metadata": {
    "kernelspec": {
      "display_name": "Python 3",
      "language": "python",
      "name": "python3"
    },
    "language_info": {
      "codemirror_mode": {
        "name": "ipython",
        "version": 3
      },
      "file_extension": ".py",
      "mimetype": "text/x-python",
      "name": "python",
      "nbconvert_exporter": "python",
      "pygments_lexer": "ipython3",
      "version": "3.8.5"
    }
  },
  "nbformat": 4,
  "nbformat_minor": 2
}
