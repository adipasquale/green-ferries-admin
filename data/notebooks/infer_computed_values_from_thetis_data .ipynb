{
 "cells": [
  {
   "cell_type": "code",
   "execution_count": 124,
   "metadata": {},
   "outputs": [],
   "source": [
    "import pandas as pd\n",
    "NM_TO_KM = 1.852001"
   ]
  },
  {
   "cell_type": "code",
   "execution_count": 96,
   "metadata": {},
   "outputs": [],
   "source": [
    "columns_types = {\n",
    "  \"imo\": \"string\",\n",
    "  \"name\": \"string\",\n",
    "  \"ship_type\": \"string\",\n",
    "  \"reporting_period\": \"string\",\n",
    "  \"technical_efficiency\": \"string\",\n",
    "  \"port_of_registry\": \"string\",\n",
    "  \"home_port\": \"string\",\n",
    "  \"ice_class\": \"string\",\n",
    "  \"doc_issue_date\": \"datetime64\",\n",
    "  \"doc_expiry_date\": \"datetime64\",\n",
    "  \"verifier_number\": \"string\",\n",
    "  \"verifier_name\": \"string\",\n",
    "  \"verifier_nab\": \"string\",\n",
    "  \"verifier_address\": \"string\",\n",
    "  \"verifier_city\": \"string\",\n",
    "  \"verifier_accreditation_number\": \"string\",\n",
    "  \"verifier_country\": \"string\",\n",
    "  \"monitoring_method_a\": \"string\",\n",
    "  \"monitoring_method_b\": \"string\",\n",
    "  \"monitoring_method_c\": \"string\",\n",
    "  \"monitoring_method_d\": \"string\",\n",
    "  \"annual_monitoring_total_fuel_consumption\": \"float64\",\n",
    "  \"annual_monitoring_fuel_consumption_assigned_to_on_laden\": \"float64\",\n",
    "  \"annual_monitoring_total_co2_emissions\": \"float64\",\n",
    "  \"annual_monitoring_co2_emissions_from_all_voyages_between_ports_under_a_ms_juridiction\": \"float64\",\n",
    "  \"annual_monitoring_co2_emissions_from_all_voyages_which_departed_from_ports_under_a_ms_juridiction\": \"float64\",\n",
    "  \"annual_monitoring_co2_emissions_from_all_voyages_to_ports_under_a_ms_juridiction\": \"float64\",\n",
    "  \"annual_monitoring_co2_emissions_which_occured_within_ports_under_a_ms_jurisdiction_at_berth\": \"float64\",\n",
    "  \"annual_monitoring_co2_emissions_assigned_to_passenger_transport\": \"float64\",\n",
    "  \"annual_monitoring_co2_emissions_assigned_to_freight_transport\": \"float64\",\n",
    "  \"annual_monitoring_co2_emissions_assigned_to_on_laden\": \"float64\",\n",
    "  \"annual_monitoring_total_time_spent_at_sea\": \"float64\",\n",
    "  \"annual_average_fuel_consumption_per_distance\": \"float64\",\n",
    "  \"annual_average_fuel_consumption_per_transport_work_mass\": \"float64\",\n",
    "  \"annual_average_fuel_consumption_per_transport_work_volume\": \"float64\",\n",
    "  \"annual_average_fuel_consumption_per_transport_work_dwt\": \"float64\",\n",
    "  \"annual_average_fuel_consumption_per_transport_work_pax\": \"float64\",\n",
    "  \"annual_average_fuel_consumption_per_transport_work_freight\": \"float64\",\n",
    "  \"annual_average_co2_emissions_per_distance\": \"float64\",\n",
    "  \"annual_average_co2_emissions_per_transport_work_mass\": \"float64\",\n",
    "  \"annual_average_co2_emissions_per_transport_work_volume\": \"float64\",\n",
    "  \"annual_average_co2_emissions_per_transport_work_dwt\": \"float64\",\n",
    "  \"annual_average_co2_emissions_per_transport_work_pax\": \"float64\",\n",
    "  \"annual_average_co2_emissions_per_transport_work_freight\": \"float64\",\n",
    "  \"voluntary_reporting_distance_through_ice\": \"float64\",\n",
    "  \"voluntary_reporting_total_time_spent_at_sea\": \"float64\",\n",
    "  \"voluntary_reporting_total_time_spent_at_sea_through_ice\": \"float64\",\n",
    "  \"voluntary_reporting_direct_emissions\": \"float64\",\n",
    "  \"voluntary_reporting_average_fuel_consumption_per_distance_on_laden_voyages\": \"float64\",\n",
    "  \"voluntary_reporting_average_fuel_consumption_per_transport_work_on_laden_voyages_mass\": \"float64\",\n",
    "  \"voluntary_reporting_average_fuel_consumption_per_transport_work_on_laden_voyages_volume\": \"float64\",\n",
    "  \"voluntary_reporting_average_fuel_consumption_per_transport_work_on_laden_voyages_dwt\": \"float64\",\n",
    "  \"voluntary_reporting_average_fuel_consumption_per_transport_work_on_laden_voyages_pax\": \"float64\",\n",
    "  \"voluntary_reporting_average_fuel_consumption_per_transport_work_on_laden_voyages_freight\": \"float64\",\n",
    "  \"voluntary_reporting_average_co2_emissions_per_distance_on_laden_voyages\": \"float64\",\n",
    "  \"voluntary_reporting_average_co2_emissions_per_transport_work_on_laden_voyages_mass\": \"float64\",\n",
    "  \"voluntary_reporting_average_co2_emissions_per_transport_work_on_laden_voyages_volume\": \"float64\",\n",
    "  \"voluntary_reporting_average_co2_emissions_per_transport_work_on_laden_voyages_dwt\": \"float64\",\n",
    "  \"voluntary_reporting_average_co2_emissions_per_transport_work_on_laden_voyages_pax\": \"float64\",\n",
    "  \"voluntary_reporting_average_co2_emissions_per_transport_work_on_laden_voyages_freight\": \"float64\",\n",
    "  \"voluntary_reporting_additional_comments\": \"string\",\n",
    "  \"voluntary_reporting_average_density_of_the_cargo_transported\": \"float64\"\n",
    "}"
   ]
  },
  {
   "cell_type": "code",
   "execution_count": 125,
   "metadata": {},
   "outputs": [],
   "source": [
    "df = pd.read_csv(\n",
    "    \"../files_computed/thetis_export_all.csv\", \n",
    "#     dtype=columns_types, \n",
    "#     parse_dates=[\"doc_issue_date\", \"doc_expiry_date\"], \n",
    "#     decimal=\",\",\n",
    "    warn_bad_lines=True\n",
    ")"
   ]
  },
  {
   "cell_type": "code",
   "execution_count": 126,
   "metadata": {},
   "outputs": [],
   "source": [
    "df[\"annual_computed_distance\"] = (\n",
    "    df[\"annual_monitoring_total_co2_emissions\"] * 1000 / \n",
    "    df[\"annual_average_co2_emissions_per_distance\"]\n",
    ")"
   ]
  },
  {
   "cell_type": "code",
   "execution_count": 127,
   "metadata": {},
   "outputs": [],
   "source": [
    "df[\"annual_computed_distance_km\"] = df[\"annual_computed_distance\"] * NM_TO_KM"
   ]
  },
  {
   "cell_type": "code",
   "execution_count": 128,
   "metadata": {},
   "outputs": [],
   "source": [
    "df[\"annual_computed_pax\"] = (\n",
    "    df[\"annual_monitoring_co2_emissions_assigned_to_passenger_transport\"] * 1000 / \n",
    "    ((df[\"annual_average_co2_emissions_per_transport_work_pax\"] / 1000) * df[\"annual_computed_distance\"])\n",
    ")"
   ]
  },
  {
   "cell_type": "code",
   "execution_count": 129,
   "metadata": {},
   "outputs": [],
   "source": [
    "df[\"annual_computed_freight\"] = (\n",
    "    df[\"annual_monitoring_co2_emissions_assigned_to_freight_transport\"] * 1000 / \n",
    "    ((df[\"annual_average_co2_emissions_per_transport_work_freight\"] / 1000) * df[\"annual_computed_distance\"])\n",
    ")"
   ]
  },
  {
   "cell_type": "code",
   "execution_count": 130,
   "metadata": {},
   "outputs": [],
   "source": [
    "df[\"annual_computed_average_speed\"] = (\n",
    "    df[\"annual_computed_distance_km\"] / \n",
    "    df[\"annual_monitoring_total_time_spent_at_sea\"]\n",
    ")"
   ]
  },
  {
   "cell_type": "code",
   "execution_count": 131,
   "metadata": {},
   "outputs": [],
   "source": [
    "df[\"annual_computed_ratio_co2_from_pax\"] = (\n",
    "    df[\"annual_monitoring_co2_emissions_assigned_to_passenger_transport\"] / \n",
    "    df[\"annual_monitoring_total_co2_emissions\"]\n",
    ")"
   ]
  },
  {
   "cell_type": "code",
   "execution_count": 134,
   "metadata": {},
   "outputs": [],
   "source": [
    "df.to_csv(\"../files_computed/thetis_all_with_computed.csv\")"
   ]
  },
  {
   "cell_type": "code",
   "execution_count": 135,
   "metadata": {},
   "outputs": [
    {
     "data": {
      "text/plain": [
       "Index(['imo', 'name', 'ship_type', 'reporting_period', 'technical_efficiency',\n",
       "       'port_of_registry', 'home_port', 'ice_class', 'doc_issue_date',\n",
       "       'doc_expiry_date', 'verifier_number', 'verifier_name', 'verifier_nab',\n",
       "       'verifier_address', 'verifier_city', 'verifier_accreditation_number',\n",
       "       'verifier_country', 'monitoring_method_a', 'monitoring_method_b',\n",
       "       'monitoring_method_c', 'monitoring_method_d',\n",
       "       'annual_monitoring_total_fuel_consumption',\n",
       "       'annual_monitoring_fuel_consumption_assigned_to_on_laden',\n",
       "       'annual_monitoring_total_co2_emissions',\n",
       "       'annual_monitoring_co2_emissions_from_all_voyages_between_ports_under_a_ms_juridiction',\n",
       "       'annual_monitoring_co2_emissions_from_all_voyages_which_departed_from_ports_under_a_ms_juridiction',\n",
       "       'annual_monitoring_co2_emissions_from_all_voyages_to_ports_under_a_ms_juridiction',\n",
       "       'annual_monitoring_co2_emissions_which_occured_within_ports_under_a_ms_jurisdiction_at_berth',\n",
       "       'annual_monitoring_co2_emissions_assigned_to_passenger_transport',\n",
       "       'annual_monitoring_co2_emissions_assigned_to_freight_transport',\n",
       "       'annual_monitoring_co2_emissions_assigned_to_on_laden',\n",
       "       'annual_monitoring_total_time_spent_at_sea',\n",
       "       'annual_average_fuel_consumption_per_distance',\n",
       "       'annual_average_fuel_consumption_per_transport_work_mass',\n",
       "       'annual_average_fuel_consumption_per_transport_work_volume',\n",
       "       'annual_average_fuel_consumption_per_transport_work_dwt',\n",
       "       'annual_average_fuel_consumption_per_transport_work_pax',\n",
       "       'annual_average_fuel_consumption_per_transport_work_freight',\n",
       "       'annual_average_co2_emissions_per_distance',\n",
       "       'annual_average_co2_emissions_per_transport_work_mass',\n",
       "       'annual_average_co2_emissions_per_transport_work_volume',\n",
       "       'annual_average_co2_emissions_per_transport_work_dwt',\n",
       "       'annual_average_co2_emissions_per_transport_work_pax',\n",
       "       'annual_average_co2_emissions_per_transport_work_freight',\n",
       "       'voluntary_reporting_distance_through_ice',\n",
       "       'voluntary_reporting_total_time_spent_at_sea',\n",
       "       'voluntary_reporting_total_time_spent_at_sea_through_ice',\n",
       "       'voluntary_reporting_direct_emissions',\n",
       "       'voluntary_reporting_average_fuel_consumption_per_distance_on_laden_voyages',\n",
       "       'voluntary_reporting_average_fuel_consumption_per_transport_work_on_laden_voyages_mass',\n",
       "       'voluntary_reporting_average_fuel_consumption_per_transport_work_on_laden_voyages_volume',\n",
       "       'voluntary_reporting_average_fuel_consumption_per_transport_work_on_laden_voyages_dwt',\n",
       "       'voluntary_reporting_average_fuel_consumption_per_transport_work_on_laden_voyages_pax',\n",
       "       'voluntary_reporting_average_fuel_consumption_per_transport_work_on_laden_voyages_freight',\n",
       "       'voluntary_reporting_average_co2_emissions_per_distance_on_laden_voyages',\n",
       "       'voluntary_reporting_average_co2_emissions_per_transport_work_on_laden_voyages_mass',\n",
       "       'voluntary_reporting_average_co2_emissions_per_transport_work_on_laden_voyages_volume',\n",
       "       'voluntary_reporting_average_co2_emissions_per_transport_work_on_laden_voyages_dwt',\n",
       "       'voluntary_reporting_average_co2_emissions_per_transport_work_on_laden_voyages_pax',\n",
       "       'voluntary_reporting_average_co2_emissions_per_transport_work_on_laden_voyages_freight',\n",
       "       'voluntary_reporting_additional_comments',\n",
       "       'voluntary_reporting_average_density_of_the_cargo_transported',\n",
       "       'annual_computed_distance', 'annual_computed_distance_km',\n",
       "       'annual_computed_pax', 'annual_computed_freight',\n",
       "       'annual_computed_average_speed', 'annual_computed_ratio_co2_from_pax'],\n",
       "      dtype='object')"
      ]
     },
     "execution_count": 135,
     "metadata": {},
     "output_type": "execute_result"
    }
   ],
   "source": [
    "df.columns"
   ]
  },
  {
   "cell_type": "code",
   "execution_count": null,
   "metadata": {},
   "outputs": [],
   "source": []
  }
 ],
 "metadata": {
  "kernelspec": {
   "display_name": "Python 3",
   "language": "python",
   "name": "python3"
  },
  "language_info": {
   "codemirror_mode": {
    "name": "ipython",
    "version": 3
   },
   "file_extension": ".py",
   "mimetype": "text/x-python",
   "name": "python",
   "nbconvert_exporter": "python",
   "pygments_lexer": "ipython3",
   "version": "3.8.5"
  }
 },
 "nbformat": 4,
 "nbformat_minor": 4
}
