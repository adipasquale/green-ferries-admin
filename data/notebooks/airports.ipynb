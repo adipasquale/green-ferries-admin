{
 "cells": [
  {
   "cell_type": "code",
   "execution_count": 3,
   "metadata": {},
   "outputs": [],
   "source": [
    "import numpy as np\n",
    "import pandas as pd\n",
    "import requests\n",
    "\n",
    "# https://ourairports.com/data/\n",
    "df = pd.read_csv('../files_original/original.our_airports.csv')"
   ]
  },
  {
   "cell_type": "code",
   "execution_count": 4,
   "metadata": {},
   "outputs": [],
   "source": [
    "res = requests.get(\"https://admin.greenferries.org/data_dump\")"
   ]
  },
  {
   "cell_type": "code",
   "execution_count": 5,
   "metadata": {},
   "outputs": [],
   "source": [
    "cities = {r['cityA']['id']: r['cityA'] for r in res.json()['routes']}\n",
    "countries = set([c['country'] for c in cities.values()])"
   ]
  },
  {
   "cell_type": "code",
   "execution_count": 6,
   "metadata": {},
   "outputs": [],
   "source": [
    "df = df[df['iso_country'].isin(countries)]\n",
    "df = df[df['iata_code'].notnull()]\n",
    "df = df[df['type'].isin(['medium_airport', 'large_airport'])]"
   ]
  },
  {
   "cell_type": "code",
   "execution_count": 8,
   "metadata": {},
   "outputs": [],
   "source": [
    "df_json =  df[['iso_country', 'iata_code', 'name', 'latitude_deg', 'longitude_deg']]\n",
    "df_json.columns = ['country', 'code', 'name', 'latitude', 'longitude']\n",
    "# df_json = df_json.set_index('code', drop=False)\n",
    "df_json = df_json.drop_duplicates(subset=\"code\")\n",
    "df_json = df_json.sort_values(by=[\"country\", \"name\"])\n",
    "\n",
    "df_json.to_json('../files_computed/airports.json', orient='records')"
   ]
  },
  {
   "cell_type": "code",
   "execution_count": 10,
   "metadata": {},
   "outputs": [
    {
     "data": {
      "text/html": [
       "<div>\n",
       "<style scoped>\n",
       "    .dataframe tbody tr th:only-of-type {\n",
       "        vertical-align: middle;\n",
       "    }\n",
       "\n",
       "    .dataframe tbody tr th {\n",
       "        vertical-align: top;\n",
       "    }\n",
       "\n",
       "    .dataframe thead th {\n",
       "        text-align: right;\n",
       "    }\n",
       "</style>\n",
       "<table border=\"1\" class=\"dataframe\">\n",
       "  <thead>\n",
       "    <tr style=\"text-align: right;\">\n",
       "      <th></th>\n",
       "      <th>country</th>\n",
       "      <th>code</th>\n",
       "      <th>name</th>\n",
       "      <th>latitude</th>\n",
       "      <th>longitude</th>\n",
       "    </tr>\n",
       "  </thead>\n",
       "  <tbody>\n",
       "    <tr>\n",
       "      <th>0</th>\n",
       "      <td>AL</td>\n",
       "      <td>TIA</td>\n",
       "      <td>Tirana International Airport Mother Teresa</td>\n",
       "      <td>41.414700</td>\n",
       "      <td>19.720600</td>\n",
       "    </tr>\n",
       "    <tr>\n",
       "      <th>1</th>\n",
       "      <td>DE</td>\n",
       "      <td>AOC</td>\n",
       "      <td>Altenburg-Nobitz Airport</td>\n",
       "      <td>50.981945</td>\n",
       "      <td>12.506389</td>\n",
       "    </tr>\n",
       "    <tr>\n",
       "      <th>2</th>\n",
       "      <td>DE</td>\n",
       "      <td>AGB</td>\n",
       "      <td>Augsburg Airport</td>\n",
       "      <td>48.425278</td>\n",
       "      <td>10.931667</td>\n",
       "    </tr>\n",
       "    <tr>\n",
       "      <th>3</th>\n",
       "      <td>DE</td>\n",
       "      <td>BYU</td>\n",
       "      <td>Bayreuth Airport</td>\n",
       "      <td>49.985001</td>\n",
       "      <td>11.640000</td>\n",
       "    </tr>\n",
       "    <tr>\n",
       "      <th>4</th>\n",
       "      <td>DE</td>\n",
       "      <td>SXF</td>\n",
       "      <td>Berlin-Schönefeld Airport</td>\n",
       "      <td>52.380001</td>\n",
       "      <td>13.522500</td>\n",
       "    </tr>\n",
       "    <tr>\n",
       "      <th>...</th>\n",
       "      <td>...</td>\n",
       "      <td>...</td>\n",
       "      <td>...</td>\n",
       "      <td>...</td>\n",
       "      <td>...</td>\n",
       "    </tr>\n",
       "    <tr>\n",
       "      <th>782</th>\n",
       "      <td>TN</td>\n",
       "      <td>MIR</td>\n",
       "      <td>Monastir Habib Bourguiba International Airport</td>\n",
       "      <td>35.758099</td>\n",
       "      <td>10.754700</td>\n",
       "    </tr>\n",
       "    <tr>\n",
       "      <th>783</th>\n",
       "      <td>TN</td>\n",
       "      <td>SFA</td>\n",
       "      <td>Sfax Thyna International Airport</td>\n",
       "      <td>34.717999</td>\n",
       "      <td>10.691000</td>\n",
       "    </tr>\n",
       "    <tr>\n",
       "      <th>784</th>\n",
       "      <td>TN</td>\n",
       "      <td>TBJ</td>\n",
       "      <td>Tabarka 7 Novembre Airport</td>\n",
       "      <td>36.980000</td>\n",
       "      <td>8.876940</td>\n",
       "    </tr>\n",
       "    <tr>\n",
       "      <th>785</th>\n",
       "      <td>TN</td>\n",
       "      <td>TOE</td>\n",
       "      <td>Tozeur Nefta International Airport</td>\n",
       "      <td>33.939701</td>\n",
       "      <td>8.110560</td>\n",
       "    </tr>\n",
       "    <tr>\n",
       "      <th>786</th>\n",
       "      <td>TN</td>\n",
       "      <td>TUN</td>\n",
       "      <td>Tunis Carthage International Airport</td>\n",
       "      <td>36.851002</td>\n",
       "      <td>10.227200</td>\n",
       "    </tr>\n",
       "  </tbody>\n",
       "</table>\n",
       "<p>787 rows × 5 columns</p>\n",
       "</div>"
      ],
      "text/plain": [
       "    country code                                            name   latitude  \\\n",
       "0        AL  TIA      Tirana International Airport Mother Teresa  41.414700   \n",
       "1        DE  AOC                        Altenburg-Nobitz Airport  50.981945   \n",
       "2        DE  AGB                                Augsburg Airport  48.425278   \n",
       "3        DE  BYU                                Bayreuth Airport  49.985001   \n",
       "4        DE  SXF                       Berlin-Schönefeld Airport  52.380001   \n",
       "..      ...  ...                                             ...        ...   \n",
       "782      TN  MIR  Monastir Habib Bourguiba International Airport  35.758099   \n",
       "783      TN  SFA                Sfax Thyna International Airport  34.717999   \n",
       "784      TN  TBJ                      Tabarka 7 Novembre Airport  36.980000   \n",
       "785      TN  TOE              Tozeur Nefta International Airport  33.939701   \n",
       "786      TN  TUN            Tunis Carthage International Airport  36.851002   \n",
       "\n",
       "     longitude  \n",
       "0    19.720600  \n",
       "1    12.506389  \n",
       "2    10.931667  \n",
       "3    11.640000  \n",
       "4    13.522500  \n",
       "..         ...  \n",
       "782  10.754700  \n",
       "783  10.691000  \n",
       "784   8.876940  \n",
       "785   8.110560  \n",
       "786  10.227200  \n",
       "\n",
       "[787 rows x 5 columns]"
      ]
     },
     "execution_count": 10,
     "metadata": {},
     "output_type": "execute_result"
    }
   ],
   "source": [
    "pd.read_json('../files_computed/airports.json')"
   ]
  },
  {
   "cell_type": "code",
   "execution_count": 11,
   "metadata": {},
   "outputs": [],
   "source": [
    "df_json.to_csv('../files_computed/airports.csv')"
   ]
  },
  {
   "cell_type": "code",
   "execution_count": null,
   "metadata": {},
   "outputs": [],
   "source": []
  }
 ],
 "metadata": {
  "kernelspec": {
   "display_name": "Python 3",
   "language": "python",
   "name": "python3"
  },
  "language_info": {
   "codemirror_mode": {
    "name": "ipython",
    "version": 3
   },
   "file_extension": ".py",
   "mimetype": "text/x-python",
   "name": "python",
   "nbconvert_exporter": "python",
   "pygments_lexer": "ipython3",
   "version": "3.8.5"
  }
 },
 "nbformat": 4,
 "nbformat_minor": 2
}
