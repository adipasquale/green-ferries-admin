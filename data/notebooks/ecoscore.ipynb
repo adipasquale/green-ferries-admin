{
 "cells": [
  {
   "cell_type": "code",
   "execution_count": 8,
   "metadata": {},
   "outputs": [
    {
     "data": {
      "text/html": [
       "<div>\n",
       "<style scoped>\n",
       "    .dataframe tbody tr th:only-of-type {\n",
       "        vertical-align: middle;\n",
       "    }\n",
       "\n",
       "    .dataframe tbody tr th {\n",
       "        vertical-align: top;\n",
       "    }\n",
       "\n",
       "    .dataframe thead th {\n",
       "        text-align: right;\n",
       "    }\n",
       "</style>\n",
       "<table border=\"1\" class=\"dataframe\">\n",
       "  <thead>\n",
       "    <tr style=\"text-align: right;\">\n",
       "      <th></th>\n",
       "      <th>Unnamed: 0</th>\n",
       "      <th>imo</th>\n",
       "      <th>name</th>\n",
       "      <th>ship_type</th>\n",
       "      <th>reporting_period</th>\n",
       "      <th>technical_efficiency</th>\n",
       "      <th>port_of_registry</th>\n",
       "      <th>home_port</th>\n",
       "      <th>ice_class</th>\n",
       "      <th>doc_issue_date</th>\n",
       "      <th>...</th>\n",
       "      <th>voluntary_reporting_average_fuel_consumption_per_transport_work_on_laden_voyages_pax</th>\n",
       "      <th>voluntary_reporting_average_fuel_consumption_per_transport_work_on_laden_voyages_freight</th>\n",
       "      <th>voluntary_reporting_average_co2_emissions_per_distance_on_laden_voyages</th>\n",
       "      <th>voluntary_reporting_average_co2_emissions_per_transport_work_on_laden_voyages_mass</th>\n",
       "      <th>voluntary_reporting_average_co2_emissions_per_transport_work_on_laden_voyages_volume</th>\n",
       "      <th>voluntary_reporting_average_co2_emissions_per_transport_work_on_laden_voyages_dwt</th>\n",
       "      <th>voluntary_reporting_average_co2_emissions_per_transport_work_on_laden_voyages_pax</th>\n",
       "      <th>voluntary_reporting_average_co2_emissions_per_transport_work_on_laden_voyages_freight</th>\n",
       "      <th>voluntary_reporting_additional_comments</th>\n",
       "      <th>voluntary_reporting_average_density_of_the_cargo_transported</th>\n",
       "    </tr>\n",
       "  </thead>\n",
       "  <tbody>\n",
       "    <tr>\n",
       "      <td>0</td>\n",
       "      <td>0</td>\n",
       "      <td>5383304</td>\n",
       "      <td>ASTORIA</td>\n",
       "      <td>Passenger ship</td>\n",
       "      <td>2018.0</td>\n",
       "      <td>Not Applicable</td>\n",
       "      <td>NaN</td>\n",
       "      <td>NaN</td>\n",
       "      <td>NaN</td>\n",
       "      <td>05/02/2019</td>\n",
       "      <td>...</td>\n",
       "      <td>NaN</td>\n",
       "      <td>NaN</td>\n",
       "      <td>NaN</td>\n",
       "      <td>NaN</td>\n",
       "      <td>NaN</td>\n",
       "      <td>NaN</td>\n",
       "      <td>NaN</td>\n",
       "      <td>NaN</td>\n",
       "      <td>NaN</td>\n",
       "      <td>NaN</td>\n",
       "    </tr>\n",
       "    <tr>\n",
       "      <td>1</td>\n",
       "      <td>1</td>\n",
       "      <td>6417097</td>\n",
       "      <td>MARCO POLO</td>\n",
       "      <td>Passenger ship</td>\n",
       "      <td>2018.0</td>\n",
       "      <td>Not Applicable</td>\n",
       "      <td>NaN</td>\n",
       "      <td>NaN</td>\n",
       "      <td>IC</td>\n",
       "      <td>05/02/2019</td>\n",
       "      <td>...</td>\n",
       "      <td>NaN</td>\n",
       "      <td>NaN</td>\n",
       "      <td>NaN</td>\n",
       "      <td>NaN</td>\n",
       "      <td>NaN</td>\n",
       "      <td>NaN</td>\n",
       "      <td>NaN</td>\n",
       "      <td>NaN</td>\n",
       "      <td>NaN</td>\n",
       "      <td>NaN</td>\n",
       "    </tr>\n",
       "    <tr>\n",
       "      <td>2</td>\n",
       "      <td>2</td>\n",
       "      <td>6511128</td>\n",
       "      <td>RED STAR 1</td>\n",
       "      <td>Ro-pax ship</td>\n",
       "      <td>2018.0</td>\n",
       "      <td>EIV (45.57 gCO₂/t·nm)</td>\n",
       "      <td>NaN</td>\n",
       "      <td>NaN</td>\n",
       "      <td>NaN</td>\n",
       "      <td>30/04/2019</td>\n",
       "      <td>...</td>\n",
       "      <td>NaN</td>\n",
       "      <td>NaN</td>\n",
       "      <td>NaN</td>\n",
       "      <td>NaN</td>\n",
       "      <td>NaN</td>\n",
       "      <td>NaN</td>\n",
       "      <td>NaN</td>\n",
       "      <td>NaN</td>\n",
       "      <td>NaN</td>\n",
       "      <td>NaN</td>\n",
       "    </tr>\n",
       "    <tr>\n",
       "      <td>3</td>\n",
       "      <td>3</td>\n",
       "      <td>6602898</td>\n",
       "      <td>OCEAN MAJESTY</td>\n",
       "      <td>Passenger ship</td>\n",
       "      <td>2018.0</td>\n",
       "      <td>EIV (31.73 gCO₂/t·nm)</td>\n",
       "      <td>Madeira</td>\n",
       "      <td>NaN</td>\n",
       "      <td>NaN</td>\n",
       "      <td>06/05/2019</td>\n",
       "      <td>...</td>\n",
       "      <td>NaN</td>\n",
       "      <td>NaN</td>\n",
       "      <td>NaN</td>\n",
       "      <td>NaN</td>\n",
       "      <td>NaN</td>\n",
       "      <td>NaN</td>\n",
       "      <td>NaN</td>\n",
       "      <td>NaN</td>\n",
       "      <td>NaN</td>\n",
       "      <td>NaN</td>\n",
       "    </tr>\n",
       "    <tr>\n",
       "      <td>4</td>\n",
       "      <td>5</td>\n",
       "      <td>7037806</td>\n",
       "      <td>BOHUS</td>\n",
       "      <td>Ro-pax ship</td>\n",
       "      <td>2018.0</td>\n",
       "      <td>EIV (146 gCO₂/t·nm)</td>\n",
       "      <td>NaN</td>\n",
       "      <td>NaN</td>\n",
       "      <td>IC</td>\n",
       "      <td>30/04/2019</td>\n",
       "      <td>...</td>\n",
       "      <td>NaN</td>\n",
       "      <td>NaN</td>\n",
       "      <td>NaN</td>\n",
       "      <td>NaN</td>\n",
       "      <td>NaN</td>\n",
       "      <td>NaN</td>\n",
       "      <td>NaN</td>\n",
       "      <td>NaN</td>\n",
       "      <td>NaN</td>\n",
       "      <td>NaN</td>\n",
       "    </tr>\n",
       "    <tr>\n",
       "      <td>...</td>\n",
       "      <td>...</td>\n",
       "      <td>...</td>\n",
       "      <td>...</td>\n",
       "      <td>...</td>\n",
       "      <td>...</td>\n",
       "      <td>...</td>\n",
       "      <td>...</td>\n",
       "      <td>...</td>\n",
       "      <td>...</td>\n",
       "      <td>...</td>\n",
       "      <td>...</td>\n",
       "      <td>...</td>\n",
       "      <td>...</td>\n",
       "      <td>...</td>\n",
       "      <td>...</td>\n",
       "      <td>...</td>\n",
       "      <td>...</td>\n",
       "      <td>...</td>\n",
       "      <td>...</td>\n",
       "      <td>...</td>\n",
       "      <td>...</td>\n",
       "    </tr>\n",
       "    <tr>\n",
       "      <td>758</td>\n",
       "      <td>11734</td>\n",
       "      <td>9809095</td>\n",
       "      <td>GARDENIA SEAWAYS</td>\n",
       "      <td>Ro-ro ship</td>\n",
       "      <td>2018.0</td>\n",
       "      <td>EIV (11.16 gCO₂/t·nm)</td>\n",
       "      <td>Klaipeda</td>\n",
       "      <td>Klaipeda</td>\n",
       "      <td>NaN</td>\n",
       "      <td>29/04/2019</td>\n",
       "      <td>...</td>\n",
       "      <td>NaN</td>\n",
       "      <td>NaN</td>\n",
       "      <td>NaN</td>\n",
       "      <td>NaN</td>\n",
       "      <td>NaN</td>\n",
       "      <td>NaN</td>\n",
       "      <td>NaN</td>\n",
       "      <td>NaN</td>\n",
       "      <td>NaN</td>\n",
       "      <td>NaN</td>\n",
       "    </tr>\n",
       "    <tr>\n",
       "      <td>759</td>\n",
       "      <td>11735</td>\n",
       "      <td>9809100</td>\n",
       "      <td>TULIPA SEAWAYS</td>\n",
       "      <td>Ro-ro ship</td>\n",
       "      <td>2018.0</td>\n",
       "      <td>EIV (11.16 gCO₂/t·nm)</td>\n",
       "      <td>Klaipeda</td>\n",
       "      <td>NaN</td>\n",
       "      <td>NaN</td>\n",
       "      <td>29/04/2019</td>\n",
       "      <td>...</td>\n",
       "      <td>NaN</td>\n",
       "      <td>NaN</td>\n",
       "      <td>NaN</td>\n",
       "      <td>NaN</td>\n",
       "      <td>NaN</td>\n",
       "      <td>NaN</td>\n",
       "      <td>NaN</td>\n",
       "      <td>NaN</td>\n",
       "      <td>NaN</td>\n",
       "      <td>NaN</td>\n",
       "    </tr>\n",
       "    <tr>\n",
       "      <td>760</td>\n",
       "      <td>11751</td>\n",
       "      <td>9814026</td>\n",
       "      <td>LE LAPEROUSE</td>\n",
       "      <td>Passenger ship</td>\n",
       "      <td>2018.0</td>\n",
       "      <td>EEDI (20.4 gCO₂/t·nm)</td>\n",
       "      <td>NaN</td>\n",
       "      <td>NaN</td>\n",
       "      <td>IC</td>\n",
       "      <td>24/06/2019</td>\n",
       "      <td>...</td>\n",
       "      <td>NaN</td>\n",
       "      <td>NaN</td>\n",
       "      <td>NaN</td>\n",
       "      <td>NaN</td>\n",
       "      <td>NaN</td>\n",
       "      <td>NaN</td>\n",
       "      <td>NaN</td>\n",
       "      <td>NaN</td>\n",
       "      <td>NaN</td>\n",
       "      <td>NaN</td>\n",
       "    </tr>\n",
       "    <tr>\n",
       "      <td>761</td>\n",
       "      <td>11752</td>\n",
       "      <td>9814038</td>\n",
       "      <td>LE CHAMPLAIN</td>\n",
       "      <td>Passenger ship</td>\n",
       "      <td>2018.0</td>\n",
       "      <td>EEDI (19.1 gCO₂/t·nm)</td>\n",
       "      <td>NaN</td>\n",
       "      <td>NaN</td>\n",
       "      <td>IC</td>\n",
       "      <td>27/06/2019</td>\n",
       "      <td>...</td>\n",
       "      <td>NaN</td>\n",
       "      <td>NaN</td>\n",
       "      <td>NaN</td>\n",
       "      <td>NaN</td>\n",
       "      <td>NaN</td>\n",
       "      <td>NaN</td>\n",
       "      <td>NaN</td>\n",
       "      <td>NaN</td>\n",
       "      <td>NaN</td>\n",
       "      <td>NaN</td>\n",
       "    </tr>\n",
       "    <tr>\n",
       "      <td>762</td>\n",
       "      <td>11821</td>\n",
       "      <td>9848467</td>\n",
       "      <td>ALF POLLAK</td>\n",
       "      <td>Ro-ro ship</td>\n",
       "      <td>2018.0</td>\n",
       "      <td>EEDI (12.3 gCO₂/t·nm)</td>\n",
       "      <td>Cagliari</td>\n",
       "      <td>NaN</td>\n",
       "      <td>NaN</td>\n",
       "      <td>30/04/2019</td>\n",
       "      <td>...</td>\n",
       "      <td>NaN</td>\n",
       "      <td>NaN</td>\n",
       "      <td>NaN</td>\n",
       "      <td>273.55</td>\n",
       "      <td>NaN</td>\n",
       "      <td>NaN</td>\n",
       "      <td>NaN</td>\n",
       "      <td>NaN</td>\n",
       "      <td>NaN</td>\n",
       "      <td>NaN</td>\n",
       "    </tr>\n",
       "  </tbody>\n",
       "</table>\n",
       "<p>763 rows × 63 columns</p>\n",
       "</div>"
      ],
      "text/plain": [
       "     Unnamed: 0      imo              name       ship_type  reporting_period  \\\n",
       "0             0  5383304           ASTORIA  Passenger ship            2018.0   \n",
       "1             1  6417097        MARCO POLO  Passenger ship            2018.0   \n",
       "2             2  6511128        RED STAR 1     Ro-pax ship            2018.0   \n",
       "3             3  6602898     OCEAN MAJESTY  Passenger ship            2018.0   \n",
       "4             5  7037806             BOHUS     Ro-pax ship            2018.0   \n",
       "..          ...      ...               ...             ...               ...   \n",
       "758       11734  9809095  GARDENIA SEAWAYS      Ro-ro ship            2018.0   \n",
       "759       11735  9809100    TULIPA SEAWAYS      Ro-ro ship            2018.0   \n",
       "760       11751  9814026      LE LAPEROUSE  Passenger ship            2018.0   \n",
       "761       11752  9814038      LE CHAMPLAIN  Passenger ship            2018.0   \n",
       "762       11821  9848467        ALF POLLAK      Ro-ro ship            2018.0   \n",
       "\n",
       "      technical_efficiency port_of_registry home_port ice_class  \\\n",
       "0           Not Applicable              NaN       NaN       NaN   \n",
       "1           Not Applicable              NaN       NaN        IC   \n",
       "2    EIV (45.57 gCO₂/t·nm)              NaN       NaN       NaN   \n",
       "3    EIV (31.73 gCO₂/t·nm)          Madeira       NaN       NaN   \n",
       "4      EIV (146 gCO₂/t·nm)              NaN       NaN        IC   \n",
       "..                     ...              ...       ...       ...   \n",
       "758  EIV (11.16 gCO₂/t·nm)         Klaipeda  Klaipeda       NaN   \n",
       "759  EIV (11.16 gCO₂/t·nm)         Klaipeda       NaN       NaN   \n",
       "760  EEDI (20.4 gCO₂/t·nm)              NaN       NaN        IC   \n",
       "761  EEDI (19.1 gCO₂/t·nm)              NaN       NaN        IC   \n",
       "762  EEDI (12.3 gCO₂/t·nm)         Cagliari       NaN       NaN   \n",
       "\n",
       "    doc_issue_date  ...  \\\n",
       "0       05/02/2019  ...   \n",
       "1       05/02/2019  ...   \n",
       "2       30/04/2019  ...   \n",
       "3       06/05/2019  ...   \n",
       "4       30/04/2019  ...   \n",
       "..             ...  ...   \n",
       "758     29/04/2019  ...   \n",
       "759     29/04/2019  ...   \n",
       "760     24/06/2019  ...   \n",
       "761     27/06/2019  ...   \n",
       "762     30/04/2019  ...   \n",
       "\n",
       "    voluntary_reporting_average_fuel_consumption_per_transport_work_on_laden_voyages_pax  \\\n",
       "0                                                  NaN                                     \n",
       "1                                                  NaN                                     \n",
       "2                                                  NaN                                     \n",
       "3                                                  NaN                                     \n",
       "4                                                  NaN                                     \n",
       "..                                                 ...                                     \n",
       "758                                                NaN                                     \n",
       "759                                                NaN                                     \n",
       "760                                                NaN                                     \n",
       "761                                                NaN                                     \n",
       "762                                                NaN                                     \n",
       "\n",
       "     voluntary_reporting_average_fuel_consumption_per_transport_work_on_laden_voyages_freight  \\\n",
       "0                                                  NaN                                          \n",
       "1                                                  NaN                                          \n",
       "2                                                  NaN                                          \n",
       "3                                                  NaN                                          \n",
       "4                                                  NaN                                          \n",
       "..                                                 ...                                          \n",
       "758                                                NaN                                          \n",
       "759                                                NaN                                          \n",
       "760                                                NaN                                          \n",
       "761                                                NaN                                          \n",
       "762                                                NaN                                          \n",
       "\n",
       "    voluntary_reporting_average_co2_emissions_per_distance_on_laden_voyages  \\\n",
       "0                                                  NaN                        \n",
       "1                                                  NaN                        \n",
       "2                                                  NaN                        \n",
       "3                                                  NaN                        \n",
       "4                                                  NaN                        \n",
       "..                                                 ...                        \n",
       "758                                                NaN                        \n",
       "759                                                NaN                        \n",
       "760                                                NaN                        \n",
       "761                                                NaN                        \n",
       "762                                                NaN                        \n",
       "\n",
       "    voluntary_reporting_average_co2_emissions_per_transport_work_on_laden_voyages_mass  \\\n",
       "0                                                  NaN                                   \n",
       "1                                                  NaN                                   \n",
       "2                                                  NaN                                   \n",
       "3                                                  NaN                                   \n",
       "4                                                  NaN                                   \n",
       "..                                                 ...                                   \n",
       "758                                                NaN                                   \n",
       "759                                                NaN                                   \n",
       "760                                                NaN                                   \n",
       "761                                                NaN                                   \n",
       "762                                             273.55                                   \n",
       "\n",
       "    voluntary_reporting_average_co2_emissions_per_transport_work_on_laden_voyages_volume  \\\n",
       "0                                                  NaN                                     \n",
       "1                                                  NaN                                     \n",
       "2                                                  NaN                                     \n",
       "3                                                  NaN                                     \n",
       "4                                                  NaN                                     \n",
       "..                                                 ...                                     \n",
       "758                                                NaN                                     \n",
       "759                                                NaN                                     \n",
       "760                                                NaN                                     \n",
       "761                                                NaN                                     \n",
       "762                                                NaN                                     \n",
       "\n",
       "    voluntary_reporting_average_co2_emissions_per_transport_work_on_laden_voyages_dwt  \\\n",
       "0                                                  NaN                                  \n",
       "1                                                  NaN                                  \n",
       "2                                                  NaN                                  \n",
       "3                                                  NaN                                  \n",
       "4                                                  NaN                                  \n",
       "..                                                 ...                                  \n",
       "758                                                NaN                                  \n",
       "759                                                NaN                                  \n",
       "760                                                NaN                                  \n",
       "761                                                NaN                                  \n",
       "762                                                NaN                                  \n",
       "\n",
       "    voluntary_reporting_average_co2_emissions_per_transport_work_on_laden_voyages_pax  \\\n",
       "0                                                  NaN                                  \n",
       "1                                                  NaN                                  \n",
       "2                                                  NaN                                  \n",
       "3                                                  NaN                                  \n",
       "4                                                  NaN                                  \n",
       "..                                                 ...                                  \n",
       "758                                                NaN                                  \n",
       "759                                                NaN                                  \n",
       "760                                                NaN                                  \n",
       "761                                                NaN                                  \n",
       "762                                                NaN                                  \n",
       "\n",
       "    voluntary_reporting_average_co2_emissions_per_transport_work_on_laden_voyages_freight  \\\n",
       "0                                                  NaN                                      \n",
       "1                                                  NaN                                      \n",
       "2                                                  NaN                                      \n",
       "3                                                  NaN                                      \n",
       "4                                                  NaN                                      \n",
       "..                                                 ...                                      \n",
       "758                                                NaN                                      \n",
       "759                                                NaN                                      \n",
       "760                                                NaN                                      \n",
       "761                                                NaN                                      \n",
       "762                                                NaN                                      \n",
       "\n",
       "    voluntary_reporting_additional_comments  \\\n",
       "0                                       NaN   \n",
       "1                                       NaN   \n",
       "2                                       NaN   \n",
       "3                                       NaN   \n",
       "4                                       NaN   \n",
       "..                                      ...   \n",
       "758                                     NaN   \n",
       "759                                     NaN   \n",
       "760                                     NaN   \n",
       "761                                     NaN   \n",
       "762                                     NaN   \n",
       "\n",
       "    voluntary_reporting_average_density_of_the_cargo_transported  \n",
       "0                                                  NaN            \n",
       "1                                                  NaN            \n",
       "2                                                  NaN            \n",
       "3                                                  NaN            \n",
       "4                                                  NaN            \n",
       "..                                                 ...            \n",
       "758                                                NaN            \n",
       "759                                                NaN            \n",
       "760                                                NaN            \n",
       "761                                                NaN            \n",
       "762                                                NaN            \n",
       "\n",
       "[763 rows x 63 columns]"
      ]
     },
     "execution_count": 8,
     "metadata": {},
     "output_type": "execute_result"
    }
   ],
   "source": [
    "import pandas as pd\n",
    "import matplotlib as mp\n",
    "import os\n",
    "df = pd.read_csv('thetis_mrv_2019_12_24.pax.with_co2_data.csv')\n",
    "df"
   ]
  },
  {
   "cell_type": "code",
   "execution_count": 10,
   "metadata": {},
   "outputs": [
    {
     "data": {
      "text/plain": [
       "(763,)"
      ]
     },
     "execution_count": 10,
     "metadata": {},
     "output_type": "execute_result"
    }
   ],
   "source": [
    "co2 = df['annual_average_co2_emissions_per_transport_work_pax']\n",
    "co2.shape"
   ]
  },
  {
   "cell_type": "code",
   "execution_count": 11,
   "metadata": {},
   "outputs": [
    {
     "data": {
      "text/plain": [
       "count       493.000000\n",
       "mean       2871.530852\n",
       "std       36404.687531\n",
       "min           0.000000\n",
       "25%         312.580000\n",
       "50%         625.370000\n",
       "75%        1292.560000\n",
       "max      807505.880000\n",
       "Name: annual_average_co2_emissions_per_transport_work_pax, dtype: float64"
      ]
     },
     "execution_count": 11,
     "metadata": {},
     "output_type": "execute_result"
    }
   ],
   "source": [
    "co2.describe()"
   ]
  },
  {
   "cell_type": "code",
   "execution_count": 41,
   "metadata": {},
   "outputs": [
    {
     "data": {
      "text/plain": [
       "10586.141199999996"
      ]
     },
     "execution_count": 41,
     "metadata": {},
     "output_type": "execute_result"
    }
   ],
   "source": [
    "co2.quantile(0.99)"
   ]
  },
  {
   "cell_type": "code",
   "execution_count": 42,
   "metadata": {},
   "outputs": [],
   "source": [
    "co2_cut = co2[co2 < co2.quantile(0.9)]"
   ]
  },
  {
   "cell_type": "code",
   "execution_count": 46,
   "metadata": {},
   "outputs": [
    {
     "data": {
      "text/plain": [
       "<matplotlib.axes._subplots.AxesSubplot at 0x113fda910>"
      ]
     },
     "execution_count": 46,
     "metadata": {},
     "output_type": "execute_result"
    },
    {
     "data": {
      "image/png": "[encoded data removed]",
      "text/plain": [
       "<Figure size 432x288 with 1 Axes>"
      ]
     },
     "metadata": {
      "needs_background": "light"
     },
     "output_type": "display_data"
    }
   ],
   "source": [
    "co2_cut.plot.hist(bins=100)"
   ]
  },
  {
   "cell_type": "code",
   "execution_count": 44,
   "metadata": {},
   "outputs": [
    {
     "data": {
      "text/plain": [
       "0.2     204.644\n",
       "0.4     470.984\n",
       "0.6     866.032\n",
       "0.8    1481.812\n",
       "Name: annual_average_co2_emissions_per_transport_work_pax, dtype: float64"
      ]
     },
     "execution_count": 44,
     "metadata": {},
     "output_type": "execute_result"
    }
   ],
   "source": [
    "co2_cut.quantile([0.2, 0.4, 0.6, 0.8])"
   ]
  },
  {
   "cell_type": "code",
   "execution_count": 45,
   "metadata": {},
   "outputs": [
    {
     "data": {
      "text/plain": [
       "0.2    110.498920\n",
       "0.4    254.311015\n",
       "0.6    467.619870\n",
       "0.8    800.114471\n",
       "Name: annual_average_co2_emissions_per_transport_work_pax, dtype: float64"
      ]
     },
     "execution_count": 45,
     "metadata": {},
     "output_type": "execute_result"
    }
   ],
   "source": [
    "co2_cut.quantile([0.2, 0.4, 0.6, 0.8]) / 1.852"
   ]
  },
  {
   "cell_type": "code",
   "execution_count": 50,
   "metadata": {},
   "outputs": [
    {
     "data": {
      "text/plain": [
       "<matplotlib.axes._subplots.AxesSubplot at 0x1143b71d0>"
      ]
     },
     "execution_count": 50,
     "metadata": {},
     "output_type": "execute_result"
    },
    {
     "data": {
      "image/png": "[encoded data removed]",
      "text/plain": [
       "<Figure size 432x288 with 1 Axes>"
      ]
     },
     "metadata": {
      "needs_background": "light"
     },
     "output_type": "display_data"
    }
   ],
   "source": [
    "co2[co2 < 100].plot.hist(bins=20)"
   ]
  },
  {
   "cell_type": "code",
   "execution_count": 101,
   "metadata": {},
   "outputs": [
    {
     "data": {
      "text/plain": [
       "[158, 268, 536, 1071]"
      ]
     },
     "execution_count": 101,
     "metadata": {},
     "output_type": "execute_result"
    }
   ],
   "source": [
    "car_co2_per_km = 85.5\n",
    "plane_co2_per_km = 144.6\n",
    "# cf https://www.ademe.fr/expertises/mobilite-transports/chiffres-cles-observations/chiffres-cles\n",
    "thresholds_km = [car_co2_per_km, plane_co2_per_km, plane_co2_per_km * 2, plane_co2_per_km * 4]\n",
    "thresholds = [round(i * 1.852001) for i in thresholds_km]\n",
    "thresholds"
   ]
  },
  {
   "cell_type": "code",
   "execution_count": 100,
   "metadata": {},
   "outputs": [
    {
     "data": {
      "text/plain": [
       "<matplotlib.axes._subplots.AxesSubplot at 0x114eb54d0>"
      ]
     },
     "execution_count": 100,
     "metadata": {},
     "output_type": "execute_result"
    },
    {
     "data": {
      "image/png": "[encoded data removed]",
      "text/plain": [
       "<Figure size 432x288 with 1 Axes>"
      ]
     },
     "metadata": {
      "needs_background": "light"
     },
     "output_type": "display_data"
    }
   ],
   "source": [
    "pd.cut(co2, [0] + thresholds + [10**10]).value_counts().plot.bar()"
   ]
  },
  {
   "cell_type": "code",
   "execution_count": 87,
   "metadata": {},
   "outputs": [
    {
     "data": {
      "text/plain": [
       "0         993.14\n",
       "1         639.96\n",
       "2           2.07\n",
       "3        1124.27\n",
       "5        1017.63\n",
       "          ...   \n",
       "11506    1150.46\n",
       "11570      10.32\n",
       "11607     683.11\n",
       "11751    1466.00\n",
       "11752    1749.37\n",
       "Name: annual_average_co2_emissions_per_transport_work_pax, Length: 493, dtype: float64"
      ]
     },
     "execution_count": 87,
     "metadata": {},
     "output_type": "execute_result"
    }
   ],
   "source": [
    "co2"
   ]
  },
  {
   "cell_type": "code",
   "execution_count": null,
   "metadata": {},
   "outputs": [],
   "source": [
    " 3"
   ]
  },
  {
   "cell_type": "code",
   "execution_count": null,
   "metadata": {},
   "outputs": [],
   "source": []
  },
  {
   "cell_type": "code",
   "execution_count": null,
   "metadata": {},
   "outputs": [],
   "source": []
  }
 ],
 "metadata": {
  "kernelspec": {
   "display_name": "Python 3",
   "language": "python",
   "name": "python3"
  },
  "language_info": {
   "codemirror_mode": {
    "name": "ipython",
    "version": 3
   },
   "file_extension": ".py",
   "mimetype": "text/x-python",
   "name": "python",
   "nbconvert_exporter": "python",
   "pygments_lexer": "ipython3",
   "version": "3.8.5"
  }
 },
 "nbformat": 4,
 "nbformat_minor": 4
}
