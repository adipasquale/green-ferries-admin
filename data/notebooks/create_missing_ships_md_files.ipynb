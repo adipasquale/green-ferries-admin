{
 "metadata": {
  "language_info": {
   "codemirror_mode": {
    "name": "ipython",
    "version": 3
   },
   "file_extension": ".py",
   "mimetype": "text/x-python",
   "name": "python",
   "nbconvert_exporter": "python",
   "pygments_lexer": "ipython3",
   "version": "3.8.5-final"
  },
  "orig_nbformat": 2,
  "kernelspec": {
   "name": "python3",
   "display_name": "Python 3"
  }
 },
 "nbformat": 4,
 "nbformat_minor": 2,
 "cells": [
  {
   "cell_type": "code",
   "execution_count": 75,
   "metadata": {},
   "outputs": [],
   "source": [
    "import os\n",
    "import json\n",
    "import re\n",
    "import pandas as pd\n",
    "import numpy as np\n",
    "from slugify import slugify\n",
    "import frontmatter\n",
    "\n",
    "DIRNAME = os.path.abspath('')\n",
    "THETIS_CSV_PATH = os.path.join(DIRNAME, \"../files_computed/thetis_all_with_computed.csv\")\n",
    "WIKIDATA_SHIPS_CSV_PATH = os.path.join(DIRNAME, \"../files_original/original.wikidata.ships.csv\")\n",
    "WIKIDATA_URLS_CSV_PATH = os.path.join(DIRNAME, \"../files_original/original.wikidata.urls.csv\")\n",
    "WWW_SHIPS_DATA_PATH = os.path.join(DIRNAME, \"../../www/views/ships\")"
   ]
  },
  {
   "cell_type": "code",
   "execution_count": 27,
   "metadata": {},
   "outputs": [
    {
     "output_type": "stream",
     "name": "stdout",
     "text": [
      "got 497 passenger ships with wikipedia page\n"
     ]
    }
   ],
   "source": [
    "df_thetis = pd.read_csv(THETIS_CSV_PATH, usecols=[\"imo\", 'name', \"ship_type\"], dtype={\"imo\": str}).replace({np.nan: None}).groupby('imo').agg('first')\n",
    "df_thetis_filtered = df_thetis[df_thetis.ship_type.isin([\"Ro-pax ship\", \"Passenger ship\"])]\n",
    "df_wikidata_ships = pd.read_csv(WIKIDATA_SHIPS_CSV_PATH, dtype={\"imo\": str})\n",
    "df_wikidata_urls = pd.read_csv(WIKIDATA_URLS_CSV_PATH, dtype={\"imo\": str})\n",
    "df_wikidata = pd.merge(df_wikidata_ships, df_wikidata_urls, on=\"imo\").groupby('imo').agg(set)\n",
    "df_all = pd.merge(df_thetis_filtered, df_wikidata, on=\"imo\")\n",
    "print(f\"got {df_all.shape[0]} passenger ships with wikipedia page\")"
   ]
  },
  {
   "cell_type": "code",
   "execution_count": 28,
   "metadata": {},
   "outputs": [
    {
     "output_type": "stream",
     "name": "stdout",
     "text": [
      "found 390 existing ships MD files\n"
     ]
    }
   ],
   "source": [
    "filenames = os.listdir(WWW_SHIPS_DATA_PATH)\n",
    "regex_matches = [re.match(r\".*-(\\d+)\\.md\", filename) for filename in filenames]\n",
    "existing_md_imos = [r.groups()[0] for r in regex_matches if r]\n",
    "print(f\"found {len(existing_md_imos)} existing ships MD files\")"
   ]
  },
  {
   "cell_type": "code",
   "execution_count": 46,
   "metadata": {},
   "outputs": [
    {
     "output_type": "stream",
     "name": "stdout",
     "text": [
      "found 2 ship MD files but could not find them back in THETIS: {'9135963', '9832119'}\n"
     ]
    }
   ],
   "source": [
    "existing_md_files_without_thetis_match = set(existing_md_imos) - set(df_thetis.index.to_list())\n",
    "print(f\"found {len(existing_md_files_without_thetis_match)} ship MD files but could not find them back in THETIS: {existing_md_files_without_thetis_match}\")"
   ]
  },
  {
   "cell_type": "code",
   "execution_count": 48,
   "metadata": {},
   "outputs": [
    {
     "output_type": "stream",
     "name": "stdout",
     "text": [
      "found 122 missing MD files for ships both in thetis and wikipedia\n"
     ]
    },
    {
     "output_type": "execute_result",
     "data": {
      "text/plain": [
       "                  name       ship_type  \\\n",
       "imo                                      \n",
       "6511128     RED STAR 1     Ro-pax ship   \n",
       "7325629  OCEAN DIAMOND  Passenger ship   \n",
       "7426045      KEFALONIA     Ro-pax ship   \n",
       "7516773         GALAXY     Ro-pax ship   \n",
       "7527887       KOPERNIK     Ro-pax ship   \n",
       "\n",
       "                                             wikidataUrl_x  \\\n",
       "imo                                                          \n",
       "6511128         {http://www.wikidata.org/entity/Q19380740}   \n",
       "7325629          {http://www.wikidata.org/entity/Q3222300}   \n",
       "7426045         {http://www.wikidata.org/entity/Q47471106}   \n",
       "7516773  {http://www.wikidata.org/entity/Q11764894, htt...   \n",
       "7527887         {http://www.wikidata.org/entity/Q11764890}   \n",
       "\n",
       "                                 mmsi                              shipTypes  \\\n",
       "imo                                                                            \n",
       "6511128                 {372589000.0}                                 {ship}   \n",
       "7325629                 {311063900.0}                          {cruise ship}   \n",
       "7426045                 {239386000.0}                           {ferry ship}   \n",
       "7516773  {210652000.0, nan, nan, nan}                     {ship, ferry ship}   \n",
       "7527887                 {209896000.0}  {train ferry, ferry ship, motor ship}   \n",
       "\n",
       "        countryCode                                           imageUrl  \\\n",
       "imo                                                                      \n",
       "6511128       {nan}  {http://commons.wikimedia.org/wiki/Special:Fil...   \n",
       "7325629       {nan}  {http://commons.wikimedia.org/wiki/Special:Fil...   \n",
       "7426045       {nan}  {http://commons.wikimedia.org/wiki/Special:Fil...   \n",
       "7516773       {nan}                                              {nan}   \n",
       "7527887       {nan}  {http://commons.wikimedia.org/wiki/Special:Fil...   \n",
       "\n",
       "                                   beam                  draft  \\\n",
       "imo                                                              \n",
       "6511128                           {nan}                  {nan}   \n",
       "7325629                         {16.03}                  {4.8}   \n",
       "7426045                          {17.2}                  {5.2}   \n",
       "7516773  {nan, nan, nan, nan, nan, nan}  {nan, nan, 5.42, nan}   \n",
       "7527887                         {22.63}                  {5.8}   \n",
       "\n",
       "        maximumCapacity  ... operatorUrl operatorCountryCode operatorName  \\\n",
       "imo                      ...                                                \n",
       "6511128           {nan}  ...       {nan}               {nan}        {nan}   \n",
       "7325629  {265.0, 250.0}  ...       {nan}               {nan}        {nan}   \n",
       "7426045        {1100.0}  ...       {nan}               {nan}        {nan}   \n",
       "7516773           {nan}  ...       {nan}               {nan}        {nan}   \n",
       "7527887          {36.0}  ...       {nan}               {nan}        {nan}   \n",
       "\n",
       "                     manufacturerUrl manufacturerCountryCode  \\\n",
       "imo                                                            \n",
       "6511128  {http://www.oundka.com/de/}                    {DE}   \n",
       "7325629                        {nan}                   {nan}   \n",
       "7426045                        {nan}                   {nan}   \n",
       "7516773          {http://www.ssn.pl}                    {PL}   \n",
       "7527887                        {nan}                   {nan}   \n",
       "\n",
       "             manufacturerName  \\\n",
       "imo                             \n",
       "6511128  {Orenstein & Koppel}   \n",
       "7325629                 {nan}   \n",
       "7426045                 {nan}   \n",
       "7516773   {Szczecin Shipyard}   \n",
       "7527887                 {nan}   \n",
       "\n",
       "                                             wikidataUrl_y  \\\n",
       "imo                                                          \n",
       "6511128                                            {13406}   \n",
       "7325629                           {2668, 2669, 2670, 2671}   \n",
       "7426045                                            {16861}   \n",
       "7516773                              {14120, 18213, 18214}   \n",
       "7527887  {14571, 14572, 14573, 14574, 14575, 14576, 145...   \n",
       "\n",
       "                                                      item  \\\n",
       "imo                                                          \n",
       "6511128         {http://www.wikidata.org/entity/Q19380740}   \n",
       "7325629          {http://www.wikidata.org/entity/Q3222300}   \n",
       "7426045         {http://www.wikidata.org/entity/Q47471106}   \n",
       "7516773  {http://www.wikidata.org/entity/Q11764894, htt...   \n",
       "7527887         {http://www.wikidata.org/entity/Q11764890}   \n",
       "\n",
       "                                              wikipediaUrl     wikipediaLang  \n",
       "imo                                                                           \n",
       "6511128  {https://no.wikipedia.org/wiki/MS_%C2%ABRed_St...              {nb}  \n",
       "7325629  {https://fa.wikipedia.org/wiki/%D8%A7%D9%88%D8...  {de, fa, en, fr}  \n",
       "7426045   {https://de.wikipedia.org/wiki/Nissos_Kefalonia}              {de}  \n",
       "7516773  {https://de.wikipedia.org/wiki/Galaxy_(Schiff,...      {de, it, pl}  \n",
       "7527887  {https://de.wikipedia.org/wiki/Kopernik_(Schif...      {de, fi, pl}  \n",
       "\n",
       "[5 rows x 29 columns]"
      ],
      "text/html": "<div>\n<style scoped>\n    .dataframe tbody tr th:only-of-type {\n        vertical-align: middle;\n    }\n\n    .dataframe tbody tr th {\n        vertical-align: top;\n    }\n\n    .dataframe thead th {\n        text-align: right;\n    }\n</style>\n<table border=\"1\" class=\"dataframe\">\n  <thead>\n    <tr style=\"text-align: right;\">\n      <th></th>\n      <th>name</th>\n      <th>ship_type</th>\n      <th>wikidataUrl_x</th>\n      <th>mmsi</th>\n      <th>shipTypes</th>\n      <th>countryCode</th>\n      <th>imageUrl</th>\n      <th>beam</th>\n      <th>draft</th>\n      <th>maximumCapacity</th>\n      <th>...</th>\n      <th>operatorUrl</th>\n      <th>operatorCountryCode</th>\n      <th>operatorName</th>\n      <th>manufacturerUrl</th>\n      <th>manufacturerCountryCode</th>\n      <th>manufacturerName</th>\n      <th>wikidataUrl_y</th>\n      <th>item</th>\n      <th>wikipediaUrl</th>\n      <th>wikipediaLang</th>\n    </tr>\n    <tr>\n      <th>imo</th>\n      <th></th>\n      <th></th>\n      <th></th>\n      <th></th>\n      <th></th>\n      <th></th>\n      <th></th>\n      <th></th>\n      <th></th>\n      <th></th>\n      <th></th>\n      <th></th>\n      <th></th>\n      <th></th>\n      <th></th>\n      <th></th>\n      <th></th>\n      <th></th>\n      <th></th>\n      <th></th>\n      <th></th>\n    </tr>\n  </thead>\n  <tbody>\n    <tr>\n      <th>6511128</th>\n      <td>RED STAR 1</td>\n      <td>Ro-pax ship</td>\n      <td>{http://www.wikidata.org/entity/Q19380740}</td>\n      <td>{372589000.0}</td>\n      <td>{ship}</td>\n      <td>{nan}</td>\n      <td>{http://commons.wikimedia.org/wiki/Special:Fil...</td>\n      <td>{nan}</td>\n      <td>{nan}</td>\n      <td>{nan}</td>\n      <td>...</td>\n      <td>{nan}</td>\n      <td>{nan}</td>\n      <td>{nan}</td>\n      <td>{http://www.oundka.com/de/}</td>\n      <td>{DE}</td>\n      <td>{Orenstein &amp; Koppel}</td>\n      <td>{13406}</td>\n      <td>{http://www.wikidata.org/entity/Q19380740}</td>\n      <td>{https://no.wikipedia.org/wiki/MS_%C2%ABRed_St...</td>\n      <td>{nb}</td>\n    </tr>\n    <tr>\n      <th>7325629</th>\n      <td>OCEAN DIAMOND</td>\n      <td>Passenger ship</td>\n      <td>{http://www.wikidata.org/entity/Q3222300}</td>\n      <td>{311063900.0}</td>\n      <td>{cruise ship}</td>\n      <td>{nan}</td>\n      <td>{http://commons.wikimedia.org/wiki/Special:Fil...</td>\n      <td>{16.03}</td>\n      <td>{4.8}</td>\n      <td>{265.0, 250.0}</td>\n      <td>...</td>\n      <td>{nan}</td>\n      <td>{nan}</td>\n      <td>{nan}</td>\n      <td>{nan}</td>\n      <td>{nan}</td>\n      <td>{nan}</td>\n      <td>{2668, 2669, 2670, 2671}</td>\n      <td>{http://www.wikidata.org/entity/Q3222300}</td>\n      <td>{https://fa.wikipedia.org/wiki/%D8%A7%D9%88%D8...</td>\n      <td>{de, fa, en, fr}</td>\n    </tr>\n    <tr>\n      <th>7426045</th>\n      <td>KEFALONIA</td>\n      <td>Ro-pax ship</td>\n      <td>{http://www.wikidata.org/entity/Q47471106}</td>\n      <td>{239386000.0}</td>\n      <td>{ferry ship}</td>\n      <td>{nan}</td>\n      <td>{http://commons.wikimedia.org/wiki/Special:Fil...</td>\n      <td>{17.2}</td>\n      <td>{5.2}</td>\n      <td>{1100.0}</td>\n      <td>...</td>\n      <td>{nan}</td>\n      <td>{nan}</td>\n      <td>{nan}</td>\n      <td>{nan}</td>\n      <td>{nan}</td>\n      <td>{nan}</td>\n      <td>{16861}</td>\n      <td>{http://www.wikidata.org/entity/Q47471106}</td>\n      <td>{https://de.wikipedia.org/wiki/Nissos_Kefalonia}</td>\n      <td>{de}</td>\n    </tr>\n    <tr>\n      <th>7516773</th>\n      <td>GALAXY</td>\n      <td>Ro-pax ship</td>\n      <td>{http://www.wikidata.org/entity/Q11764894, htt...</td>\n      <td>{210652000.0, nan, nan, nan}</td>\n      <td>{ship, ferry ship}</td>\n      <td>{nan}</td>\n      <td>{nan}</td>\n      <td>{nan, nan, nan, nan, nan, nan}</td>\n      <td>{nan, nan, 5.42, nan}</td>\n      <td>{nan}</td>\n      <td>...</td>\n      <td>{nan}</td>\n      <td>{nan}</td>\n      <td>{nan}</td>\n      <td>{http://www.ssn.pl}</td>\n      <td>{PL}</td>\n      <td>{Szczecin Shipyard}</td>\n      <td>{14120, 18213, 18214}</td>\n      <td>{http://www.wikidata.org/entity/Q11764894, htt...</td>\n      <td>{https://de.wikipedia.org/wiki/Galaxy_(Schiff,...</td>\n      <td>{de, it, pl}</td>\n    </tr>\n    <tr>\n      <th>7527887</th>\n      <td>KOPERNIK</td>\n      <td>Ro-pax ship</td>\n      <td>{http://www.wikidata.org/entity/Q11764890}</td>\n      <td>{209896000.0}</td>\n      <td>{train ferry, ferry ship, motor ship}</td>\n      <td>{nan}</td>\n      <td>{http://commons.wikimedia.org/wiki/Special:Fil...</td>\n      <td>{22.63}</td>\n      <td>{5.8}</td>\n      <td>{36.0}</td>\n      <td>...</td>\n      <td>{nan}</td>\n      <td>{nan}</td>\n      <td>{nan}</td>\n      <td>{nan}</td>\n      <td>{nan}</td>\n      <td>{nan}</td>\n      <td>{14571, 14572, 14573, 14574, 14575, 14576, 145...</td>\n      <td>{http://www.wikidata.org/entity/Q11764890}</td>\n      <td>{https://de.wikipedia.org/wiki/Kopernik_(Schif...</td>\n      <td>{de, fi, pl}</td>\n    </tr>\n  </tbody>\n</table>\n<p>5 rows × 29 columns</p>\n</div>"
     },
     "metadata": {},
     "execution_count": 48
    }
   ],
   "source": [
    "df_missing_md_files = df_all[~df_all.index.isin(existing_md_imos)]\n",
    "print(f\"found {df_missing_md_files.shape[0]} missing MD files for ships both in thetis and wikipedia\")\n",
    "df_missing_md_files.head()"
   ]
  },
  {
   "cell_type": "code",
   "execution_count": 88,
   "metadata": {},
   "outputs": [],
   "source": [
    "operator_mapping = {\n",
    "    \"Carnival Cruise Line\": \"carnival-cruise-line-us\",\n",
    "    \"Royal Caribbean International\": \"royal-caribbean-international-us\",\n",
    "    \"Celebrity Cruises\": \"celebrity-cruises-us\",\n",
    "    \"Costa Cruises\": \"costa-cruises-it\",\n",
    "    \"Holland America Line\": \"holland-america-line-us\",\n",
    "    \"Viking Line\": \"viking-line-fi\",\n",
    "    \"Color Line\": \"color-line-no\",\n",
    "    \"Algérie Ferries\": \"algerie-ferries-dz\",\n",
    "    \"Oceania Cruises\": \"oceania-cruises-us\",\n",
    "    \"Peter Deilmann Cruises\": \"peter-deilmann-cruises-de\",\n",
    "    \"Molslinjen\": \"molslinjen-dk\",\n",
    "    \"Hurtigruten Group\": \"hurtigruten-group-no\",\n",
    "    \"Hapag-Lloyd Kreuzfahrten GmbH\": \"hapag-lloyd-de\",\n",
    "    \"MSC Cruises\": \"msc-cruises-it\",\n",
    "    \"Royal Caribbean Group\": \"royal-caribbean-international-us\"\n",
    "}"
   ]
  },
  {
   "cell_type": "code",
   "execution_count": 90,
   "metadata": {
    "tags": [
     "outputPrepend"
    ]
   },
   "outputs": [
    {
     "output_type": "stream",
     "name": "stdout",
     "text": [
      "}\n{'layout': 'ship', 'tags': ['ship'], 'imo': '8916126', 'name': 'DIAGORAS', 'wikipediaUrl': 'https://ja.wikipedia.org/wiki/%E3%83%8B%E3%83%A5%E3%83%BC%E3%81%A8%E3%81%95', 'slug': 'diagoras-8916126', 'company': None}\n{'layout': 'ship', 'tags': ['ship'], 'imo': '8919245', 'name': 'VASCO DA GAMA', 'wikipediaUrl': 'https://fr.wikipedia.org/wiki/MS_Statendam', 'slug': 'vasco-da-gama-8919245', 'company': None}\n{'layout': 'ship', 'tags': ['ship'], 'imo': '9000687', 'name': 'GEMINI', 'wikipediaUrl': 'https://en.wikipedia.org/wiki/MV_Gemini', 'slug': 'gemini-9000687', 'company': None}\n{'layout': 'ship', 'tags': ['ship'], 'imo': '9007491', 'name': 'CLUB MED 2', 'wikipediaUrl': 'https://fr.wikipedia.org/wiki/Club_Med_2', 'slug': 'club-med-2-9007491', 'company': None}\n{'layout': 'ship', 'tags': ['ship'], 'imo': '9010814', 'name': 'MAZOVIA', 'wikipediaUrl': 'https://de.wikipedia.org/wiki/Mazovia', 'slug': 'mazovia-9010814', 'company': None}\n{'layout': 'ship', 'tags': ['ship'], 'imo': '9050137', 'name': 'ORIANA', 'wikipediaUrl': 'https://fr.wikipedia.org/wiki/Oriana_(navire,_1995)', 'slug': 'oriana-9050137', 'company': None}\n{'layout': 'ship', 'tags': ['ship'], 'imo': '9059107', 'name': 'AF MARINA', 'wikipediaUrl': 'https://it.wikipedia.org/wiki/AF_Marina', 'slug': 'af-marina-9059107', 'company': None}\n{'layout': 'ship', 'tags': ['ship'], 'imo': '9066667', 'name': 'CRYSTAL SYMPHONY', 'wikipediaUrl': 'https://en.wikipedia.org/wiki/Crystal_Symphony', 'slug': 'crystal-symphony-9066667', 'company': None}\n{'layout': 'ship', 'tags': ['ship'], 'imo': '9072446', 'name': 'MARELLA EXPLORER 2', 'wikipediaUrl': 'https://fr.wikipedia.org/wiki/Marella_Explorer_2', 'slug': 'marella-explorer-2-9072446', 'company': 'celebrity-cruises-us'}\n{'layout': 'ship', 'tags': ['ship'], 'imo': '9109768', 'name': 'TARIQ IBN ZIYAD', 'wikipediaUrl': 'https://fr.wikipedia.org/wiki/Tariq_Ibn_Ziyad_(ferry)', 'slug': 'tariq-ibn-ziyad-9109768', 'company': 'algerie-ferries-dz'}\n{'layout': 'ship', 'tags': ['ship'], 'imo': '9110016', 'name': 'SUPERFERRY', 'wikipediaUrl': 'https://ja.wikipedia.org/wiki/%E3%81%93%E3%81%8C%E3%81%AD%E4%B8%B8_(3%E4%BB%A3)', 'slug': 'superferry-9110016', 'company': None}\n{'layout': 'ship', 'tags': ['ship'], 'imo': '9135896', 'name': 'CHAMPION JET 2', 'wikipediaUrl': 'https://fr.wikipedia.org/wiki/Condor_Express', 'slug': 'champion-jet-2-9135896', 'company': None}\n{'layout': 'ship', 'tags': ['ship'], 'imo': '9138329', 'name': 'HAMBURG', 'wikipediaUrl': 'https://en.wikipedia.org/wiki/MS_Hamburg', 'slug': 'hamburg-9138329', 'company': None}\n{'layout': 'ship', 'tags': ['ship'], 'imo': '9138850', 'name': 'CARNIVAL SUNRISE', 'wikipediaUrl': 'https://fr.wikipedia.org/wiki/Carnival_Triumph', 'slug': 'carnival-sunrise-9138850', 'company': 'carnival-cruise-line-us'}\n{'layout': 'ship', 'tags': ['ship'], 'imo': '9141065', 'name': 'NORWEGIAN SPIRIT', 'wikipediaUrl': 'https://en.wikipedia.org/wiki/Norwegian_Spirit', 'slug': 'norwegian-spirit-9141065', 'company': None}\n{'layout': 'ship', 'tags': ['ship'], 'imo': '9141807', 'name': 'DEUTSCHLAND', 'wikipediaUrl': 'https://en.wikipedia.org/wiki/MS_Deutschland', 'slug': 'deutschland-9141807', 'company': 'peter-deilmann-cruises-de'}\n{'layout': 'ship', 'tags': ['ship'], 'imo': '9150030', 'name': 'HAMLET', 'wikipediaUrl': 'https://fi.wikipedia.org/wiki/M/S_Hamlet', 'slug': 'hamlet-9150030', 'company': None}\n{'layout': 'ship', 'tags': ['ship'], 'imo': '9150913', 'name': 'SEA PRINCESS', 'wikipediaUrl': 'https://fr.wikipedia.org/wiki/Sea_Princess', 'slug': 'sea-princess-9150913', 'company': None}\n{'layout': 'ship', 'tags': ['ship'], 'imo': '9156462', 'name': 'INSIGNIA', 'wikipediaUrl': 'https://fr.wikipedia.org/wiki/MS_Insignia', 'slug': 'insignia-9156462', 'company': 'oceania-cruises-us'}\n{'layout': 'ship', 'tags': ['ship'], 'imo': '9161728', 'name': 'EXPLORER OF THE SEAS', 'wikipediaUrl': 'https://fr.wikipedia.org/wiki/Explorer_of_the_Seas', 'slug': 'explorer-of-the-seas-9161728', 'company': 'royal-caribbean-international-us'}\n{'layout': 'ship', 'tags': ['ship'], 'imo': '9176058', 'name': 'MAX', 'wikipediaUrl': 'https://en.wikipedia.org/wiki/HSC_Max_Mols', 'slug': 'max-9176058', 'company': None}\n{'layout': 'ship', 'tags': ['ship'], 'imo': '9189421', 'name': 'CELEBRITY INFINITY', 'wikipediaUrl': 'https://fr.wikipedia.org/wiki/Celebrity_Infinity', 'slug': 'celebrity-infinity-9189421', 'company': 'celebrity-cruises-us'}\n{'layout': 'ship', 'tags': ['ship'], 'imo': '9192167', 'name': 'SILVER SHADOW', 'wikipediaUrl': 'https://en.wikipedia.org/wiki/Silver_Shadow_(ship)', 'slug': 'silver-shadow-9192167', 'company': None}\n{'layout': 'ship', 'tags': ['ship'], 'imo': '9192179', 'name': 'SILVER WHISPER', 'wikipediaUrl': 'https://en.wikipedia.org/wiki/Silver_Whisper', 'slug': 'silver-whisper-9192179', 'company': None}\n{'layout': 'ship', 'tags': ['ship'], 'imo': '9195157', 'name': 'NORWEGIAN STAR', 'wikipediaUrl': 'https://en.wikipedia.org/wiki/Norwegian_Star', 'slug': 'norwegian-star-9195157', 'company': None}\n{'layout': 'ship', 'tags': ['ship'], 'imo': '9195200', 'name': 'BRILLIANCE OF THE SEAS', 'wikipediaUrl': 'https://fr.wikipedia.org/wiki/Brilliance_of_the_Seas', 'slug': 'brilliance-of-the-seas-9195200', 'company': 'royal-caribbean-international-us'}\n{'layout': 'ship', 'tags': ['ship'], 'imo': '9198367', 'name': 'CARNIVAL GLORY', 'wikipediaUrl': 'https://fr.wikipedia.org/wiki/Carnival_Glory', 'slug': 'carnival-glory-9198367', 'company': 'carnival-cruise-line-us'}\n{'layout': 'ship', 'tags': ['ship'], 'imo': '9200938', 'name': 'NAUTICA', 'wikipediaUrl': 'https://fr.wikipedia.org/wiki/MS_Nautica', 'slug': 'nautica-9200938', 'company': None}\n{'layout': 'ship', 'tags': ['ship'], 'imo': '9219331', 'name': 'THE WORLD', 'wikipediaUrl': 'https://en.wikipedia.org/wiki/MS_The_World', 'slug': 'the-world-9219331', 'company': None}\n{'layout': 'ship', 'tags': ['ship'], 'imo': '9221281', 'name': 'OOSTERDAM', 'wikipediaUrl': 'https://fr.wikipedia.org/wiki/MS_Oosterdam', 'slug': 'oosterdam-9221281', 'company': None}\n{'layout': 'ship', 'tags': ['ship'], 'imo': '9223150', 'name': 'THEOLOGOS P.', 'wikipediaUrl': 'https://ja.wikipedia.org/wiki/%E3%83%95%E3%82%A7%E3%83%AA%E3%83%BC%E3%81%93%E3%81%86%E3%81%A1', 'slug': 'theologos-p-9223150', 'company': None}\n{'layout': 'ship', 'tags': ['ship'], 'imo': '9223954', 'name': 'CARNIVAL PRIDE', 'wikipediaUrl': 'https://fr.wikipedia.org/wiki/Carnival_Pride', 'slug': 'carnival-pride-9223954', 'company': 'carnival-cruise-line-us'}\n{'layout': 'ship', 'tags': ['ship'], 'imo': '9226906', 'name': 'ARCADIA', 'wikipediaUrl': 'https://fr.wikipedia.org/wiki/Arcadia_(navire_de_croisi%C3%A8re)', 'slug': 'arcadia-9226906', 'company': None}\n{'layout': 'ship', 'tags': ['ship'], 'imo': '9227390', 'name': 'NORRONA', 'wikipediaUrl': 'https://en.wikipedia.org/wiki/MS_Norr%C3%B6na', 'slug': 'norrona-9227390', 'company': None}\n{'layout': 'ship', 'tags': ['ship'], 'imo': '9228186', 'name': 'SAPPHIRE PRINCESS', 'wikipediaUrl': 'https://fr.wikipedia.org/wiki/Sapphire_Princess', 'slug': 'sapphire-princess-9228186', 'company': None}\n{'layout': 'ship', 'tags': ['ship'], 'imo': '9237589', 'name': 'ROMANTIKA', 'wikipediaUrl': 'https://fr.wikipedia.org/wiki/Romantika', 'slug': 'romantika-9237589', 'company': None}\n{'layout': 'ship', 'tags': ['ship'], 'imo': '9239783', 'name': 'COSTA FORTUNA', 'wikipediaUrl': 'https://fr.wikipedia.org/wiki/Costa_Fortuna', 'slug': 'costa-fortuna-9239783', 'company': None}\n{'layout': 'ship', 'tags': ['ship'], 'imo': '9241786', 'name': 'BLUE STAR NAXOS', 'wikipediaUrl': 'https://de.wikipedia.org/wiki/Blue_Star_Naxos', 'slug': 'blue-star-naxos-9241786', 'company': None}\n{'layout': 'ship', 'tags': ['ship'], 'imo': '9243667', 'name': 'CRYSTAL SERENITY', 'wikipediaUrl': 'https://en.wikipedia.org/wiki/Crystal_Serenity', 'slug': 'crystal-serenity-9243667', 'company': None}\n{'layout': 'ship', 'tags': ['ship'], 'imo': '9267390', 'name': 'LOBO MARINHO', 'wikipediaUrl': 'https://de.wikipedia.org/wiki/Lobo_Marinho_(Schiff,_2003)', 'slug': 'lobo-marinho-9267390', 'company': None}\n{'layout': 'ship', 'tags': ['ship'], 'imo': '9304057', 'name': 'NORWEGIAN JADE', 'wikipediaUrl': 'https://fr.wikipedia.org/wiki/Norwegian_Jade', 'slug': 'norwegian-jade-9304057', 'company': None}\n{'layout': 'ship', 'tags': ['ship'], 'imo': '9328015', 'name': 'GOTLANDIA II', 'wikipediaUrl': 'https://en.wikipedia.org/wiki/HSC_Gotlandia_II', 'slug': 'gotlandia-ii-9328015', 'company': None}\n{'layout': 'ship', 'tags': ['ship'], 'imo': '9333175', 'name': 'VENTURA', 'wikipediaUrl': 'https://fr.wikipedia.org/wiki/MS_Ventura', 'slug': 'ventura-9333175', 'company': None}\n{'layout': 'ship', 'tags': ['ship'], 'imo': '9333694', 'name': 'GALAXY', 'wikipediaUrl': 'https://fr.wikipedia.org/wiki/Galaxy_(ferry)', 'slug': 'galaxy-9333694', 'company': None}\n{'layout': 'ship', 'tags': ['ship'], 'imo': '9342281', 'name': 'NORWEGIAN PEARL', 'wikipediaUrl': 'https://fr.wikipedia.org/wiki/Norwegian_Pearl', 'slug': 'norwegian-pearl-9342281', 'company': None}\n{'layout': 'ship', 'tags': ['ship'], 'imo': '9350721', 'name': 'VICTORIA SEAWAYS', 'wikipediaUrl': 'https://de.wikipedia.org/wiki/Victoria_Seaways', 'slug': 'victoria-seaways-9350721', 'company': None}\n{'layout': 'ship', 'tags': ['ship'], 'imo': '9351476', 'name': 'CRUISE ROMA', 'wikipediaUrl': 'https://fr.wikipedia.org/wiki/Cruise_Roma', 'slug': 'cruise-roma-9351476', 'company': None}\n{'layout': 'ship', 'tags': ['ship'], 'imo': '9354284', 'name': 'BALTIC PRINCESS', 'wikipediaUrl': 'https://fr.wikipedia.org/wiki/Baltic_Princess_(ferry)', 'slug': 'baltic-princess-9354284', 'company': None}\n{'layout': 'ship', 'tags': ['ship'], 'imo': '9383936', 'name': 'OASIS OF THE SEAS', 'wikipediaUrl': 'https://fr.wikipedia.org/wiki/Oasis_of_the_Seas', 'slug': 'oasis-of-the-seas-9383936', 'company': 'royal-caribbean-international-us'}\n{'layout': 'ship', 'tags': ['ship'], 'imo': '9410569', 'name': 'NORWEGIAN EPIC', 'wikipediaUrl': 'https://fr.wikipedia.org/wiki/Norwegian_Epic', 'slug': 'norwegian-epic-9410569', 'company': None}\n{'layout': 'ship', 'tags': ['ship'], 'imo': '9417919', 'name': 'STENA FLAVIA', 'wikipediaUrl': 'https://de.wikipedia.org/wiki/Stena_Flavia', 'slug': 'stena-flavia-9417919', 'company': None}\n{'layout': 'ship', 'tags': ['ship'], 'imo': '9419163', 'name': 'STENA HOLLANDICA', 'wikipediaUrl': 'https://en.wikipedia.org/wiki/MV_Stena_Hollandica', 'slug': 'stena-hollandica-9419163', 'company': None}\n{'layout': 'ship', 'tags': ['ship'], 'imo': '9424883', 'name': 'AZURA', 'wikipediaUrl': 'https://fr.wikipedia.org/wiki/MS_Azura', 'slug': 'azura-9424883', 'company': None}\n{'layout': 'ship', 'tags': ['ship'], 'imo': '9430105', 'name': 'VILLA DE TEROR (MAR-19)', 'wikipediaUrl': 'https://fr.wikipedia.org/wiki/Viking_ADCC', 'slug': 'villa-de-teror-mar-19-9430105', 'company': 'viking-line-fi'}\n{'layout': 'ship', 'tags': ['ship'], 'imo': '9437866', 'name': 'SILVER SPIRIT', 'wikipediaUrl': 'https://en.wikipedia.org/wiki/Silver_Spirit_(ship)', 'slug': 'silver-spirit-9437866', 'company': None}\n{'layout': 'ship', 'tags': ['ship'], 'imo': '9476305', 'name': 'KORCULA', 'wikipediaUrl': 'https://it.wikipedia.org/wiki/Kor%C4%8Dula_(traghetto)', 'slug': 'korcula-9476305', 'company': None}\n{'layout': 'ship', 'tags': ['ship'], 'imo': '9479852', 'name': 'COSTA FAVOLOSA', 'wikipediaUrl': 'https://fr.wikipedia.org/wiki/Costa_Favolosa', 'slug': 'costa-favolosa-9479852', 'company': None}\n{'layout': 'ship', 'tags': ['ship'], 'imo': '9482902', 'name': 'FINLAGGAN', 'wikipediaUrl': 'https://en.wikipedia.org/wiki/MV_Finlaggan', 'slug': 'finlaggan-9482902', 'company': None}\n{'layout': 'ship', 'tags': ['ship'], 'imo': '9501590', 'name': 'EXPRESS 1', 'wikipediaUrl': 'https://en.wikipedia.org/wiki/HSC_Express_1', 'slug': 'express-1-9501590', 'company': None}\n{'layout': 'ship', 'tags': ['ship'], 'imo': '9502506', 'name': 'LE BOREAL', 'wikipediaUrl': 'https://fr.wikipedia.org/wiki/Le_Bor%C3%A9al_(navire_de_croisi%C3%A8re)', 'slug': 'le-boreal-9502506', 'company': None}\n{'layout': 'ship', 'tags': ['ship'], 'imo': '9502518', 'name': 'L AUSTRAL', 'wikipediaUrl': 'https://fr.wikipedia.org/wiki/L%27Austral', 'slug': 'l-austral-9502518', 'company': None}\n{'layout': 'ship', 'tags': ['ship'], 'imo': '9539054', 'name': 'EPSILON', 'wikipediaUrl': 'https://en.wikipedia.org/wiki/MS_Epsilon', 'slug': 'epsilon-9539054', 'company': None}\n{'layout': 'ship', 'tags': ['ship'], 'imo': '9561356', 'name': 'EXPRESS 2', 'wikipediaUrl': 'https://en.wikipedia.org/wiki/HSC_Express_2', 'slug': 'express-2-9561356', 'company': None}\n{'layout': 'ship', 'tags': ['ship'], 'imo': '9584712', 'name': 'ROYAL PRINCESS', 'wikipediaUrl': 'https://fr.wikipedia.org/wiki/Royal_Princess_(2013)', 'slug': 'royal-princess-9584712', 'company': None}\n{'layout': 'ship', 'tags': ['ship'], 'imo': '9586617', 'name': 'BERGENSFJORD', 'wikipediaUrl': 'https://en.wikipedia.org/wiki/MS_Bergensfjord_(2013)', 'slug': 'bergensfjord-9586617', 'company': None}\n{'layout': 'ship', 'tags': ['ship'], 'imo': '9598579', 'name': 'TANIT', 'wikipediaUrl': 'https://fr.wikipedia.org/wiki/Tanit_(ferry)', 'slug': 'tanit-9598579', 'company': None}\n{'layout': 'ship', 'tags': ['ship'], 'imo': '9606912', 'name': 'NORWEGIAN BREAKAWAY', 'wikipediaUrl': 'https://en.wikipedia.org/wiki/Norwegian_Breakaway', 'slug': 'norwegian-breakaway-9606912', 'company': None}\n{'layout': 'ship', 'tags': ['ship'], 'imo': '9606924', 'name': 'NORWEGIAN GETAWAY', 'wikipediaUrl': 'https://en.wikipedia.org/wiki/Norwegian_Getaway', 'slug': 'norwegian-getaway-9606924', 'company': None}\n{'layout': 'ship', 'tags': ['ship'], 'imo': '9614036', 'name': 'BRITANNIA', 'wikipediaUrl': 'https://en.wikipedia.org/wiki/MV_Britannia_(2014)', 'slug': 'britannia-9614036', 'company': None}\n{'layout': 'ship', 'tags': ['ship'], 'imo': '9631797', 'name': 'MESSINA', 'wikipediaUrl': 'https://it.wikipedia.org/wiki/Messina_(traghetto)', 'slug': 'messina-9631797', 'company': None}\n{'layout': 'ship', 'tags': ['ship'], 'imo': '9641675', 'name': 'LE SOLEAL', 'wikipediaUrl': 'https://fr.wikipedia.org/wiki/Le_Sol%C3%A9al', 'slug': 'le-soleal-9641675', 'company': None}\n{'layout': 'ship', 'tags': ['ship'], 'imo': '9665437', 'name': 'LOCH SEAFORTH', 'wikipediaUrl': 'https://en.wikipedia.org/wiki/MV_Loch_Seaforth_(2014)', 'slug': 'loch-seaforth-9665437', 'company': None}\n{'layout': 'ship', 'tags': ['ship'], 'imo': '9703150', 'name': 'SEVEN SEAS EXPLORER', 'wikipediaUrl': 'https://fr.wikipedia.org/wiki/Seven_Seas_Explorer', 'slug': 'seven-seas-explorer-9703150', 'company': None}\n{'layout': 'ship', 'tags': ['ship'], 'imo': '9704130', 'name': 'LE LYRIAL', 'wikipediaUrl': 'https://en.wikipedia.org/wiki/Le_Lyrial', 'slug': 'le-lyrial-9704130', 'company': None}\n{'layout': 'ship', 'tags': ['ship'], 'imo': '9751509', 'name': 'NORWEGIAN BLISS', 'wikipediaUrl': 'https://en.wikipedia.org/wiki/Norwegian_Bliss', 'slug': 'norwegian-bliss-9751509', 'company': None}\n{'layout': 'ship', 'tags': ['ship'], 'imo': '9751511', 'name': 'NORWEGIAN ENCORE', 'wikipediaUrl': 'https://en.wikipedia.org/wiki/Norwegian_Encore', 'slug': 'norwegian-encore-9751511', 'company': None}\n{'layout': 'ship', 'tags': ['ship'], 'imo': '9760524', 'name': 'MSC BELLISSIMA', 'wikipediaUrl': 'https://fr.wikipedia.org/wiki/MSC_Bellissima', 'slug': 'msc-bellissima-9760524', 'company': 'msc-cruises-it'}\n{'layout': 'ship', 'tags': ['ship'], 'imo': '9767091', 'name': 'CARNIVAL HORIZON', 'wikipediaUrl': 'https://en.wikipedia.org/wiki/Carnival_Horizon', 'slug': 'carnival-horizon-9767091', 'company': 'carnival-cruise-line-us'}\n{'layout': 'ship', 'tags': ['ship'], 'imo': '9778856', 'name': 'SPECTRUM OF THE SEAS', 'wikipediaUrl': 'https://fr.wikipedia.org/wiki/Spectrum_of_the_Seas', 'slug': 'spectrum-of-the-seas-9778856', 'company': 'royal-caribbean-international-us'}\n{'layout': 'ship', 'tags': ['ship'], 'imo': '9781865', 'name': 'AIDANOVA', 'wikipediaUrl': 'https://fr.wikipedia.org/wiki/AIDAnova', 'slug': 'aidanova-9781865', 'company': None}\n{'layout': 'ship', 'tags': ['ship'], 'imo': '9781889', 'name': 'COSTA SMERALDA', 'wikipediaUrl': 'https://fr.wikipedia.org/wiki/Costa_Smeralda_(paquebot)', 'slug': 'costa-smeralda-9781889', 'company': 'costa-cruises-it'}\n{'layout': 'ship', 'tags': ['ship'], 'imo': '9783576', 'name': 'MEIN SCHIFF 2', 'wikipediaUrl': 'https://de.wikipedia.org/wiki/Mein_Schiff_2_(Schiff,_2019)', 'slug': 'mein-schiff-2-9783576', 'company': None}\n{'layout': 'ship', 'tags': ['ship'], 'imo': '9784350', 'name': 'SILVER MUSE', 'wikipediaUrl': 'https://en.wikipedia.org/wiki/Silver_Muse', 'slug': 'silver-muse-9784350', 'company': None}\n{'layout': 'ship', 'tags': ['ship'], 'imo': '9791028', 'name': 'VICTORIA OF WIGHT', 'wikipediaUrl': 'https://en.wikipedia.org/wiki/MV_Victoria_of_Wight', 'slug': 'victoria-of-wight-9791028', 'company': None}\n{'layout': 'ship', 'tags': ['ship'], 'imo': '9793064', 'name': 'EXPRESS 3', 'wikipediaUrl': 'https://en.wikipedia.org/wiki/HSC_Express_3', 'slug': 'express-3-9793064', 'company': None}\n{'layout': 'ship', 'tags': ['ship'], 'imo': '9801689', 'name': 'COSTA VENEZIA', 'wikipediaUrl': 'https://fr.wikipedia.org/wiki/Costa_Venezia', 'slug': 'costa-venezia-9801689', 'company': 'costa-cruises-it'}\n{'layout': 'ship', 'tags': ['ship'], 'imo': '9802384', 'name': 'CARNIVAL PANORAMA', 'wikipediaUrl': 'https://en.wikipedia.org/wiki/Carnival_Panorama', 'slug': 'carnival-panorama-9802384', 'company': 'carnival-cruise-line-us'}\n{'layout': 'ship', 'tags': ['ship'], 'imo': '9803613', 'name': 'MSC GRANDIOSA', 'wikipediaUrl': 'https://fr.wikipedia.org/wiki/MSC_Grandiosa', 'slug': 'msc-grandiosa-9803613', 'company': None}\n{'layout': 'ship', 'tags': ['ship'], 'imo': '9809679', 'name': 'W. B. YEATS', 'wikipediaUrl': 'https://en.wikipedia.org/wiki/MV_W.B._Yeats', 'slug': 'w-b-yeats-9809679', 'company': None}\n{'layout': 'ship', 'tags': ['ship'], 'imo': '9812107', 'name': 'HAMMERSHUS', 'wikipediaUrl': 'https://de.wikipedia.org/wiki/Hammershus_(Schiff,_2018)', 'slug': 'hammershus-9812107', 'company': 'molslinjen-dk'}\n{'layout': 'ship', 'tags': ['ship'], 'imo': '9813072', 'name': 'ROALD AMUNDSEN', 'wikipediaUrl': 'https://en.wikipedia.org/wiki/MS_Roald_Amundsen', 'slug': 'roald-amundsen-9813072', 'company': 'hurtigruten-group-no'}\n{'layout': 'ship', 'tags': ['ship'], 'imo': '9814026', 'name': 'LE LAPEROUSE', 'wikipediaUrl': 'https://en.wikipedia.org/wiki/Le_Lap%C3%A9rouse', 'slug': 'le-laperouse-9814026', 'company': None}\n{'layout': 'ship', 'tags': ['ship'], 'imo': '9814038', 'name': 'LE CHAMPLAIN', 'wikipediaUrl': 'https://en.wikipedia.org/wiki/Le_Champlain', 'slug': 'le-champlain-9814038', 'company': None}\n{'layout': 'ship', 'tags': ['ship'], 'imo': '9814040', 'name': 'LE BOUGAINVILLE (MAR-19)', 'wikipediaUrl': 'https://en.wikipedia.org/wiki/Le_Bougainville', 'slug': 'le-bougainville-mar-19-9814040', 'company': None}\n{'layout': 'ship', 'tags': ['ship'], 'imo': '9817133', 'name': 'HANSEATIC NATURE', 'wikipediaUrl': 'https://de.wikipedia.org/wiki/Hanseatic_nature', 'slug': 'hanseatic-nature-9817133', 'company': 'hapag-lloyd-de'}\n{'layout': 'ship', 'tags': ['ship'], 'imo': '9817145', 'name': 'HANSEATIC INSPIRATION', 'wikipediaUrl': 'https://de.wikipedia.org/wiki/Hanseatic_inspiration', 'slug': 'hanseatic-inspiration-9817145', 'company': None}\n{'layout': 'ship', 'tags': ['ship'], 'imo': '9817274', 'name': 'SAINT JOHN PAUL II', 'wikipediaUrl': 'https://en.wikipedia.org/wiki/MV_Saint_John_Paul_II', 'slug': 'saint-john-paul-ii-9817274', 'company': None}\n{'layout': 'ship', 'tags': ['ship'], 'imo': '9824289', 'name': 'COLOR HYBRID', 'wikipediaUrl': 'https://en.wikipedia.org/wiki/MS_Color_Hybrid', 'slug': 'color-hybrid-9824289', 'company': 'color-line-no'}\n{'layout': 'ship', 'tags': ['ship'], 'imo': '9824564', 'name': 'EXPRESS 4', 'wikipediaUrl': 'https://en.wikipedia.org/wiki/HSC_Express_4', 'slug': 'express-4-9824564', 'company': None}\n{'layout': 'ship', 'tags': ['ship'], 'imo': '9837925', 'name': 'CELEBRITY FLORA', 'wikipediaUrl': 'https://fr.wikipedia.org/wiki/Celebrity_Flora', 'slug': 'celebrity-flora-9837925', 'company': None}\n"
     ]
    }
   ],
   "source": [
    "def get_wikipedia_url(item):\n",
    "    for lang in [\"fr\", \"en\", \"it\", \"es\", \"de\"]: # preffered languages\n",
    "        for url in item['wikipediaUrl']:\n",
    "            if re.match(rf\".*{lang}\\.wikipedia\\.org.*\", url):\n",
    "                return url\n",
    "    if len(item['wikipediaUrl']) > 0:\n",
    "        return list(item['wikipediaUrl'])[0]\n",
    "\n",
    "for imo, item in df_missing_md_files.iterrows():\n",
    "    slug = slugify(f\"{item['name']}-{imo}\", to_lower=True)\n",
    "    company = \"\"\n",
    "    if len(item[\"operatorName\"]) > 0:\n",
    "        company = operator_mapping.get(list(item[\"operatorName\"])[0])\n",
    "    md_data = {\n",
    "        \"layout\": \"ship\",\n",
    "        \"tags\": [\"ship\"],\n",
    "        \"imo\": imo,\n",
    "        \"name\": item[\"name\"],\n",
    "        \"wikipediaUrl\": get_wikipedia_url(item),\n",
    "        \"slug\": slug,\n",
    "        \"company\": company,\n",
    "    }\n",
    "    print(md_data)\n",
    "    with open(os.path.join(WWW_SHIPS_DATA_PATH, f\"{slug}.md\"), \"w\") as f:\n",
    "        f.write(frontmatter.dumps(frontmatter.Post(\"\", **md_data)))"
   ]
  }
 ]
}