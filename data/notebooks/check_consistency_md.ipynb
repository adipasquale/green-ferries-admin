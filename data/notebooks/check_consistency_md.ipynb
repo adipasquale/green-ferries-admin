{
 "metadata": {
  "language_info": {
   "codemirror_mode": {
    "name": "ipython",
    "version": 3
   },
   "file_extension": ".py",
   "mimetype": "text/x-python",
   "name": "python",
   "nbconvert_exporter": "python",
   "pygments_lexer": "ipython3",
   "version": "3.8.5-final"
  },
  "orig_nbformat": 2,
  "kernelspec": {
   "name": "python3",
   "display_name": "Python 3"
  }
 },
 "nbformat": 4,
 "nbformat_minor": 2,
 "cells": [
  {
   "cell_type": "code",
   "execution_count": 3,
   "metadata": {},
   "outputs": [],
   "source": [
    "import os\n",
    "import json\n",
    "import re\n",
    "import pandas as pd\n",
    "import numpy as np\n",
    "from slugify import slugify\n",
    "import frontmatter\n",
    "\n",
    "DIRNAME = os.path.abspath('')\n",
    "THETIS_CSV_PATH = os.path.join(DIRNAME, \"../files_computed/thetis_all_with_computed.csv\")\n",
    "WIKIDATA_SHIPS_CSV_PATH = os.path.join(DIRNAME, \"../files_original/original.wikidata.ships.csv\")\n",
    "WIKIDATA_URLS_CSV_PATH = os.path.join(DIRNAME, \"../files_original/original.wikidata.urls.csv\")\n",
    "WWW_SHIPS_DATA_PATH = os.path.join(DIRNAME, \"../../www/views/ships\")"
   ]
  },
  {
   "cell_type": "code",
   "execution_count": 4,
   "metadata": {
    "tags": []
   },
   "outputs": [],
   "source": [
    "for filename in os.listdir(WWW_SHIPS_DATA_PATH):\n",
    "    if not re.match(r\".*-(\\d+)\\.md\", filename):\n",
    "        continue\n",
    "    path = os.path.join(WWW_SHIPS_DATA_PATH, filename)\n",
    "    ship_frontmatter = frontmatter.load(path)\n",
    "    if ship_frontmatter.metadata.get('company', '') != \"\":\n",
    "        continue\n",
    "    print(f\"path {path}, fm: {ship_frontmatter.metadata}\")"
   ]
  },
  {
   "cell_type": "code",
   "execution_count": null,
   "metadata": {},
   "outputs": [],
   "source": []
  }
 ]
}