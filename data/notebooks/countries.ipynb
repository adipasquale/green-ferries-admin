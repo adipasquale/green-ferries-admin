{
 "cells": [
  {
   "cell_type": "code",
   "execution_count": 2,
   "metadata": {},
   "outputs": [],
   "source": [
    "# from https://raw.githubusercontent.com/mledoze/countries/master/dist/countries.csv\n",
    "import pandas as pd\n",
    "df = pd.read_csv('../files_original/original.geonames.countries.csv')"
   ]
  },
  {
   "cell_type": "code",
   "execution_count": 3,
   "metadata": {},
   "outputs": [
    {
     "data": {
      "text/plain": [
       "Index(['name', 'tld', 'cca2', 'ccn3', 'cca3', 'cioc', 'independent', 'status',\n",
       "       'currencies', 'idd', 'capital', 'altSpellings', 'region', 'subregion',\n",
       "       'languages', 'translations', 'latlng', 'demonym', 'landlocked',\n",
       "       'borders', 'area', 'flag'],\n",
       "      dtype='object')"
      ]
     },
     "execution_count": 3,
     "metadata": {},
     "output_type": "execute_result"
    }
   ],
   "source": [
    "df.columns"
   ]
  },
  {
   "cell_type": "code",
   "execution_count": 4,
   "metadata": {},
   "outputs": [
    {
     "data": {
      "text/plain": [
       "Africa       59\n",
       "Americas     56\n",
       "Europe       53\n",
       "Asia         50\n",
       "Oceania      27\n",
       "Antarctic     5\n",
       "Name: region, dtype: int64"
      ]
     },
     "execution_count": 4,
     "metadata": {},
     "output_type": "execute_result"
    }
   ],
   "source": [
    "df.region.value_counts()"
   ]
  },
  {
   "cell_type": "code",
   "execution_count": 5,
   "metadata": {},
   "outputs": [
    {
     "data": {
      "text/html": [
       "<div>\n",
       "<style scoped>\n",
       "    .dataframe tbody tr th:only-of-type {\n",
       "        vertical-align: middle;\n",
       "    }\n",
       "\n",
       "    .dataframe tbody tr th {\n",
       "        vertical-align: top;\n",
       "    }\n",
       "\n",
       "    .dataframe thead th {\n",
       "        text-align: right;\n",
       "    }\n",
       "</style>\n",
       "<table border=\"1\" class=\"dataframe\">\n",
       "  <thead>\n",
       "    <tr style=\"text-align: right;\">\n",
       "      <th></th>\n",
       "      <th>name</th>\n",
       "      <th>tld</th>\n",
       "      <th>cca2</th>\n",
       "      <th>ccn3</th>\n",
       "      <th>cca3</th>\n",
       "      <th>cioc</th>\n",
       "      <th>independent</th>\n",
       "      <th>status</th>\n",
       "      <th>currencies</th>\n",
       "      <th>idd</th>\n",
       "      <th>...</th>\n",
       "      <th>region</th>\n",
       "      <th>subregion</th>\n",
       "      <th>languages</th>\n",
       "      <th>translations</th>\n",
       "      <th>latlng</th>\n",
       "      <th>demonym</th>\n",
       "      <th>landlocked</th>\n",
       "      <th>borders</th>\n",
       "      <th>area</th>\n",
       "      <th>flag</th>\n",
       "    </tr>\n",
       "  </thead>\n",
       "  <tbody>\n",
       "    <tr>\n",
       "      <th>4</th>\n",
       "      <td>Åland Islands,Åland Islands,Landskapet Åland,Å...</td>\n",
       "      <td>.ax</td>\n",
       "      <td>AX</td>\n",
       "      <td>248.0</td>\n",
       "      <td>ALA</td>\n",
       "      <td>NaN</td>\n",
       "      <td>NaN</td>\n",
       "      <td>officially-assigned</td>\n",
       "      <td>EUR</td>\n",
       "      <td>+3,5818</td>\n",
       "      <td>...</td>\n",
       "      <td>Europe</td>\n",
       "      <td>Northern Europe</td>\n",
       "      <td>Swedish</td>\n",
       "      <td>Ålandské ostrovy,Ålandy,Åland-Inseln,Åland,Ahv...</td>\n",
       "      <td>60.116667,19.9</td>\n",
       "      <td>Ålandish</td>\n",
       "      <td>NaN</td>\n",
       "      <td>NaN</td>\n",
       "      <td>1580.0</td>\n",
       "      <td>🇦🇽</td>\n",
       "    </tr>\n",
       "    <tr>\n",
       "      <th>5</th>\n",
       "      <td>Albania,Republic of Albania,Republika e Shqipë...</td>\n",
       "      <td>.al</td>\n",
       "      <td>AL</td>\n",
       "      <td>8.0</td>\n",
       "      <td>ALB</td>\n",
       "      <td>ALB</td>\n",
       "      <td>1.0</td>\n",
       "      <td>officially-assigned</td>\n",
       "      <td>ALL</td>\n",
       "      <td>+3,55</td>\n",
       "      <td>...</td>\n",
       "      <td>Europe</td>\n",
       "      <td>Southern Europe</td>\n",
       "      <td>Albanian</td>\n",
       "      <td>Albánská republika,Albánie,Gweriniaeth Albania...</td>\n",
       "      <td>41,20</td>\n",
       "      <td>Albanian</td>\n",
       "      <td>NaN</td>\n",
       "      <td>MNE,GRC,MKD,UNK</td>\n",
       "      <td>28748.0</td>\n",
       "      <td>🇦🇱</td>\n",
       "    </tr>\n",
       "    <tr>\n",
       "      <th>6</th>\n",
       "      <td>Andorra,Principality of Andorra,Principat d'An...</td>\n",
       "      <td>.ad</td>\n",
       "      <td>AD</td>\n",
       "      <td>20.0</td>\n",
       "      <td>AND</td>\n",
       "      <td>AND</td>\n",
       "      <td>1.0</td>\n",
       "      <td>officially-assigned</td>\n",
       "      <td>EUR</td>\n",
       "      <td>+3,76</td>\n",
       "      <td>...</td>\n",
       "      <td>Europe</td>\n",
       "      <td>Southern Europe</td>\n",
       "      <td>Catalan</td>\n",
       "      <td>Andorrské knížectví,Andorra,Tywysogaeth Andorr...</td>\n",
       "      <td>42.5,1.5</td>\n",
       "      <td>Andorran</td>\n",
       "      <td>1.0</td>\n",
       "      <td>FRA,ESP</td>\n",
       "      <td>468.0</td>\n",
       "      <td>🇦🇩</td>\n",
       "    </tr>\n",
       "    <tr>\n",
       "      <th>15</th>\n",
       "      <td>Austria,Republic of Austria,Republik Österreic...</td>\n",
       "      <td>.at</td>\n",
       "      <td>AT</td>\n",
       "      <td>40.0</td>\n",
       "      <td>AUT</td>\n",
       "      <td>AUT</td>\n",
       "      <td>1.0</td>\n",
       "      <td>officially-assigned</td>\n",
       "      <td>EUR</td>\n",
       "      <td>+4,3</td>\n",
       "      <td>...</td>\n",
       "      <td>Europe</td>\n",
       "      <td>Western Europe</td>\n",
       "      <td>Austro-Bavarian German</td>\n",
       "      <td>Rakouská republika,Rakousko,Gweriniaeth Awstri...</td>\n",
       "      <td>47.33333333,13.33333333</td>\n",
       "      <td>Austrian</td>\n",
       "      <td>1.0</td>\n",
       "      <td>CZE,DEU,HUN,ITA,LIE,SVK,SVN,CHE</td>\n",
       "      <td>83871.0</td>\n",
       "      <td>🇦🇹</td>\n",
       "    </tr>\n",
       "    <tr>\n",
       "      <th>18</th>\n",
       "      <td>Belgium,Kingdom of Belgium,Königreich Belgien,...</td>\n",
       "      <td>.be</td>\n",
       "      <td>BE</td>\n",
       "      <td>56.0</td>\n",
       "      <td>BEL</td>\n",
       "      <td>BEL</td>\n",
       "      <td>1.0</td>\n",
       "      <td>officially-assigned</td>\n",
       "      <td>EUR</td>\n",
       "      <td>+3,2</td>\n",
       "      <td>...</td>\n",
       "      <td>Europe</td>\n",
       "      <td>Western Europe</td>\n",
       "      <td>German,French,Dutch</td>\n",
       "      <td>Belgické království,Belgie,Teyrnas Gwlad Belg,...</td>\n",
       "      <td>50.83333333,4</td>\n",
       "      <td>Belgian</td>\n",
       "      <td>NaN</td>\n",
       "      <td>FRA,DEU,LUX,NLD</td>\n",
       "      <td>30528.0</td>\n",
       "      <td>🇧🇪</td>\n",
       "    </tr>\n",
       "  </tbody>\n",
       "</table>\n",
       "<p>5 rows × 22 columns</p>\n",
       "</div>"
      ],
      "text/plain": [
       "                                                 name  tld cca2   ccn3 cca3  \\\n",
       "4   Åland Islands,Åland Islands,Landskapet Åland,Å...  .ax   AX  248.0  ALA   \n",
       "5   Albania,Republic of Albania,Republika e Shqipë...  .al   AL    8.0  ALB   \n",
       "6   Andorra,Principality of Andorra,Principat d'An...  .ad   AD   20.0  AND   \n",
       "15  Austria,Republic of Austria,Republik Österreic...  .at   AT   40.0  AUT   \n",
       "18  Belgium,Kingdom of Belgium,Königreich Belgien,...  .be   BE   56.0  BEL   \n",
       "\n",
       "   cioc  independent               status currencies      idd  ...  region  \\\n",
       "4   NaN          NaN  officially-assigned        EUR  +3,5818  ...  Europe   \n",
       "5   ALB          1.0  officially-assigned        ALL    +3,55  ...  Europe   \n",
       "6   AND          1.0  officially-assigned        EUR    +3,76  ...  Europe   \n",
       "15  AUT          1.0  officially-assigned        EUR     +4,3  ...  Europe   \n",
       "18  BEL          1.0  officially-assigned        EUR     +3,2  ...  Europe   \n",
       "\n",
       "          subregion               languages  \\\n",
       "4   Northern Europe                 Swedish   \n",
       "5   Southern Europe                Albanian   \n",
       "6   Southern Europe                 Catalan   \n",
       "15   Western Europe  Austro-Bavarian German   \n",
       "18   Western Europe     German,French,Dutch   \n",
       "\n",
       "                                         translations  \\\n",
       "4   Ålandské ostrovy,Ålandy,Åland-Inseln,Åland,Ahv...   \n",
       "5   Albánská republika,Albánie,Gweriniaeth Albania...   \n",
       "6   Andorrské knížectví,Andorra,Tywysogaeth Andorr...   \n",
       "15  Rakouská republika,Rakousko,Gweriniaeth Awstri...   \n",
       "18  Belgické království,Belgie,Teyrnas Gwlad Belg,...   \n",
       "\n",
       "                     latlng   demonym landlocked  \\\n",
       "4            60.116667,19.9  Ålandish        NaN   \n",
       "5                     41,20  Albanian        NaN   \n",
       "6                  42.5,1.5  Andorran        1.0   \n",
       "15  47.33333333,13.33333333  Austrian        1.0   \n",
       "18            50.83333333,4   Belgian        NaN   \n",
       "\n",
       "                            borders     area flag  \n",
       "4                               NaN   1580.0   🇦🇽  \n",
       "5                   MNE,GRC,MKD,UNK  28748.0   🇦🇱  \n",
       "6                           FRA,ESP    468.0   🇦🇩  \n",
       "15  CZE,DEU,HUN,ITA,LIE,SVK,SVN,CHE  83871.0   🇦🇹  \n",
       "18                  FRA,DEU,LUX,NLD  30528.0   🇧🇪  \n",
       "\n",
       "[5 rows x 22 columns]"
      ]
     },
     "execution_count": 5,
     "metadata": {},
     "output_type": "execute_result"
    }
   ],
   "source": [
    "df_filtered = df[(df.region == 'Europe') | (df.cca2.isin({'DZ', 'MA', 'TN'}))]\n",
    "df_filtered.head(5)"
   ]
  },
  {
   "cell_type": "code",
   "execution_count": 6,
   "metadata": {},
   "outputs": [
    {
     "name": "stderr",
     "output_type": "stream",
     "text": [
      "/Users/adipasquale/dev/greenferries/data/venv/lib/python3.7/site-packages/ipykernel_launcher.py:1: SettingWithCopyWarning: \n",
      "A value is trying to be set on a copy of a slice from a DataFrame.\n",
      "Try using .loc[row_indexer,col_indexer] = value instead\n",
      "\n",
      "See the caveats in the documentation: https://pandas.pydata.org/pandas-docs/stable/user_guide/indexing.html#returning-a-view-versus-a-copy\n",
      "  \"\"\"Entry point for launching an IPython kernel.\n"
     ]
    }
   ],
   "source": [
    "df_filtered['main_name'] = df.name.apply(lambda x: x.split(',')[0])"
   ]
  },
  {
   "cell_type": "code",
   "execution_count": 7,
   "metadata": {},
   "outputs": [
    {
     "name": "stderr",
     "output_type": "stream",
     "text": [
      "/Users/adipasquale/dev/greenferries/data/venv/lib/python3.7/site-packages/ipykernel_launcher.py:1: SettingWithCopyWarning: \n",
      "A value is trying to be set on a copy of a slice from a DataFrame.\n",
      "Try using .loc[row_indexer,col_indexer] = value instead\n",
      "\n",
      "See the caveats in the documentation: https://pandas.pydata.org/pandas-docs/stable/user_guide/indexing.html#returning-a-view-versus-a-copy\n",
      "  \"\"\"Entry point for launching an IPython kernel.\n"
     ]
    }
   ],
   "source": [
    "df_filtered['altNames'] = df.name.apply(lambda x: list(set(x.split(','))))"
   ]
  },
  {
   "cell_type": "code",
   "execution_count": 8,
   "metadata": {},
   "outputs": [
    {
     "name": "stderr",
     "output_type": "stream",
     "text": [
      "/Users/adipasquale/dev/greenferries/data/venv/lib/python3.7/site-packages/ipykernel_launcher.py:1: SettingWithCopyWarning: \n",
      "A value is trying to be set on a copy of a slice from a DataFrame.\n",
      "Try using .loc[row_indexer,col_indexer] = value instead\n",
      "\n",
      "See the caveats in the documentation: https://pandas.pydata.org/pandas-docs/stable/user_guide/indexing.html#returning-a-view-versus-a-copy\n",
      "  \"\"\"Entry point for launching an IPython kernel.\n",
      "/Users/adipasquale/dev/greenferries/data/venv/lib/python3.7/site-packages/ipykernel_launcher.py:2: SettingWithCopyWarning: \n",
      "A value is trying to be set on a copy of a slice from a DataFrame.\n",
      "Try using .loc[row_indexer,col_indexer] = value instead\n",
      "\n",
      "See the caveats in the documentation: https://pandas.pydata.org/pandas-docs/stable/user_guide/indexing.html#returning-a-view-versus-a-copy\n",
      "  \n"
     ]
    }
   ],
   "source": [
    "df_filtered['latitude'] = df_filtered.latlng.apply(lambda x: round(float(x.split(',')[0]), 2))\n",
    "df_filtered['longitude'] = df_filtered.latlng.apply(lambda x: round(float(x.split(',')[1])))"
   ]
  },
  {
   "cell_type": "code",
   "execution_count": 9,
   "metadata": {},
   "outputs": [
    {
     "data": {
      "text/html": [
       "<div>\n",
       "<style scoped>\n",
       "    .dataframe tbody tr th:only-of-type {\n",
       "        vertical-align: middle;\n",
       "    }\n",
       "\n",
       "    .dataframe tbody tr th {\n",
       "        vertical-align: top;\n",
       "    }\n",
       "\n",
       "    .dataframe thead th {\n",
       "        text-align: right;\n",
       "    }\n",
       "</style>\n",
       "<table border=\"1\" class=\"dataframe\">\n",
       "  <thead>\n",
       "    <tr style=\"text-align: right;\">\n",
       "      <th></th>\n",
       "      <th>cca2</th>\n",
       "      <th>main_name</th>\n",
       "      <th>latitude</th>\n",
       "      <th>longitude</th>\n",
       "      <th>altNames</th>\n",
       "    </tr>\n",
       "  </thead>\n",
       "  <tbody>\n",
       "    <tr>\n",
       "      <th>202</th>\n",
       "      <td>SM</td>\n",
       "      <td>San Marino</td>\n",
       "      <td>43.77</td>\n",
       "      <td>12</td>\n",
       "      <td>[Most Serene Republic of San Marino, Serenissi...</td>\n",
       "    </tr>\n",
       "    <tr>\n",
       "      <th>134</th>\n",
       "      <td>LT</td>\n",
       "      <td>Lithuania</td>\n",
       "      <td>56.00</td>\n",
       "      <td>24</td>\n",
       "      <td>[Lietuvos Respublikos, Republic of Lithuania, ...</td>\n",
       "    </tr>\n",
       "    <tr>\n",
       "      <th>82</th>\n",
       "      <td>GG</td>\n",
       "      <td>Guernsey</td>\n",
       "      <td>49.47</td>\n",
       "      <td>-3</td>\n",
       "      <td>[Bailliage de Guernesey, Dgèrnésiais, Guernsey...</td>\n",
       "    </tr>\n",
       "    <tr>\n",
       "      <th>28</th>\n",
       "      <td>BY</td>\n",
       "      <td>Belarus</td>\n",
       "      <td>53.00</td>\n",
       "      <td>28</td>\n",
       "      <td>[Republic of Belarus, Белару́сь, Республика Бе...</td>\n",
       "    </tr>\n",
       "    <tr>\n",
       "      <th>84</th>\n",
       "      <td>GI</td>\n",
       "      <td>Gibraltar</td>\n",
       "      <td>36.13</td>\n",
       "      <td>-5</td>\n",
       "      <td>[Gibraltar]</td>\n",
       "    </tr>\n",
       "  </tbody>\n",
       "</table>\n",
       "</div>"
      ],
      "text/plain": [
       "    cca2   main_name  latitude  longitude  \\\n",
       "202   SM  San Marino     43.77         12   \n",
       "134   LT   Lithuania     56.00         24   \n",
       "82    GG    Guernsey     49.47         -3   \n",
       "28    BY     Belarus     53.00         28   \n",
       "84    GI   Gibraltar     36.13         -5   \n",
       "\n",
       "                                              altNames  \n",
       "202  [Most Serene Republic of San Marino, Serenissi...  \n",
       "134  [Lietuvos Respublikos, Republic of Lithuania, ...  \n",
       "82   [Bailliage de Guernesey, Dgèrnésiais, Guernsey...  \n",
       "28   [Republic of Belarus, Белару́сь, Республика Бе...  \n",
       "84                                         [Gibraltar]  "
      ]
     },
     "execution_count": 9,
     "metadata": {},
     "output_type": "execute_result"
    }
   ],
   "source": [
    "df_scoped = df_filtered[['cca2', 'main_name', 'latitude', 'longitude', 'altNames']]\n",
    "df_scoped.sample(5)"
   ]
  },
  {
   "cell_type": "code",
   "execution_count": 10,
   "metadata": {},
   "outputs": [
    {
     "name": "stderr",
     "output_type": "stream",
     "text": [
      "/Users/adipasquale/dev/greenferries/data/venv/lib/python3.7/site-packages/pandas/core/frame.py:4301: SettingWithCopyWarning: \n",
      "A value is trying to be set on a copy of a slice from a DataFrame\n",
      "\n",
      "See the caveats in the documentation: https://pandas.pydata.org/pandas-docs/stable/user_guide/indexing.html#returning-a-view-versus-a-copy\n",
      "  errors=errors,\n"
     ]
    },
    {
     "data": {
      "text/html": [
       "<div>\n",
       "<style scoped>\n",
       "    .dataframe tbody tr th:only-of-type {\n",
       "        vertical-align: middle;\n",
       "    }\n",
       "\n",
       "    .dataframe tbody tr th {\n",
       "        vertical-align: top;\n",
       "    }\n",
       "\n",
       "    .dataframe thead th {\n",
       "        text-align: right;\n",
       "    }\n",
       "</style>\n",
       "<table border=\"1\" class=\"dataframe\">\n",
       "  <thead>\n",
       "    <tr style=\"text-align: right;\">\n",
       "      <th></th>\n",
       "      <th>code</th>\n",
       "      <th>name</th>\n",
       "      <th>latitude</th>\n",
       "      <th>longitude</th>\n",
       "      <th>altNames</th>\n",
       "    </tr>\n",
       "  </thead>\n",
       "  <tbody>\n",
       "    <tr>\n",
       "      <th>114</th>\n",
       "      <td>JE</td>\n",
       "      <td>Jersey</td>\n",
       "      <td>49.25</td>\n",
       "      <td>-2</td>\n",
       "      <td>[Bailliage de Jersey, Jèrri, Bailiwick of Jers...</td>\n",
       "    </tr>\n",
       "    <tr>\n",
       "      <th>209</th>\n",
       "      <td>SK</td>\n",
       "      <td>Slovakia</td>\n",
       "      <td>48.67</td>\n",
       "      <td>20</td>\n",
       "      <td>[Slovak Republic, Slovensko, Slovenská republi...</td>\n",
       "    </tr>\n",
       "    <tr>\n",
       "      <th>84</th>\n",
       "      <td>GI</td>\n",
       "      <td>Gibraltar</td>\n",
       "      <td>36.13</td>\n",
       "      <td>-5</td>\n",
       "      <td>[Gibraltar]</td>\n",
       "    </tr>\n",
       "    <tr>\n",
       "      <th>80</th>\n",
       "      <td>GB</td>\n",
       "      <td>United Kingdom</td>\n",
       "      <td>54.00</td>\n",
       "      <td>-2</td>\n",
       "      <td>[United Kingdom, United Kingdom of Great Brita...</td>\n",
       "    </tr>\n",
       "    <tr>\n",
       "      <th>169</th>\n",
       "      <td>NO</td>\n",
       "      <td>Norway</td>\n",
       "      <td>62.00</td>\n",
       "      <td>10</td>\n",
       "      <td>[Kongeriket Norge, Kingdom of Norway, Norge, N...</td>\n",
       "    </tr>\n",
       "  </tbody>\n",
       "</table>\n",
       "</div>"
      ],
      "text/plain": [
       "    code            name  latitude  longitude  \\\n",
       "114   JE          Jersey     49.25         -2   \n",
       "209   SK        Slovakia     48.67         20   \n",
       "84    GI       Gibraltar     36.13         -5   \n",
       "80    GB  United Kingdom     54.00         -2   \n",
       "169   NO          Norway     62.00         10   \n",
       "\n",
       "                                              altNames  \n",
       "114  [Bailliage de Jersey, Jèrri, Bailiwick of Jers...  \n",
       "209  [Slovak Republic, Slovensko, Slovenská republi...  \n",
       "84                                         [Gibraltar]  \n",
       "80   [United Kingdom, United Kingdom of Great Brita...  \n",
       "169  [Kongeriket Norge, Kingdom of Norway, Norge, N...  "
      ]
     },
     "execution_count": 10,
     "metadata": {},
     "output_type": "execute_result"
    }
   ],
   "source": [
    "df_scoped.rename(columns={'cca2': 'code', 'main_name': 'name'}, inplace=True)\n",
    "df_scoped.sample(5)"
   ]
  },
  {
   "cell_type": "code",
   "execution_count": 11,
   "metadata": {},
   "outputs": [],
   "source": [
    "# City.pluck(:country).uniq\n",
    "cities_countries = [\"GR\", \"ES\", \"GB\", \"IT\", \"AL\", \"IE\", \"FR\", \"MA\", \"DK\", \"NO\", \"SE\", \"PL\", \"DE\", \"GG\", \"JE\", \"TN\", \"NL\", \"FI\", \"EE\", \"DZ\", \"HR\", \"AX\"]"
   ]
  },
  {
   "cell_type": "code",
   "execution_count": 12,
   "metadata": {},
   "outputs": [
    {
     "data": {
      "text/plain": [
       "set()"
      ]
     },
     "execution_count": 12,
     "metadata": {},
     "output_type": "execute_result"
    }
   ],
   "source": [
    "set(cities_countries) - set(df_scoped.code)"
   ]
  },
  {
   "cell_type": "code",
   "execution_count": 14,
   "metadata": {},
   "outputs": [],
   "source": [
    "df_scoped.to_json('../files_computed/countries_prepared.json', orient='records')"
   ]
  },
  {
   "cell_type": "code",
   "execution_count": null,
   "metadata": {},
   "outputs": [],
   "source": []
  }
 ],
 "metadata": {
  "kernelspec": {
   "display_name": "Python 3",
   "language": "python",
   "name": "python3"
  },
  "language_info": {
   "codemirror_mode": {
    "name": "ipython",
    "version": 3
   },
   "file_extension": ".py",
   "mimetype": "text/x-python",
   "name": "python",
   "nbconvert_exporter": "python",
   "pygments_lexer": "ipython3",
   "version": "3.7.7"
  }
 },
 "nbformat": 4,
 "nbformat_minor": 2
}
