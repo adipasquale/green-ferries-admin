{
 "cells": [
  {
   "cell_type": "code",
   "execution_count": 3,
   "metadata": {},
   "outputs": [],
   "source": [
    "import os\n",
    "import frontmatter\n",
    "SHIPS_PATH = \"../../www/ships\""
   ]
  },
  {
   "cell_type": "code",
   "execution_count": 14,
   "metadata": {},
   "outputs": [
    {
     "output_type": "stream",
     "name": "stdout",
     "text": [
      "9223796 : https://sv.wikipedia.org/wiki/M/S_Gotland_(2003)\n",
      "9007879 : https://fi.wikipedia.org/wiki/M/S_Trans_Carrier\n",
      "8020604 : https://fi.wikipedia.org/wiki/M/S_Merchant\n",
      "9458535 : https://de.wikipedia.org/wiki/Regina_Seaways\n",
      "9188427 : https://sv.wikipedia.org/wiki/M/S_Optima_Seaways\n",
      "8917390 : https://de.wikipedia.org/wiki/Patria_Seaways\n"
     ]
    }
   ],
   "source": [
    "i = 0\n",
    "for filename in os.listdir(SHIPS_PATH):\n",
    "    data = frontmatter.load(f\"{SHIPS_PATH}/{filename}\")\n",
    "    if data.get(\"photo\") or data.get(\"outOfScope\") or not data.get(\"wikipediaUrl\"):\n",
    "        continue\n",
    "    print(f\"{data['imo']} : {data['wikipediaUrl']}\")\n",
    "    os.system(f\"open {data['wikipediaUrl']}\")\n",
    "    i += 1\n",
    "    if i > 5:\n",
    "        break\n"
   ]
  },
  {
   "cell_type": "code",
   "execution_count": null,
   "metadata": {},
   "outputs": [],
   "source": []
  }
 ],
 "metadata": {
  "kernelspec": {
   "display_name": "Python 3",
   "language": "python",
   "name": "python3"
  },
  "language_info": {
   "codemirror_mode": {
    "name": "ipython",
    "version": 3
   },
   "file_extension": ".py",
   "mimetype": "text/x-python",
   "name": "python",
   "nbconvert_exporter": "python",
   "pygments_lexer": "ipython3",
   "version": "3.8.5-final"
  }
 },
 "nbformat": 4,
 "nbformat_minor": 4
}