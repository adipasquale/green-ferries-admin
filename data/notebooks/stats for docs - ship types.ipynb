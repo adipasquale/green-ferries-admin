{
 "cells": [
  {
   "cell_type": "code",
   "execution_count": 1,
   "metadata": {},
   "outputs": [],
   "source": [
    "import os\n",
    "import json\n",
    "import re\n",
    "import pandas as pd\n",
    "import numpy as np"
   ]
  },
  {
   "cell_type": "code",
   "execution_count": 5,
   "metadata": {},
   "outputs": [],
   "source": [
    "DIRNAME = os.path.abspath('')\n",
    "THETIS_CSV_PATH = os.path.join(DIRNAME, \"../files_computed/thetis_all_with_computed.csv\")\n",
    "WWW_DATA_SHIP_TYPES_PATH = os.path.join(DIRNAME, \"../../www/views/doc/ship_types.11tydata.json\")"
   ]
  },
  {
   "cell_type": "code",
   "execution_count": 6,
   "metadata": {},
   "outputs": [],
   "source": [
    "df_thetis = pd.read_csv(THETIS_CSV_PATH).replace({np.nan: None})"
   ]
  },
  {
   "cell_type": "code",
   "execution_count": 7,
   "metadata": {},
   "outputs": [
    {
     "output_type": "execute_result",
     "data": {
      "text/plain": [
       "Bulk carrier                  7257\n",
       "Oil tanker                    3750\n",
       "Container ship                3491\n",
       "Chemical tanker               2658\n",
       "General cargo ship            2310\n",
       "Vehicle carrier                857\n",
       "Ro-pax ship                    723\n",
       "Gas carrier                    659\n",
       "Ro-ro ship                     523\n",
       "LNG carrier                    449\n",
       "Passenger ship                 306\n",
       "Refrigerated cargo carrier     276\n",
       "Other ship types               242\n",
       "Container/ro-ro cargo ship     139\n",
       "Combination carrier             21\n",
       "Name: ship_type, dtype: int64"
      ]
     },
     "metadata": {},
     "execution_count": 7
    }
   ],
   "source": [
    "ship_types = df_thetis[\"ship_type\"].value_counts()\n",
    "ship_types"
   ]
  },
  {
   "cell_type": "code",
   "execution_count": 11,
   "metadata": {},
   "outputs": [
    {
     "output_type": "stream",
     "name": "stdout",
     "text": [
      "wrote file to /Users/adipasquale/dev/greenferries/data/notebooks/../../www/views/doc/ship_types.11tydata.json\n"
     ]
    }
   ],
   "source": [
    "with open(WWW_DATA_SHIP_TYPES_PATH, 'w') as f:\n",
    "    json.dump({ \"shipTypesValueCounts\": ship_types.to_dict() }, f, indent=2)\n",
    "print(f\"wrote file to {WWW_DATA_SHIP_TYPES_PATH}\")"
   ]
  },
  {
   "cell_type": "code",
   "execution_count": 13,
   "metadata": {},
   "outputs": [
    {
     "output_type": "execute_result",
     "data": {
      "text/plain": [
       "       Unnamed: 0      imo                   name   ship_type  \\\n",
       "6               6  7043843                  TALOS  Ro-ro ship   \n",
       "15             15  7226952             FJARDVAGEN  Ro-ro ship   \n",
       "39             39  7529964      GEROITE NA ODESSA  Ro-ro ship   \n",
       "40             40  7529976  GEROITE NA SEVASTOPOL  Ro-ro ship   \n",
       "53             53  7802067                FESTIVO  Ro-ro ship   \n",
       "...           ...      ...                    ...         ...   \n",
       "23447       23447  9831165                SIXTINE  Ro-ro ship   \n",
       "23448       23448  9831177                HERMINE  Ro-ro ship   \n",
       "23470       23470  9832585      HOLLANDIA SEAWAYS  Ro-ro ship   \n",
       "23587       23587  9848467             ALF POLLAK  Ro-ro ship   \n",
       "23588       23588  9848479   MARIA GRAZIA ONORATO  Ro-ro ship   \n",
       "\n",
       "      reporting_period    technical_efficiency            port_of_registry  \\\n",
       "6                 2018  EEDI (60.41 gCO₂/t·nm)                     Piraeus   \n",
       "15                2018  EEDI (313.8 gCO₂/t·nm)                        None   \n",
       "39                2018    EIV (32.5 gCO₂/t·nm)                       Varna   \n",
       "40                2018    EIV (32.5 gCO₂/t·nm)                       Varna   \n",
       "53                2018   EIV (18.99 gCO₂/t·nm)  Las Palmas de Gran canaria   \n",
       "...                ...                     ...                         ...   \n",
       "23447             2019   EEDI (9.48 gCO₂/t·nm)                    Valletta   \n",
       "23448             2019   EEDI (7.28 gCO₂/t·nm)                    Valletta   \n",
       "23470             2019   EEDI (9.34 gCO₂/t·nm)                  Copenhagen   \n",
       "23587             2019   EEDI (12.3 gCO₂/t·nm)                    Cagliari   \n",
       "23588             2019   EEDI (11.9 gCO₂/t·nm)                        None   \n",
       "\n",
       "      home_port ice_class doc_issue_date  ...  \\\n",
       "6       Piraeus      None     25/07/2019  ...   \n",
       "15         None        IA     21/05/2019  ...   \n",
       "39         None        IB     31/05/2019  ...   \n",
       "40         None        IB     31/05/2019  ...   \n",
       "53       Malaga        IA     19/06/2019  ...   \n",
       "...         ...       ...            ...  ...   \n",
       "23447      None      None     01/05/2020  ...   \n",
       "23448      None      None     21/07/2020  ...   \n",
       "23470      None      None     27/04/2020  ...   \n",
       "23587      None      None     30/04/2020  ...   \n",
       "23588      None      None     30/04/2020  ...   \n",
       "\n",
       "      voluntary_reporting_average_co2_emissions_per_transport_work_on_laden_voyages_pax  \\\n",
       "6                                                   None                                  \n",
       "15                                                  None                                  \n",
       "39                                                  None                                  \n",
       "40                                                  None                                  \n",
       "53                                                  None                                  \n",
       "...                                                  ...                                  \n",
       "23447                                               None                                  \n",
       "23448                                               None                                  \n",
       "23470                                               None                                  \n",
       "23587                                               None                                  \n",
       "23588                                               None                                  \n",
       "\n",
       "      voluntary_reporting_average_co2_emissions_per_transport_work_on_laden_voyages_freight  \\\n",
       "6                                                   None                                      \n",
       "15                                                  None                                      \n",
       "39                                                  None                                      \n",
       "40                                                  None                                      \n",
       "53                                                  None                                      \n",
       "...                                                  ...                                      \n",
       "23447                                               None                                      \n",
       "23448                                               None                                      \n",
       "23470                                               None                                      \n",
       "23587                                               None                                      \n",
       "23588                                               None                                      \n",
       "\n",
       "      voluntary_reporting_additional_comments  \\\n",
       "6                                        None   \n",
       "15                                       None   \n",
       "39                                       None   \n",
       "40                                       None   \n",
       "53                                       None   \n",
       "...                                       ...   \n",
       "23447                                    None   \n",
       "23448                                    None   \n",
       "23470                                    None   \n",
       "23587                                    None   \n",
       "23588                                    None   \n",
       "\n",
       "      voluntary_reporting_average_density_of_the_cargo_transported  \\\n",
       "6                                                   None             \n",
       "15                                                  None             \n",
       "39                                                  None             \n",
       "40                                                  None             \n",
       "53                                                  None             \n",
       "...                                                  ...             \n",
       "23447                                               None             \n",
       "23448                                               None             \n",
       "23470                                               None             \n",
       "23587                                               None             \n",
       "23588                                               None             \n",
       "\n",
       "      annual_computed_distance annual_computed_distance_km  \\\n",
       "6                      49224.2                     91163.3   \n",
       "15                     40288.2                     74613.9   \n",
       "39                     15822.5                     29303.4   \n",
       "40                     11477.4                     21256.2   \n",
       "53                     47262.9                       87531   \n",
       "...                        ...                         ...   \n",
       "23447                  32339.9                     59893.5   \n",
       "23448                  33252.1                     61582.9   \n",
       "23470                  7737.08                     14329.1   \n",
       "23587                   121683                      225356   \n",
       "23588                  59501.1                      110196   \n",
       "\n",
       "      annual_computed_pax annual_computed_freight  \\\n",
       "6                    None                    None   \n",
       "15                   None                    None   \n",
       "39                   None                    None   \n",
       "40                   None                    None   \n",
       "53                   None                    None   \n",
       "...                   ...                     ...   \n",
       "23447                None                    None   \n",
       "23448                None                    None   \n",
       "23470                None                    None   \n",
       "23587                None                    None   \n",
       "23588                None                    None   \n",
       "\n",
       "      annual_computed_average_speed annual_computed_ratio_co2_from_pax  \n",
       "6                           23.7701                               None  \n",
       "15                          24.8862                               None  \n",
       "39                          18.2667                               None  \n",
       "40                          16.5744                               None  \n",
       "53                           18.165                               None  \n",
       "...                             ...                                ...  \n",
       "23447                       26.3813                               None  \n",
       "23448                       26.0847                               None  \n",
       "23470                       31.8565                               None  \n",
       "23587                       34.1563                               None  \n",
       "23588                       31.0955                               None  \n",
       "\n",
       "[523 rows x 69 columns]"
      ],
      "text/html": "<div>\n<style scoped>\n    .dataframe tbody tr th:only-of-type {\n        vertical-align: middle;\n    }\n\n    .dataframe tbody tr th {\n        vertical-align: top;\n    }\n\n    .dataframe thead th {\n        text-align: right;\n    }\n</style>\n<table border=\"1\" class=\"dataframe\">\n  <thead>\n    <tr style=\"text-align: right;\">\n      <th></th>\n      <th>Unnamed: 0</th>\n      <th>imo</th>\n      <th>name</th>\n      <th>ship_type</th>\n      <th>reporting_period</th>\n      <th>technical_efficiency</th>\n      <th>port_of_registry</th>\n      <th>home_port</th>\n      <th>ice_class</th>\n      <th>doc_issue_date</th>\n      <th>...</th>\n      <th>voluntary_reporting_average_co2_emissions_per_transport_work_on_laden_voyages_pax</th>\n      <th>voluntary_reporting_average_co2_emissions_per_transport_work_on_laden_voyages_freight</th>\n      <th>voluntary_reporting_additional_comments</th>\n      <th>voluntary_reporting_average_density_of_the_cargo_transported</th>\n      <th>annual_computed_distance</th>\n      <th>annual_computed_distance_km</th>\n      <th>annual_computed_pax</th>\n      <th>annual_computed_freight</th>\n      <th>annual_computed_average_speed</th>\n      <th>annual_computed_ratio_co2_from_pax</th>\n    </tr>\n  </thead>\n  <tbody>\n    <tr>\n      <th>6</th>\n      <td>6</td>\n      <td>7043843</td>\n      <td>TALOS</td>\n      <td>Ro-ro ship</td>\n      <td>2018</td>\n      <td>EEDI (60.41 gCO₂/t·nm)</td>\n      <td>Piraeus</td>\n      <td>Piraeus</td>\n      <td>None</td>\n      <td>25/07/2019</td>\n      <td>...</td>\n      <td>None</td>\n      <td>None</td>\n      <td>None</td>\n      <td>None</td>\n      <td>49224.2</td>\n      <td>91163.3</td>\n      <td>None</td>\n      <td>None</td>\n      <td>23.7701</td>\n      <td>None</td>\n    </tr>\n    <tr>\n      <th>15</th>\n      <td>15</td>\n      <td>7226952</td>\n      <td>FJARDVAGEN</td>\n      <td>Ro-ro ship</td>\n      <td>2018</td>\n      <td>EEDI (313.8 gCO₂/t·nm)</td>\n      <td>None</td>\n      <td>None</td>\n      <td>IA</td>\n      <td>21/05/2019</td>\n      <td>...</td>\n      <td>None</td>\n      <td>None</td>\n      <td>None</td>\n      <td>None</td>\n      <td>40288.2</td>\n      <td>74613.9</td>\n      <td>None</td>\n      <td>None</td>\n      <td>24.8862</td>\n      <td>None</td>\n    </tr>\n    <tr>\n      <th>39</th>\n      <td>39</td>\n      <td>7529964</td>\n      <td>GEROITE NA ODESSA</td>\n      <td>Ro-ro ship</td>\n      <td>2018</td>\n      <td>EIV (32.5 gCO₂/t·nm)</td>\n      <td>Varna</td>\n      <td>None</td>\n      <td>IB</td>\n      <td>31/05/2019</td>\n      <td>...</td>\n      <td>None</td>\n      <td>None</td>\n      <td>None</td>\n      <td>None</td>\n      <td>15822.5</td>\n      <td>29303.4</td>\n      <td>None</td>\n      <td>None</td>\n      <td>18.2667</td>\n      <td>None</td>\n    </tr>\n    <tr>\n      <th>40</th>\n      <td>40</td>\n      <td>7529976</td>\n      <td>GEROITE NA SEVASTOPOL</td>\n      <td>Ro-ro ship</td>\n      <td>2018</td>\n      <td>EIV (32.5 gCO₂/t·nm)</td>\n      <td>Varna</td>\n      <td>None</td>\n      <td>IB</td>\n      <td>31/05/2019</td>\n      <td>...</td>\n      <td>None</td>\n      <td>None</td>\n      <td>None</td>\n      <td>None</td>\n      <td>11477.4</td>\n      <td>21256.2</td>\n      <td>None</td>\n      <td>None</td>\n      <td>16.5744</td>\n      <td>None</td>\n    </tr>\n    <tr>\n      <th>53</th>\n      <td>53</td>\n      <td>7802067</td>\n      <td>FESTIVO</td>\n      <td>Ro-ro ship</td>\n      <td>2018</td>\n      <td>EIV (18.99 gCO₂/t·nm)</td>\n      <td>Las Palmas de Gran canaria</td>\n      <td>Malaga</td>\n      <td>IA</td>\n      <td>19/06/2019</td>\n      <td>...</td>\n      <td>None</td>\n      <td>None</td>\n      <td>None</td>\n      <td>None</td>\n      <td>47262.9</td>\n      <td>87531</td>\n      <td>None</td>\n      <td>None</td>\n      <td>18.165</td>\n      <td>None</td>\n    </tr>\n    <tr>\n      <th>...</th>\n      <td>...</td>\n      <td>...</td>\n      <td>...</td>\n      <td>...</td>\n      <td>...</td>\n      <td>...</td>\n      <td>...</td>\n      <td>...</td>\n      <td>...</td>\n      <td>...</td>\n      <td>...</td>\n      <td>...</td>\n      <td>...</td>\n      <td>...</td>\n      <td>...</td>\n      <td>...</td>\n      <td>...</td>\n      <td>...</td>\n      <td>...</td>\n      <td>...</td>\n      <td>...</td>\n    </tr>\n    <tr>\n      <th>23447</th>\n      <td>23447</td>\n      <td>9831165</td>\n      <td>SIXTINE</td>\n      <td>Ro-ro ship</td>\n      <td>2019</td>\n      <td>EEDI (9.48 gCO₂/t·nm)</td>\n      <td>Valletta</td>\n      <td>None</td>\n      <td>None</td>\n      <td>01/05/2020</td>\n      <td>...</td>\n      <td>None</td>\n      <td>None</td>\n      <td>None</td>\n      <td>None</td>\n      <td>32339.9</td>\n      <td>59893.5</td>\n      <td>None</td>\n      <td>None</td>\n      <td>26.3813</td>\n      <td>None</td>\n    </tr>\n    <tr>\n      <th>23448</th>\n      <td>23448</td>\n      <td>9831177</td>\n      <td>HERMINE</td>\n      <td>Ro-ro ship</td>\n      <td>2019</td>\n      <td>EEDI (7.28 gCO₂/t·nm)</td>\n      <td>Valletta</td>\n      <td>None</td>\n      <td>None</td>\n      <td>21/07/2020</td>\n      <td>...</td>\n      <td>None</td>\n      <td>None</td>\n      <td>None</td>\n      <td>None</td>\n      <td>33252.1</td>\n      <td>61582.9</td>\n      <td>None</td>\n      <td>None</td>\n      <td>26.0847</td>\n      <td>None</td>\n    </tr>\n    <tr>\n      <th>23470</th>\n      <td>23470</td>\n      <td>9832585</td>\n      <td>HOLLANDIA SEAWAYS</td>\n      <td>Ro-ro ship</td>\n      <td>2019</td>\n      <td>EEDI (9.34 gCO₂/t·nm)</td>\n      <td>Copenhagen</td>\n      <td>None</td>\n      <td>None</td>\n      <td>27/04/2020</td>\n      <td>...</td>\n      <td>None</td>\n      <td>None</td>\n      <td>None</td>\n      <td>None</td>\n      <td>7737.08</td>\n      <td>14329.1</td>\n      <td>None</td>\n      <td>None</td>\n      <td>31.8565</td>\n      <td>None</td>\n    </tr>\n    <tr>\n      <th>23587</th>\n      <td>23587</td>\n      <td>9848467</td>\n      <td>ALF POLLAK</td>\n      <td>Ro-ro ship</td>\n      <td>2019</td>\n      <td>EEDI (12.3 gCO₂/t·nm)</td>\n      <td>Cagliari</td>\n      <td>None</td>\n      <td>None</td>\n      <td>30/04/2020</td>\n      <td>...</td>\n      <td>None</td>\n      <td>None</td>\n      <td>None</td>\n      <td>None</td>\n      <td>121683</td>\n      <td>225356</td>\n      <td>None</td>\n      <td>None</td>\n      <td>34.1563</td>\n      <td>None</td>\n    </tr>\n    <tr>\n      <th>23588</th>\n      <td>23588</td>\n      <td>9848479</td>\n      <td>MARIA GRAZIA ONORATO</td>\n      <td>Ro-ro ship</td>\n      <td>2019</td>\n      <td>EEDI (11.9 gCO₂/t·nm)</td>\n      <td>None</td>\n      <td>None</td>\n      <td>None</td>\n      <td>30/04/2020</td>\n      <td>...</td>\n      <td>None</td>\n      <td>None</td>\n      <td>None</td>\n      <td>None</td>\n      <td>59501.1</td>\n      <td>110196</td>\n      <td>None</td>\n      <td>None</td>\n      <td>31.0955</td>\n      <td>None</td>\n    </tr>\n  </tbody>\n</table>\n<p>523 rows × 69 columns</p>\n</div>"
     },
     "metadata": {},
     "execution_count": 13
    }
   ],
   "source": [
    "df_thetis[df_thetis.ship_type == \"Ro-pax ship\"]"
   ]
  },
  {
   "cell_type": "code",
   "execution_count": null,
   "metadata": {},
   "outputs": [],
   "source": []
  }
 ],
 "metadata": {
  "kernelspec": {
   "display_name": "Python 3",
   "language": "python",
   "name": "python3"
  },
  "language_info": {
   "codemirror_mode": {
    "name": "ipython",
    "version": 3
   },
   "file_extension": ".py",
   "mimetype": "text/x-python",
   "name": "python",
   "nbconvert_exporter": "python",
   "pygments_lexer": "ipython3",
   "version": "3.8.5-final"
  }
 },
 "nbformat": 4,
 "nbformat_minor": 4
}