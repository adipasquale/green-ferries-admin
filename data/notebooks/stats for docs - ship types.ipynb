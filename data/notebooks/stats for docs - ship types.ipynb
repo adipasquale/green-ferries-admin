{
 "cells": [
  {
   "cell_type": "code",
   "execution_count": 1,
   "metadata": {},
   "outputs": [],
   "source": [
    "import os\n",
    "import json\n",
    "import re\n",
    "import pandas as pd\n",
    "import numpy as np"
   ]
  },
  {
   "cell_type": "code",
   "execution_count": 2,
   "metadata": {},
   "outputs": [],
   "source": [
    "DIRNAME = os.path.abspath('')\n",
    "THETIS_CSV_PATH = os.path.join(DIRNAME, \"../files_computed/thetis_all_with_computed.csv\")\n",
    "WIKIDATA_SHIPS_CSV_PATH = os.path.join(DIRNAME, \"../files_original/original.wikidata.ships.csv\")\n",
    "WIKIDATA_URLS_CSV_PATH = os.path.join(DIRNAME, \"../files_original/original.wikidata.urls.csv\")\n",
    "WWW_DATA_SHIP_TYPES_PATH = os.path.join(DIRNAME, \"../../www/views/doc/ship_types.11tydata.json\")\n",
    "WWW_SHIPS_DATA_PATH = os.path.join(DIRNAME, \"../../www/views/ships\")"
   ]
  },
  {
   "cell_type": "code",
   "execution_count": 3,
   "metadata": {},
   "outputs": [],
   "source": [
    "df_thetis = pd.read_csv(THETIS_CSV_PATH, usecols=[\"imo\", 'name', \"ship_type\"], dtype={\"imo\": str}).replace({np.nan: None}).groupby('imo').agg('first')"
   ]
  },
  {
   "cell_type": "code",
   "execution_count": 4,
   "metadata": {},
   "outputs": [
    {
     "output_type": "execute_result",
     "data": {
      "text/plain": [
       "Bulk carrier                  4871\n",
       "Oil tanker                    2333\n",
       "Container ship                2109\n",
       "Chemical tanker               1615\n",
       "General cargo ship            1347\n",
       "Vehicle carrier                488\n",
       "Gas carrier                    416\n",
       "Ro-pax ship                    384\n",
       "Ro-ro ship                     289\n",
       "LNG carrier                    282\n",
       "Passenger ship                 190\n",
       "Refrigerated cargo carrier     163\n",
       "Other ship types               153\n",
       "Container/ro-ro cargo ship      83\n",
       "Combination carrier             12\n",
       "Name: ship_type, dtype: int64"
      ]
     },
     "metadata": {},
     "execution_count": 4
    }
   ],
   "source": [
    "ship_types = df_thetis[\"ship_type\"].value_counts()\n",
    "ship_types"
   ]
  },
  {
   "cell_type": "code",
   "execution_count": 5,
   "metadata": {},
   "outputs": [
    {
     "output_type": "stream",
     "name": "stdout",
     "text": [
      "found 574 passenger ships in THETIS \n"
     ]
    }
   ],
   "source": [
    "df_thetis_filtered = df_thetis[df_thetis.ship_type.isin([\"Ro-pax ship\", \"Passenger ship\"])]\n",
    "thetis_passenger_ships_count = df_thetis_filtered.shape[0]\n",
    "print(f\"found {thetis_passenger_ships_count} passenger ships in THETIS \")"
   ]
  },
  {
   "cell_type": "code",
   "execution_count": 6,
   "metadata": {},
   "outputs": [
    {
     "output_type": "stream",
     "name": "stdout",
     "text": [
      "found 6498 ships in wikidata\n"
     ]
    },
    {
     "output_type": "execute_result",
     "data": {
      "text/plain": [
       "                                      wikidataUrl_x           mmsi  \\\n",
       "imo                                                                  \n",
       "0516298  {http://www.wikidata.org/entity/Q28803281}          {nan}   \n",
       "0896800   {http://www.wikidata.org/entity/Q2123498}          {nan}   \n",
       "1000150  {http://www.wikidata.org/entity/Q58623059}  {232398000.0}   \n",
       "1000356   {http://www.wikidata.org/entity/Q1511990}     {nan, nan}   \n",
       "1000447  {http://www.wikidata.org/entity/Q18888436}          {nan}   \n",
       "\n",
       "                           shipTypes countryCode  \\\n",
       "imo                                                \n",
       "0516298                 {cargo ship}       {nan}   \n",
       "0896800                    {tugboat}       {nan}   \n",
       "1000150      {three-masted schooner}       {nan}   \n",
       "1000356                 {motor ship}       {nan}   \n",
       "1000447  {motor yacht, luxury yacht}       {nan}   \n",
       "\n",
       "                                                  imageUrl    beam   draft  \\\n",
       "imo                                                                          \n",
       "0516298                                              {nan}   {nan}   {nan}   \n",
       "0896800  {http://commons.wikimedia.org/wiki/Special:Fil...   {nan}   {nan}   \n",
       "1000150  {http://commons.wikimedia.org/wiki/Special:Fil...   {nan}  {4.09}   \n",
       "1000356                                              {nan}  {13.0}   {3.6}   \n",
       "1000447  {http://commons.wikimedia.org/wiki/Special:Fil...   {nan}   {nan}   \n",
       "\n",
       "        maximumCapacity   length       width  ... operatorUrl  \\\n",
       "imo                                           ...               \n",
       "0516298           {nan}    {nan}       {nan}  ...       {nan}   \n",
       "0896800           {nan}  {35.26}      {7.45}  ...       {nan}   \n",
       "1000150           {nan}   {65.0}       {nan}  ...       {nan}   \n",
       "1000356           {nan}   {82.0}  {nan, nan}  ...       {nan}   \n",
       "1000447           {nan}   {43.8}       {nan}  ...       {nan}   \n",
       "\n",
       "        operatorCountryCode operatorName manufacturerUrl  \\\n",
       "imo                                                        \n",
       "0516298               {nan}        {nan}           {nan}   \n",
       "0896800               {nan}        {nan}           {nan}   \n",
       "1000150               {nan}        {nan}           {nan}   \n",
       "1000356               {nan}        {nan}           {nan}   \n",
       "1000447               {nan}        {nan}           {nan}   \n",
       "\n",
       "        manufacturerCountryCode manufacturerName wikidataUrl_y  \\\n",
       "imo                                                              \n",
       "0516298                   {nan}            {nan}       {13162}   \n",
       "0896800                   {nan}            {nan}       {16405}   \n",
       "1000150                   {nan}            {nan}       {18422}   \n",
       "1000356                   {nan}            {nan}  {9672, 9671}   \n",
       "1000447                   {nan}            {nan}       {11542}   \n",
       "\n",
       "                                               item  \\\n",
       "imo                                                   \n",
       "0516298  {http://www.wikidata.org/entity/Q28803281}   \n",
       "0896800   {http://www.wikidata.org/entity/Q2123498}   \n",
       "1000150  {http://www.wikidata.org/entity/Q58623059}   \n",
       "1000356   {http://www.wikidata.org/entity/Q1511990}   \n",
       "1000447  {http://www.wikidata.org/entity/Q18888436}   \n",
       "\n",
       "                                              wikipediaUrl wikipediaLang  \n",
       "imo                                                                       \n",
       "0516298       {https://en.wikipedia.org/wiki/SS_Hazelbank}          {en}  \n",
       "0896800  {https://nl.wikipedia.org/wiki/Hudson_(schip,_...          {nl}  \n",
       "1000150               {https://fr.wikipedia.org/wiki/Adix}          {fr}  \n",
       "1000356  {https://fr.wikipedia.org/wiki/Basrah_Breeze, ...      {fr, de}  \n",
       "1000447    {https://en.wikipedia.org/wiki/Va_Bene_(yacht)}          {en}  \n",
       "\n",
       "[5 rows x 27 columns]"
      ],
      "text/html": "<div>\n<style scoped>\n    .dataframe tbody tr th:only-of-type {\n        vertical-align: middle;\n    }\n\n    .dataframe tbody tr th {\n        vertical-align: top;\n    }\n\n    .dataframe thead th {\n        text-align: right;\n    }\n</style>\n<table border=\"1\" class=\"dataframe\">\n  <thead>\n    <tr style=\"text-align: right;\">\n      <th></th>\n      <th>wikidataUrl_x</th>\n      <th>mmsi</th>\n      <th>shipTypes</th>\n      <th>countryCode</th>\n      <th>imageUrl</th>\n      <th>beam</th>\n      <th>draft</th>\n      <th>maximumCapacity</th>\n      <th>length</th>\n      <th>width</th>\n      <th>...</th>\n      <th>operatorUrl</th>\n      <th>operatorCountryCode</th>\n      <th>operatorName</th>\n      <th>manufacturerUrl</th>\n      <th>manufacturerCountryCode</th>\n      <th>manufacturerName</th>\n      <th>wikidataUrl_y</th>\n      <th>item</th>\n      <th>wikipediaUrl</th>\n      <th>wikipediaLang</th>\n    </tr>\n    <tr>\n      <th>imo</th>\n      <th></th>\n      <th></th>\n      <th></th>\n      <th></th>\n      <th></th>\n      <th></th>\n      <th></th>\n      <th></th>\n      <th></th>\n      <th></th>\n      <th></th>\n      <th></th>\n      <th></th>\n      <th></th>\n      <th></th>\n      <th></th>\n      <th></th>\n      <th></th>\n      <th></th>\n      <th></th>\n      <th></th>\n    </tr>\n  </thead>\n  <tbody>\n    <tr>\n      <th>0516298</th>\n      <td>{http://www.wikidata.org/entity/Q28803281}</td>\n      <td>{nan}</td>\n      <td>{cargo ship}</td>\n      <td>{nan}</td>\n      <td>{nan}</td>\n      <td>{nan}</td>\n      <td>{nan}</td>\n      <td>{nan}</td>\n      <td>{nan}</td>\n      <td>{nan}</td>\n      <td>...</td>\n      <td>{nan}</td>\n      <td>{nan}</td>\n      <td>{nan}</td>\n      <td>{nan}</td>\n      <td>{nan}</td>\n      <td>{nan}</td>\n      <td>{13162}</td>\n      <td>{http://www.wikidata.org/entity/Q28803281}</td>\n      <td>{https://en.wikipedia.org/wiki/SS_Hazelbank}</td>\n      <td>{en}</td>\n    </tr>\n    <tr>\n      <th>0896800</th>\n      <td>{http://www.wikidata.org/entity/Q2123498}</td>\n      <td>{nan}</td>\n      <td>{tugboat}</td>\n      <td>{nan}</td>\n      <td>{http://commons.wikimedia.org/wiki/Special:Fil...</td>\n      <td>{nan}</td>\n      <td>{nan}</td>\n      <td>{nan}</td>\n      <td>{35.26}</td>\n      <td>{7.45}</td>\n      <td>...</td>\n      <td>{nan}</td>\n      <td>{nan}</td>\n      <td>{nan}</td>\n      <td>{nan}</td>\n      <td>{nan}</td>\n      <td>{nan}</td>\n      <td>{16405}</td>\n      <td>{http://www.wikidata.org/entity/Q2123498}</td>\n      <td>{https://nl.wikipedia.org/wiki/Hudson_(schip,_...</td>\n      <td>{nl}</td>\n    </tr>\n    <tr>\n      <th>1000150</th>\n      <td>{http://www.wikidata.org/entity/Q58623059}</td>\n      <td>{232398000.0}</td>\n      <td>{three-masted schooner}</td>\n      <td>{nan}</td>\n      <td>{http://commons.wikimedia.org/wiki/Special:Fil...</td>\n      <td>{nan}</td>\n      <td>{4.09}</td>\n      <td>{nan}</td>\n      <td>{65.0}</td>\n      <td>{nan}</td>\n      <td>...</td>\n      <td>{nan}</td>\n      <td>{nan}</td>\n      <td>{nan}</td>\n      <td>{nan}</td>\n      <td>{nan}</td>\n      <td>{nan}</td>\n      <td>{18422}</td>\n      <td>{http://www.wikidata.org/entity/Q58623059}</td>\n      <td>{https://fr.wikipedia.org/wiki/Adix}</td>\n      <td>{fr}</td>\n    </tr>\n    <tr>\n      <th>1000356</th>\n      <td>{http://www.wikidata.org/entity/Q1511990}</td>\n      <td>{nan, nan}</td>\n      <td>{motor ship}</td>\n      <td>{nan}</td>\n      <td>{nan}</td>\n      <td>{13.0}</td>\n      <td>{3.6}</td>\n      <td>{nan}</td>\n      <td>{82.0}</td>\n      <td>{nan, nan}</td>\n      <td>...</td>\n      <td>{nan}</td>\n      <td>{nan}</td>\n      <td>{nan}</td>\n      <td>{nan}</td>\n      <td>{nan}</td>\n      <td>{nan}</td>\n      <td>{9672, 9671}</td>\n      <td>{http://www.wikidata.org/entity/Q1511990}</td>\n      <td>{https://fr.wikipedia.org/wiki/Basrah_Breeze, ...</td>\n      <td>{fr, de}</td>\n    </tr>\n    <tr>\n      <th>1000447</th>\n      <td>{http://www.wikidata.org/entity/Q18888436}</td>\n      <td>{nan}</td>\n      <td>{motor yacht, luxury yacht}</td>\n      <td>{nan}</td>\n      <td>{http://commons.wikimedia.org/wiki/Special:Fil...</td>\n      <td>{nan}</td>\n      <td>{nan}</td>\n      <td>{nan}</td>\n      <td>{43.8}</td>\n      <td>{nan}</td>\n      <td>...</td>\n      <td>{nan}</td>\n      <td>{nan}</td>\n      <td>{nan}</td>\n      <td>{nan}</td>\n      <td>{nan}</td>\n      <td>{nan}</td>\n      <td>{11542}</td>\n      <td>{http://www.wikidata.org/entity/Q18888436}</td>\n      <td>{https://en.wikipedia.org/wiki/Va_Bene_(yacht)}</td>\n      <td>{en}</td>\n    </tr>\n  </tbody>\n</table>\n<p>5 rows × 27 columns</p>\n</div>"
     },
     "metadata": {},
     "execution_count": 6
    }
   ],
   "source": [
    "df_wikidata_ships = pd.read_csv(WIKIDATA_SHIPS_CSV_PATH, dtype={\"imo\": str})\n",
    "df_wikidata_urls = pd.read_csv(WIKIDATA_URLS_CSV_PATH, dtype={\"imo\": str})\n",
    "df_wikidata = pd.merge(df_wikidata_ships, df_wikidata_urls, on=\"imo\").groupby('imo').agg(set)\n",
    "wikidata_ships_count = df_wikidata.shape[0]\n",
    "print(f\"found {wikidata_ships_count} ships in wikidata\")\n",
    "df_wikidata.head()"
   ]
  },
  {
   "cell_type": "code",
   "execution_count": 7,
   "metadata": {},
   "outputs": [
    {
     "output_type": "stream",
     "name": "stdout",
     "text": [
      "intersection of thetis and wikidata gave 497 ships.\n"
     ]
    }
   ],
   "source": [
    "df_all = pd.merge(df_thetis_filtered, df_wikidata, on=\"imo\")\n",
    "merged_ships_count = df_all.shape[0]\n",
    "print(f\"intersection of thetis and wikidata gave {merged_ships_count} ships.\")"
   ]
  },
  {
   "cell_type": "code",
   "execution_count": 8,
   "metadata": {},
   "outputs": [
    {
     "output_type": "stream",
     "name": "stdout",
     "text": [
      "wrote file to /Users/adipasquale/dev/greenferries/data/notebooks/../../www/views/doc/ship_types.11tydata.json\n"
     ]
    }
   ],
   "source": [
    "data = {}\n",
    "data[\"shipTypesValueCounts\"] = ship_types.to_dict()\n",
    "data[\"thetisPassengerShipsCount\"] = thetis_passenger_ships_count\n",
    "data[\"wikidataShipsCount\"] = wikidata_ships_count\n",
    "data[\"mergedShipsCount\"] = merged_ships_count\n",
    "with open(WWW_DATA_SHIP_TYPES_PATH, 'w') as f:\n",
    "    json.dump(data, f, indent=2)\n",
    "print(f\"wrote file to {WWW_DATA_SHIP_TYPES_PATH}\")"
   ]
  },
  {
   "cell_type": "code",
   "execution_count": null,
   "metadata": {},
   "outputs": [],
   "source": []
  }
 ],
 "metadata": {
  "kernelspec": {
   "display_name": "Python 3",
   "language": "python",
   "name": "python3"
  },
  "language_info": {
   "codemirror_mode": {
    "name": "ipython",
    "version": 3
   },
   "file_extension": ".py",
   "mimetype": "text/x-python",
   "name": "python",
   "nbconvert_exporter": "python",
   "pygments_lexer": "ipython3",
   "version": "3.8.5-final"
  }
 },
 "nbformat": 4,
 "nbformat_minor": 4
}